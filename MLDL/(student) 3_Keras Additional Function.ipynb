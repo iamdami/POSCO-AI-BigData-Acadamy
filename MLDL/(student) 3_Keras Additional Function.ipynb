{
 "cells": [
  {
   "cell_type": "markdown",
   "metadata": {},
   "source": [
    "# 3 Additional Functions with Keras\n",
    "\n",
    "- 3.1 모델 합치기 with CIFAR10\n",
    "- 3.2 데이터 증강\n",
    "- 3.3 Finetuning"
   ]
  },
  {
   "cell_type": "markdown",
   "metadata": {},
   "source": [
    "## 3.1 모델 합치기 with CIFAR10\n",
    "\n",
    "convolution과 maxpooling layer로 구성된 feature extractor 모델과\n",
    "\n",
    "fully connected layer로 구성된 ANN classifier 모델을 따로 정의하고\n",
    "\n",
    "두 모델을 합쳐서 CNN 모델을 만듬"
   ]
  },
  {
   "cell_type": "code",
   "execution_count": 1,
   "metadata": {},
   "outputs": [],
   "source": [
    "import os\n",
    "import numpy as np\n",
    "import matplotlib.pyplot as plt\n",
    "%matplotlib inline\n",
    "\n",
    "np.random.seed(4)"
   ]
  },
  {
   "cell_type": "markdown",
   "metadata": {},
   "source": [
    "### (1) 데이터셋 : CIFAR 10"
   ]
  },
  {
   "cell_type": "code",
   "execution_count": 2,
   "metadata": {},
   "outputs": [
    {
     "name": "stdout",
     "output_type": "stream",
     "text": [
      "Downloading data from https://www.cs.toronto.edu/~kriz/cifar-10-python.tar.gz\n",
      "170498071/170498071 [==============================] - 65s 0us/step\n",
      "(50000, 32, 32, 3) (50000, 1)\n",
      "label :  [6]\n",
      "(50000, 32, 32, 3) (50000, 10)\n"
     ]
    },
    {
     "data": {
      "image/png": "[encoded data removed]",
      "text/plain": [
       "<Figure size 640x480 with 1 Axes>"
      ]
     },
     "metadata": {},
     "output_type": "display_data"
    }
   ],
   "source": [
    "import tensorflow.keras.utils as utils\n",
    "from tensorflow.keras import datasets\n",
    "\n",
    "# Dataset Load\n",
    "(X_train, Y_train), (X_test, Y_test) = datasets.cifar10.load_data()\n",
    "\n",
    "# Dataset Confirm\n",
    "print(X_train.shape, Y_train.shape)\n",
    "print('label : ',Y_train[0])\n",
    "plt.imshow(X_train[0])\n",
    "\n",
    "# Dataset Preprocessing\n",
    "X_train = X_train/255.0\n",
    "X_test = X_test/255.0\n",
    "Y_train = utils.to_categorical(Y_train)\n",
    "Y_test = utils.to_categorical(Y_test)\n",
    "\n",
    "print(X_train.shape, Y_train.shape)"
   ]
  },
  {
   "cell_type": "markdown",
   "metadata": {},
   "source": [
    "### (2) 모델링"
   ]
  },
  {
   "cell_type": "code",
   "execution_count": 4,
   "metadata": {
    "tags": []
   },
   "outputs": [],
   "source": [
    "from tensorflow.keras.models import Sequential, Model\n",
    "from tensorflow.keras.layers import Input, Dense, Activation\n",
    "from tensorflow.keras.layers import Flatten, BatchNormalization, Dropout, ReLU\n",
    "from tensorflow.keras.layers import Conv2D, MaxPooling2D"
   ]
  },
  {
   "cell_type": "code",
   "execution_count": 5,
   "metadata": {},
   "outputs": [],
   "source": [
    "n_in = X_train.shape[1:]\n",
    "n_out = Y_train.shape[-1]\n",
    "\n",
    "def conv_maxpool_layers(n_in):\n",
    "    model = Sequential()\n",
    "    model.add(Conv2D(16, kernel_size=(3, 3), padding='same', activation='relu', input_shape=(n_in)))\n",
    "    model.add(Conv2D(32, kernel_size=(3, 3), padding='same', strides=(2, 2), activation='relu'))\n",
    "    model.add(MaxPooling2D(pool_size=(2, 2)))\n",
    "    model.add(Flatten())\n",
    "    model.compile(loss='categorical_crossentropy', optimizer='adam', metrics=['accuracy'])\n",
    "    return model\n",
    "\n",
    "def fc_layers(n_out):\n",
    "    model = Sequential()\n",
    "    model.add(Dense(units =128, input_shape=(2048,), activation='relu'))\n",
    "    model.add(Dense(units =n_out, activation='softmax'))\n",
    "    model.compile(loss='categorical_crossentropy', optimizer='adam', metrics=['accuracy'])\n",
    "    return model\n",
    "\n",
    "def CNN_sum(n_in, n_out):\n",
    "    \n",
    "    # Coding Time\n",
    "    \n",
    "    #각 부분 모델\n",
    "    feature_extractor=conv_maxpool_layers(n_in)\n",
    "    feature_extractor.trainable=True # .trainable : 해당 layer에 대한 학습 여부 결정\n",
    "    ann_classifier = fc_layers(n_out)\n",
    "    ann_classifier.trainable=True\n",
    "    \n",
    "    #두 모델을 합쳐 새로운 모델 정의(Functional Style)\n",
    "    x = Input(shape=n_in)\n",
    "    feature = feature_extractor(x)\n",
    "    y = ann_classifier(feature)\n",
    "    model = Model(inputs = x, outputs = y)\n",
    "    '''\n",
    "    Sequential Style\n",
    "    model = Sequential()\n",
    "    model.add(feature_extractor)\n",
    "    model.add(ann_classifier)\n",
    "    '''\n",
    "    return model"
   ]
  },
  {
   "cell_type": "code",
   "execution_count": 6,
   "metadata": {},
   "outputs": [
    {
     "name": "stdout",
     "output_type": "stream",
     "text": [
      "Metal device set to: Apple M1 Max\n",
      "Model: \"model\"\n",
      "_________________________________________________________________\n",
      " Layer (type)                Output Shape              Param #   \n",
      "=================================================================\n",
      " input_1 (InputLayer)        [(None, 32, 32, 3)]       0         \n",
      "                                                                 \n",
      " sequential (Sequential)     (None, 2048)              5088      \n",
      "                                                                 \n",
      " sequential_1 (Sequential)   (None, 10)                263562    \n",
      "                                                                 \n",
      "=================================================================\n",
      "Total params: 268,650\n",
      "Trainable params: 268,650\n",
      "Non-trainable params: 0\n",
      "_________________________________________________________________\n"
     ]
    }
   ],
   "source": [
    "model = CNN_sum(n_in, n_out)\n",
    "model.summary()"
   ]
  },
  {
   "cell_type": "markdown",
   "metadata": {},
   "source": [
    "### (3-4) 모델의 학습과정 설정 / 모델 학습"
   ]
  },
  {
   "cell_type": "code",
   "execution_count": 7,
   "metadata": {
    "scrolled": true
   },
   "outputs": [
    {
     "name": "stdout",
     "output_type": "stream",
     "text": [
      "Epoch 1/50\n"
     ]
    },
    {
     "name": "stderr",
     "output_type": "stream",
     "text": [
      "2023-04-04 10:01:45.127248: W tensorflow/tsl/platform/profile_utils/cpu_utils.cc:128] Failed to get CPU frequency: 0 Hz\n"
     ]
    },
    {
     "name": "stdout",
     "output_type": "stream",
     "text": [
      "313/313 [==============================] - 5s 13ms/step - loss: 1.6309 - accuracy: 0.4145 - val_loss: 1.4141 - val_accuracy: 0.4977\n",
      "Epoch 2/50\n",
      "313/313 [==============================] - 4s 12ms/step - loss: 1.2755 - accuracy: 0.5465 - val_loss: 1.2399 - val_accuracy: 0.5621\n",
      "Epoch 3/50\n",
      "313/313 [==============================] - 4s 13ms/step - loss: 1.1358 - accuracy: 0.6034 - val_loss: 1.1369 - val_accuracy: 0.5994\n",
      "Epoch 4/50\n",
      "313/313 [==============================] - 4s 13ms/step - loss: 1.0460 - accuracy: 0.6358 - val_loss: 1.0899 - val_accuracy: 0.6210\n",
      "Epoch 5/50\n",
      "313/313 [==============================] - 4s 13ms/step - loss: 0.9730 - accuracy: 0.6603 - val_loss: 1.0705 - val_accuracy: 0.6253\n",
      "Epoch 6/50\n",
      "313/313 [==============================] - 4s 13ms/step - loss: 0.9124 - accuracy: 0.6851 - val_loss: 1.0150 - val_accuracy: 0.6532\n",
      "Epoch 7/50\n",
      "313/313 [==============================] - 4s 13ms/step - loss: 0.8617 - accuracy: 0.7018 - val_loss: 1.0016 - val_accuracy: 0.6554\n",
      "Epoch 8/50\n",
      "313/313 [==============================] - 4s 13ms/step - loss: 0.8170 - accuracy: 0.7175 - val_loss: 1.0161 - val_accuracy: 0.6552\n",
      "Epoch 9/50\n",
      "313/313 [==============================] - 4s 13ms/step - loss: 0.7736 - accuracy: 0.7316 - val_loss: 1.0019 - val_accuracy: 0.6598\n",
      "Epoch 10/50\n",
      "313/313 [==============================] - 4s 13ms/step - loss: 0.7307 - accuracy: 0.7476 - val_loss: 1.0365 - val_accuracy: 0.6470\n",
      "Epoch 11/50\n",
      "313/313 [==============================] - 4s 13ms/step - loss: 0.6836 - accuracy: 0.7636 - val_loss: 1.0280 - val_accuracy: 0.6543\n",
      "Epoch 12/50\n",
      "313/313 [==============================] - 4s 13ms/step - loss: 0.6422 - accuracy: 0.7792 - val_loss: 1.0257 - val_accuracy: 0.6625\n",
      "Epoch 13/50\n",
      "313/313 [==============================] - 4s 13ms/step - loss: 0.6123 - accuracy: 0.7886 - val_loss: 1.0241 - val_accuracy: 0.6662\n",
      "Epoch 14/50\n",
      "313/313 [==============================] - 4s 13ms/step - loss: 0.5694 - accuracy: 0.8042 - val_loss: 1.0425 - val_accuracy: 0.6678\n",
      "Epoch 15/50\n",
      "313/313 [==============================] - 4s 13ms/step - loss: 0.5298 - accuracy: 0.8173 - val_loss: 1.0657 - val_accuracy: 0.6657\n",
      "Epoch 16/50\n",
      "313/313 [==============================] - 4s 13ms/step - loss: 0.4957 - accuracy: 0.8294 - val_loss: 1.1357 - val_accuracy: 0.6605\n",
      "Epoch 17/50\n",
      "313/313 [==============================] - 4s 13ms/step - loss: 0.4603 - accuracy: 0.8411 - val_loss: 1.1518 - val_accuracy: 0.6602\n",
      "Epoch 18/50\n",
      "313/313 [==============================] - 4s 13ms/step - loss: 0.4187 - accuracy: 0.8582 - val_loss: 1.1993 - val_accuracy: 0.6568\n",
      "Epoch 19/50\n",
      "313/313 [==============================] - 4s 13ms/step - loss: 0.3869 - accuracy: 0.8696 - val_loss: 1.2497 - val_accuracy: 0.6556\n",
      "Epoch 20/50\n",
      "313/313 [==============================] - 4s 13ms/step - loss: 0.3514 - accuracy: 0.8821 - val_loss: 1.2779 - val_accuracy: 0.6569\n",
      "Epoch 21/50\n",
      "310/313 [============================>.] - ETA: 0s - loss: 0.3188 - accuracy: 0.8928Restoring model weights from the end of the best epoch: 14.\n",
      "313/313 [==============================] - 4s 13ms/step - loss: 0.3192 - accuracy: 0.8926 - val_loss: 1.3471 - val_accuracy: 0.6521\n",
      "Epoch 21: early stopping\n"
     ]
    }
   ],
   "source": [
    "model.compile(loss='categorical_crossentropy', optimizer='adam', metrics=['accuracy'])\n",
    "\n",
    "from tensorflow.keras.callbacks import EarlyStopping\n",
    "earlystopper = EarlyStopping(monitor='val_accuracy', patience=7, verbose=1, mode='auto', restore_best_weights=True)\n",
    "history = model.fit(X_train, Y_train, batch_size=128, epochs=50, validation_split=0.2, callbacks = [earlystopper])"
   ]
  },
  {
   "cell_type": "markdown",
   "metadata": {},
   "source": [
    "### (5) 모델 평가"
   ]
  },
  {
   "cell_type": "code",
   "execution_count": 8,
   "metadata": {},
   "outputs": [
    {
     "name": "stdout",
     "output_type": "stream",
     "text": [
      "79/79 [==============================] - 1s 6ms/step - loss: 1.0527 - accuracy: 0.6656\n",
      "loss : 1.0527, accruracy : 0.6656\n"
     ]
    }
   ],
   "source": [
    "loss_and_accuracy = model.evaluate(X_test, Y_test, batch_size=128)\n",
    "print('loss : %.4f, accruracy : %.4f'%(loss_and_accuracy[0],loss_and_accuracy[1]))"
   ]
  },
  {
   "cell_type": "markdown",
   "metadata": {},
   "source": [
    "## 3.2 Image data augmentation\n",
    "케라스에서는 ImageDataGenerate 함수로 Data augmentation 기능을  제공\n",
    "\n",
    "https://keras.io/preprocessing/image/#imagedatagenerator-class"
   ]
  },
  {
   "cell_type": "markdown",
   "metadata": {},
   "source": [
    "### (1)-2 데이터 증강 적용"
   ]
  },
  {
   "cell_type": "code",
   "execution_count": 9,
   "metadata": {},
   "outputs": [],
   "source": [
    "from tensorflow.keras.preprocessing.image import ImageDataGenerator, img_to_array"
   ]
  },
  {
   "cell_type": "code",
   "execution_count": 10,
   "metadata": {
    "tags": []
   },
   "outputs": [],
   "source": [
    "datagen = ImageDataGenerator(\n",
    "    featurewise_center = False,\n",
    "    samplewise_center = False,\n",
    "    featurewise_std_normalization = False,\n",
    "    samplewise_std_normalization = False,\n",
    "    zca_whitening = False,\n",
    "    rotation_range = 2, # 회전\n",
    "    zoom_range = 0.1, # 확대 축소\n",
    "    width_shift_range = 0.1, # 수평 이동\n",
    "    height_shift_range = 0.1, # 수직 이동\n",
    "    horizontal_flip = True, # 수평 반전|\n",
    "    vertical_flip = False # 수직 반전\n",
    ")\n",
    "\n",
    "datagen.fit(X_train)"
   ]
  },
  {
   "cell_type": "markdown",
   "metadata": {
    "tags": []
   },
   "source": [
    "### (3-4) 모델의 학습과정 설정 / 모델 학습"
   ]
  },
  {
   "cell_type": "code",
   "execution_count": 11,
   "metadata": {
    "scrolled": true,
    "tags": []
   },
   "outputs": [
    {
     "name": "stdout",
     "output_type": "stream",
     "text": [
      "Epoch 1/50\n",
      "313/313 [==============================] - 9s 28ms/step - loss: 1.6957 - accuracy: 0.3938 - val_loss: 1.4332 - val_accuracy: 0.4837\n",
      "Epoch 2/50\n",
      "313/313 [==============================] - 9s 28ms/step - loss: 1.3922 - accuracy: 0.5036 - val_loss: 1.2531 - val_accuracy: 0.5641\n",
      "Epoch 3/50\n",
      "313/313 [==============================] - 9s 28ms/step - loss: 1.2803 - accuracy: 0.5438 - val_loss: 1.1830 - val_accuracy: 0.5771\n",
      "Epoch 4/50\n",
      "313/313 [==============================] - 9s 27ms/step - loss: 1.2183 - accuracy: 0.5671 - val_loss: 1.1267 - val_accuracy: 0.6027\n",
      "Epoch 5/50\n",
      "313/313 [==============================] - 9s 28ms/step - loss: 1.1656 - accuracy: 0.5907 - val_loss: 1.0724 - val_accuracy: 0.6251\n",
      "Epoch 6/50\n",
      "313/313 [==============================] - 8s 27ms/step - loss: 1.1233 - accuracy: 0.6042 - val_loss: 1.1459 - val_accuracy: 0.6013\n",
      "Epoch 7/50\n",
      "313/313 [==============================] - 9s 28ms/step - loss: 1.0898 - accuracy: 0.6160 - val_loss: 1.0470 - val_accuracy: 0.6336\n",
      "Epoch 8/50\n",
      "313/313 [==============================] - 9s 27ms/step - loss: 1.0578 - accuracy: 0.6258 - val_loss: 1.0164 - val_accuracy: 0.6438\n",
      "Epoch 9/50\n",
      "313/313 [==============================] - 9s 27ms/step - loss: 1.0359 - accuracy: 0.6353 - val_loss: 1.0106 - val_accuracy: 0.6523\n",
      "Epoch 10/50\n",
      "313/313 [==============================] - 9s 27ms/step - loss: 1.0087 - accuracy: 0.6424 - val_loss: 1.0085 - val_accuracy: 0.6522\n",
      "Epoch 11/50\n",
      "313/313 [==============================] - 9s 27ms/step - loss: 0.9886 - accuracy: 0.6539 - val_loss: 0.9519 - val_accuracy: 0.6663\n",
      "Epoch 12/50\n",
      "313/313 [==============================] - 9s 27ms/step - loss: 0.9699 - accuracy: 0.6612 - val_loss: 0.9447 - val_accuracy: 0.6705\n",
      "Epoch 13/50\n",
      "313/313 [==============================] - 9s 27ms/step - loss: 0.9480 - accuracy: 0.6643 - val_loss: 0.9612 - val_accuracy: 0.6710\n",
      "Epoch 14/50\n",
      "313/313 [==============================] - 9s 27ms/step - loss: 0.9424 - accuracy: 0.6691 - val_loss: 0.8878 - val_accuracy: 0.6940\n",
      "Epoch 15/50\n",
      "313/313 [==============================] - 8s 27ms/step - loss: 0.9229 - accuracy: 0.6762 - val_loss: 0.9019 - val_accuracy: 0.6871\n",
      "Epoch 16/50\n",
      "313/313 [==============================] - 9s 27ms/step - loss: 0.9076 - accuracy: 0.6818 - val_loss: 0.9111 - val_accuracy: 0.6856\n",
      "Epoch 17/50\n",
      "313/313 [==============================] - 9s 28ms/step - loss: 0.8979 - accuracy: 0.6849 - val_loss: 0.9168 - val_accuracy: 0.6879\n",
      "Epoch 18/50\n",
      "313/313 [==============================] - 9s 27ms/step - loss: 0.8797 - accuracy: 0.6921 - val_loss: 0.8803 - val_accuracy: 0.7009\n",
      "Epoch 19/50\n",
      "313/313 [==============================] - 9s 27ms/step - loss: 0.8686 - accuracy: 0.6944 - val_loss: 0.8927 - val_accuracy: 0.6953\n",
      "Epoch 20/50\n",
      "313/313 [==============================] - 8s 27ms/step - loss: 0.8667 - accuracy: 0.6937 - val_loss: 0.8883 - val_accuracy: 0.6977\n",
      "Epoch 21/50\n",
      "313/313 [==============================] - 8s 27ms/step - loss: 0.8488 - accuracy: 0.7036 - val_loss: 0.9575 - val_accuracy: 0.6764\n",
      "Epoch 22/50\n",
      "313/313 [==============================] - 8s 27ms/step - loss: 0.8412 - accuracy: 0.7053 - val_loss: 0.9155 - val_accuracy: 0.6926\n",
      "Epoch 23/50\n",
      "313/313 [==============================] - 8s 27ms/step - loss: 0.8282 - accuracy: 0.7090 - val_loss: 0.8662 - val_accuracy: 0.7052\n",
      "Epoch 24/50\n",
      "313/313 [==============================] - 9s 27ms/step - loss: 0.8217 - accuracy: 0.7107 - val_loss: 0.8765 - val_accuracy: 0.7019\n",
      "Epoch 25/50\n",
      "313/313 [==============================] - 9s 28ms/step - loss: 0.8159 - accuracy: 0.7143 - val_loss: 0.8955 - val_accuracy: 0.6964\n",
      "Epoch 26/50\n",
      "313/313 [==============================] - 9s 28ms/step - loss: 0.8057 - accuracy: 0.7177 - val_loss: 0.8775 - val_accuracy: 0.7040\n",
      "Epoch 27/50\n",
      "313/313 [==============================] - 9s 28ms/step - loss: 0.8002 - accuracy: 0.7185 - val_loss: 0.8846 - val_accuracy: 0.7040\n",
      "Epoch 28/50\n",
      "313/313 [==============================] - 9s 28ms/step - loss: 0.8001 - accuracy: 0.7199 - val_loss: 0.8498 - val_accuracy: 0.7148\n",
      "Epoch 29/50\n",
      "313/313 [==============================] - 9s 28ms/step - loss: 0.7868 - accuracy: 0.7247 - val_loss: 0.8274 - val_accuracy: 0.7204\n",
      "Epoch 30/50\n",
      "313/313 [==============================] - 9s 28ms/step - loss: 0.7835 - accuracy: 0.7251 - val_loss: 0.8332 - val_accuracy: 0.7168\n",
      "Epoch 31/50\n",
      "313/313 [==============================] - 9s 28ms/step - loss: 0.7743 - accuracy: 0.7299 - val_loss: 0.8146 - val_accuracy: 0.7222\n",
      "Epoch 32/50\n",
      "313/313 [==============================] - 9s 28ms/step - loss: 0.7716 - accuracy: 0.7298 - val_loss: 0.8280 - val_accuracy: 0.7207\n",
      "Epoch 33/50\n",
      "313/313 [==============================] - 9s 27ms/step - loss: 0.7682 - accuracy: 0.7304 - val_loss: 0.8028 - val_accuracy: 0.7277\n",
      "Epoch 34/50\n",
      "313/313 [==============================] - 9s 28ms/step - loss: 0.7558 - accuracy: 0.7342 - val_loss: 0.8116 - val_accuracy: 0.7245\n",
      "Epoch 35/50\n",
      "313/313 [==============================] - 9s 27ms/step - loss: 0.7480 - accuracy: 0.7368 - val_loss: 0.8207 - val_accuracy: 0.7241\n",
      "Epoch 36/50\n",
      "313/313 [==============================] - 9s 27ms/step - loss: 0.7428 - accuracy: 0.7386 - val_loss: 0.8742 - val_accuracy: 0.7095\n",
      "Epoch 37/50\n",
      "313/313 [==============================] - 9s 28ms/step - loss: 0.7432 - accuracy: 0.7395 - val_loss: 0.8003 - val_accuracy: 0.7306\n",
      "Epoch 38/50\n",
      "313/313 [==============================] - 9s 28ms/step - loss: 0.7358 - accuracy: 0.7454 - val_loss: 0.8245 - val_accuracy: 0.7227\n",
      "Epoch 39/50\n",
      "313/313 [==============================] - 9s 27ms/step - loss: 0.7341 - accuracy: 0.7417 - val_loss: 0.8054 - val_accuracy: 0.7336\n",
      "Epoch 40/50\n",
      "313/313 [==============================] - 9s 27ms/step - loss: 0.7301 - accuracy: 0.7432 - val_loss: 0.8484 - val_accuracy: 0.7228\n",
      "Epoch 41/50\n",
      "313/313 [==============================] - 9s 27ms/step - loss: 0.7303 - accuracy: 0.7429 - val_loss: 0.8117 - val_accuracy: 0.7257\n",
      "Epoch 42/50\n",
      "313/313 [==============================] - 9s 27ms/step - loss: 0.7211 - accuracy: 0.7473 - val_loss: 0.8238 - val_accuracy: 0.7259\n",
      "Epoch 43/50\n",
      "313/313 [==============================] - 9s 27ms/step - loss: 0.7215 - accuracy: 0.7455 - val_loss: 0.8640 - val_accuracy: 0.7175\n",
      "Epoch 44/50\n",
      "313/313 [==============================] - 9s 28ms/step - loss: 0.7118 - accuracy: 0.7489 - val_loss: 0.8337 - val_accuracy: 0.7203\n",
      "Epoch 45/50\n",
      "313/313 [==============================] - 9s 28ms/step - loss: 0.7109 - accuracy: 0.7496 - val_loss: 0.8119 - val_accuracy: 0.7311\n",
      "Epoch 46/50\n",
      "312/313 [============================>.] - ETA: 0s - loss: 0.7107 - accuracy: 0.7504Restoring model weights from the end of the best epoch: 39.\n",
      "313/313 [==============================] - 9s 28ms/step - loss: 0.7108 - accuracy: 0.7504 - val_loss: 0.8424 - val_accuracy: 0.7197\n",
      "Epoch 46: early stopping\n"
     ]
    },
    {
     "data": {
      "text/plain": [
       "<keras.callbacks.History at 0x16a98f940>"
      ]
     },
     "execution_count": 11,
     "metadata": {},
     "output_type": "execute_result"
    }
   ],
   "source": [
    "model = CNN_sum(n_in, n_out)\n",
    "model.compile(loss='categorical_crossentropy', optimizer='adam', metrics=['accuracy'])\n",
    "earlystopper = EarlyStopping(monitor='val_accuracy', patience=7, verbose=1, mode='auto', restore_best_weights=True)\n",
    "# Coding Time\n",
    "model.fit(datagen.flow(X_train[:-10000], Y_train[:-10000], batch_size = 128), \n",
    "          epochs = 50, validation_data = (X_train[-10000:], Y_train[-10000:]), verbose = 1, callbacks = [earlystopper])\n"
   ]
  },
  {
   "cell_type": "code",
   "execution_count": 12,
   "metadata": {},
   "outputs": [
    {
     "name": "stdout",
     "output_type": "stream",
     "text": [
      "79/79 [==============================] - 1s 7ms/step - loss: 0.8250 - accuracy: 0.7271\n",
      "loss : 0.8250, accruracy : 0.7271\n"
     ]
    }
   ],
   "source": [
    "loss_and_accuracy = model.evaluate(X_test, Y_test, batch_size=128)\n",
    "print('loss : %.4f, accruracy : %.4f'%(loss_and_accuracy[0],loss_and_accuracy[1]))"
   ]
  },
  {
   "cell_type": "markdown",
   "metadata": {},
   "source": [
    "## 3.3 Transfer learning\n",
    "Transfer learning을 통해 현재 쓰이고 있는 네트워크를 가져와 학습하는 방법을 배워본다(Classifier만 / Entire)"
   ]
  },
  {
   "cell_type": "markdown",
   "metadata": {},
   "source": [
    "### (2) 모델링1 : Classifier learning\n",
    "    \n",
    "사용가능 네트워크 :\n",
    "https://keras.io/api/applications/"
   ]
  },
  {
   "cell_type": "code",
   "execution_count": 13,
   "metadata": {},
   "outputs": [],
   "source": [
    "from tensorflow.keras.applications.vgg16 import VGG16, preprocess_input"
   ]
  },
  {
   "cell_type": "code",
   "execution_count": 14,
   "metadata": {},
   "outputs": [
    {
     "name": "stdout",
     "output_type": "stream",
     "text": [
      "Downloading data from https://storage.googleapis.com/tensorflow/keras-applications/vgg16/vgg16_weights_tf_dim_ordering_tf_kernels_notop.h5\n",
      "58889256/58889256 [==============================] - 2s 0us/step\n",
      "Model: \"vgg16\"\n",
      "_________________________________________________________________\n",
      " Layer (type)                Output Shape              Param #   \n",
      "=================================================================\n",
      " input_3 (InputLayer)        [(None, 32, 32, 3)]       0         \n",
      "                                                                 \n",
      " block1_conv1 (Conv2D)       (None, 32, 32, 64)        1792      \n",
      "                                                                 \n",
      " block1_conv2 (Conv2D)       (None, 32, 32, 64)        36928     \n",
      "                                                                 \n",
      " block1_pool (MaxPooling2D)  (None, 16, 16, 64)        0         \n",
      "                                                                 \n",
      " block2_conv1 (Conv2D)       (None, 16, 16, 128)       73856     \n",
      "                                                                 \n",
      " block2_conv2 (Conv2D)       (None, 16, 16, 128)       147584    \n",
      "                                                                 \n",
      " block2_pool (MaxPooling2D)  (None, 8, 8, 128)         0         \n",
      "                                                                 \n",
      " block3_conv1 (Conv2D)       (None, 8, 8, 256)         295168    \n",
      "                                                                 \n",
      " block3_conv2 (Conv2D)       (None, 8, 8, 256)         590080    \n",
      "                                                                 \n",
      " block3_conv3 (Conv2D)       (None, 8, 8, 256)         590080    \n",
      "                                                                 \n",
      " block3_pool (MaxPooling2D)  (None, 4, 4, 256)         0         \n",
      "                                                                 \n",
      " block4_conv1 (Conv2D)       (None, 4, 4, 512)         1180160   \n",
      "                                                                 \n",
      " block4_conv2 (Conv2D)       (None, 4, 4, 512)         2359808   \n",
      "                                                                 \n",
      " block4_conv3 (Conv2D)       (None, 4, 4, 512)         2359808   \n",
      "                                                                 \n",
      " block4_pool (MaxPooling2D)  (None, 2, 2, 512)         0         \n",
      "                                                                 \n",
      " block5_conv1 (Conv2D)       (None, 2, 2, 512)         2359808   \n",
      "                                                                 \n",
      " block5_conv2 (Conv2D)       (None, 2, 2, 512)         2359808   \n",
      "                                                                 \n",
      " block5_conv3 (Conv2D)       (None, 2, 2, 512)         2359808   \n",
      "                                                                 \n",
      " block5_pool (MaxPooling2D)  (None, 1, 1, 512)         0         \n",
      "                                                                 \n",
      "=================================================================\n",
      "Total params: 14,714,688\n",
      "Trainable params: 14,714,688\n",
      "Non-trainable params: 0\n",
      "_________________________________________________________________\n"
     ]
    }
   ],
   "source": [
    "# Coding Time\n",
    "base_model = VGG16(weights='imagenet', input_shape=(32,32,3), include_top=False)\n",
    "base_model.summary()"
   ]
  },
  {
   "cell_type": "code",
   "execution_count": 15,
   "metadata": {},
   "outputs": [],
   "source": [
    "# Get Feature Extroactor from VGG16\n",
    "x = base_model.output\n",
    "\n",
    "# Add Classifier\n",
    "x = Flatten()(x)\n",
    "x = Dropout(0.5)(x)\n",
    "x = Dense(256, activation='relu')(x)\n",
    "x = BatchNormalization()(x)\n",
    "predictions = Dense(Y_train.shape[1], activation='softmax')(x) #Y_train.shape[1] :10 \n",
    "\n",
    "model = Model(inputs=base_model.input, outputs=predictions)"
   ]
  },
  {
   "cell_type": "code",
   "execution_count": 16,
   "metadata": {},
   "outputs": [],
   "source": [
    "# first: train only the top layers (which were randomly initialized)\n",
    "for layer in base_model.layers:\n",
    "    layer.trainable = False"
   ]
  },
  {
   "cell_type": "code",
   "execution_count": 17,
   "metadata": {},
   "outputs": [
    {
     "name": "stdout",
     "output_type": "stream",
     "text": [
      "Model: \"model_2\"\n",
      "_________________________________________________________________\n",
      " Layer (type)                Output Shape              Param #   \n",
      "=================================================================\n",
      " input_3 (InputLayer)        [(None, 32, 32, 3)]       0         \n",
      "                                                                 \n",
      " block1_conv1 (Conv2D)       (None, 32, 32, 64)        1792      \n",
      "                                                                 \n",
      " block1_conv2 (Conv2D)       (None, 32, 32, 64)        36928     \n",
      "                                                                 \n",
      " block1_pool (MaxPooling2D)  (None, 16, 16, 64)        0         \n",
      "                                                                 \n",
      " block2_conv1 (Conv2D)       (None, 16, 16, 128)       73856     \n",
      "                                                                 \n",
      " block2_conv2 (Conv2D)       (None, 16, 16, 128)       147584    \n",
      "                                                                 \n",
      " block2_pool (MaxPooling2D)  (None, 8, 8, 128)         0         \n",
      "                                                                 \n",
      " block3_conv1 (Conv2D)       (None, 8, 8, 256)         295168    \n",
      "                                                                 \n",
      " block3_conv2 (Conv2D)       (None, 8, 8, 256)         590080    \n",
      "                                                                 \n",
      " block3_conv3 (Conv2D)       (None, 8, 8, 256)         590080    \n",
      "                                                                 \n",
      " block3_pool (MaxPooling2D)  (None, 4, 4, 256)         0         \n",
      "                                                                 \n",
      " block4_conv1 (Conv2D)       (None, 4, 4, 512)         1180160   \n",
      "                                                                 \n",
      " block4_conv2 (Conv2D)       (None, 4, 4, 512)         2359808   \n",
      "                                                                 \n",
      " block4_conv3 (Conv2D)       (None, 4, 4, 512)         2359808   \n",
      "                                                                 \n",
      " block4_pool (MaxPooling2D)  (None, 2, 2, 512)         0         \n",
      "                                                                 \n",
      " block5_conv1 (Conv2D)       (None, 2, 2, 512)         2359808   \n",
      "                                                                 \n",
      " block5_conv2 (Conv2D)       (None, 2, 2, 512)         2359808   \n",
      "                                                                 \n",
      " block5_conv3 (Conv2D)       (None, 2, 2, 512)         2359808   \n",
      "                                                                 \n",
      " block5_pool (MaxPooling2D)  (None, 1, 1, 512)         0         \n",
      "                                                                 \n",
      " flatten_2 (Flatten)         (None, 512)               0         \n",
      "                                                                 \n",
      " dropout (Dropout)           (None, 512)               0         \n",
      "                                                                 \n",
      " dense_4 (Dense)             (None, 256)               131328    \n",
      "                                                                 \n",
      " batch_normalization (BatchN  (None, 256)              1024      \n",
      " ormalization)                                                   \n",
      "                                                                 \n",
      " dense_5 (Dense)             (None, 10)                2570      \n",
      "                                                                 \n",
      "=================================================================\n",
      "Total params: 14,849,610\n",
      "Trainable params: 134,410\n",
      "Non-trainable params: 14,715,200\n",
      "_________________________________________________________________\n"
     ]
    }
   ],
   "source": [
    "model.summary()"
   ]
  },
  {
   "cell_type": "markdown",
   "metadata": {},
   "source": [
    "### (3) 모델의 학습과정 설정"
   ]
  },
  {
   "cell_type": "code",
   "execution_count": 18,
   "metadata": {},
   "outputs": [],
   "source": [
    "model.compile(optimizer='adam', loss='categorical_crossentropy', metrics=['accuracy'])"
   ]
  },
  {
   "cell_type": "markdown",
   "metadata": {},
   "source": [
    "### (4) 모델 학습시키기"
   ]
  },
  {
   "cell_type": "code",
   "execution_count": 19,
   "metadata": {
    "scrolled": true
   },
   "outputs": [
    {
     "name": "stdout",
     "output_type": "stream",
     "text": [
      "Epoch 1/50\n",
      "313/313 [==============================] - 8s 22ms/step - loss: 1.7228 - accuracy: 0.4024 - val_loss: 1.3833 - val_accuracy: 0.5209\n",
      "Epoch 2/50\n",
      "313/313 [==============================] - 6s 20ms/step - loss: 1.5306 - accuracy: 0.4671 - val_loss: 1.3378 - val_accuracy: 0.5298\n",
      "Epoch 3/50\n",
      "313/313 [==============================] - 6s 20ms/step - loss: 1.4913 - accuracy: 0.4807 - val_loss: 1.3132 - val_accuracy: 0.5391\n",
      "Epoch 4/50\n",
      "313/313 [==============================] - 6s 20ms/step - loss: 1.4615 - accuracy: 0.4875 - val_loss: 1.2847 - val_accuracy: 0.5553\n",
      "Epoch 5/50\n",
      "313/313 [==============================] - 6s 19ms/step - loss: 1.4421 - accuracy: 0.4974 - val_loss: 1.2927 - val_accuracy: 0.5570\n",
      "Epoch 6/50\n",
      "313/313 [==============================] - 6s 20ms/step - loss: 1.4208 - accuracy: 0.4992 - val_loss: 1.2714 - val_accuracy: 0.5610\n",
      "Epoch 7/50\n",
      "313/313 [==============================] - 6s 20ms/step - loss: 1.4018 - accuracy: 0.5064 - val_loss: 1.2554 - val_accuracy: 0.5702\n",
      "Epoch 8/50\n",
      "313/313 [==============================] - 6s 19ms/step - loss: 1.3900 - accuracy: 0.5113 - val_loss: 1.2502 - val_accuracy: 0.5665\n",
      "Epoch 9/50\n",
      "313/313 [==============================] - 6s 19ms/step - loss: 1.3732 - accuracy: 0.5166 - val_loss: 1.2442 - val_accuracy: 0.5669\n",
      "Epoch 10/50\n",
      "313/313 [==============================] - 6s 20ms/step - loss: 1.3593 - accuracy: 0.5228 - val_loss: 1.2390 - val_accuracy: 0.5727\n",
      "Epoch 11/50\n",
      "313/313 [==============================] - 6s 20ms/step - loss: 1.3463 - accuracy: 0.5267 - val_loss: 1.2381 - val_accuracy: 0.5739\n",
      "Epoch 12/50\n",
      "313/313 [==============================] - 6s 20ms/step - loss: 1.3364 - accuracy: 0.5301 - val_loss: 1.2237 - val_accuracy: 0.5782\n",
      "Epoch 13/50\n",
      "313/313 [==============================] - 6s 19ms/step - loss: 1.3325 - accuracy: 0.5293 - val_loss: 1.2163 - val_accuracy: 0.5744\n",
      "Epoch 14/50\n",
      "313/313 [==============================] - 6s 20ms/step - loss: 1.3239 - accuracy: 0.5350 - val_loss: 1.2206 - val_accuracy: 0.5741\n",
      "Epoch 15/50\n",
      "313/313 [==============================] - 6s 19ms/step - loss: 1.3177 - accuracy: 0.5374 - val_loss: 1.2074 - val_accuracy: 0.5789\n",
      "Epoch 16/50\n",
      "313/313 [==============================] - 6s 19ms/step - loss: 1.3099 - accuracy: 0.5390 - val_loss: 1.2123 - val_accuracy: 0.5797\n",
      "Epoch 17/50\n",
      "313/313 [==============================] - 6s 19ms/step - loss: 1.3033 - accuracy: 0.5422 - val_loss: 1.2166 - val_accuracy: 0.5796\n",
      "Epoch 18/50\n",
      "313/313 [==============================] - 6s 20ms/step - loss: 1.2966 - accuracy: 0.5444 - val_loss: 1.2033 - val_accuracy: 0.5805\n",
      "Epoch 19/50\n",
      "313/313 [==============================] - 6s 20ms/step - loss: 1.2888 - accuracy: 0.5433 - val_loss: 1.2048 - val_accuracy: 0.5773\n",
      "Epoch 20/50\n",
      "313/313 [==============================] - 6s 20ms/step - loss: 1.2813 - accuracy: 0.5488 - val_loss: 1.1988 - val_accuracy: 0.5866\n",
      "Epoch 21/50\n",
      "313/313 [==============================] - 6s 19ms/step - loss: 1.2798 - accuracy: 0.5500 - val_loss: 1.1971 - val_accuracy: 0.5836\n",
      "Epoch 22/50\n",
      "313/313 [==============================] - 6s 20ms/step - loss: 1.2702 - accuracy: 0.5536 - val_loss: 1.1855 - val_accuracy: 0.5903\n",
      "Epoch 23/50\n",
      "313/313 [==============================] - 6s 19ms/step - loss: 1.2680 - accuracy: 0.5515 - val_loss: 1.1824 - val_accuracy: 0.5959\n",
      "Epoch 24/50\n",
      "313/313 [==============================] - 6s 20ms/step - loss: 1.2660 - accuracy: 0.5530 - val_loss: 1.1920 - val_accuracy: 0.5880\n",
      "Epoch 25/50\n",
      "313/313 [==============================] - 6s 19ms/step - loss: 1.2619 - accuracy: 0.5567 - val_loss: 1.1757 - val_accuracy: 0.5932\n",
      "Epoch 26/50\n",
      "313/313 [==============================] - 6s 19ms/step - loss: 1.2609 - accuracy: 0.5531 - val_loss: 1.1964 - val_accuracy: 0.5880\n",
      "Epoch 27/50\n",
      "313/313 [==============================] - 6s 19ms/step - loss: 1.2520 - accuracy: 0.5575 - val_loss: 1.1848 - val_accuracy: 0.5922\n",
      "Epoch 28/50\n",
      "313/313 [==============================] - 6s 19ms/step - loss: 1.2472 - accuracy: 0.5600 - val_loss: 1.1713 - val_accuracy: 0.5948\n",
      "Epoch 29/50\n",
      "313/313 [==============================] - 6s 20ms/step - loss: 1.2422 - accuracy: 0.5622 - val_loss: 1.1737 - val_accuracy: 0.5951\n",
      "Epoch 30/50\n",
      "312/313 [============================>.] - ETA: 0s - loss: 1.2404 - accuracy: 0.5618Restoring model weights from the end of the best epoch: 23.\n",
      "313/313 [==============================] - 6s 20ms/step - loss: 1.2405 - accuracy: 0.5618 - val_loss: 1.1708 - val_accuracy: 0.5943\n",
      "Epoch 30: early stopping\n"
     ]
    }
   ],
   "source": [
    "earlystopper = EarlyStopping(monitor='val_accuracy', patience=7, verbose=1, mode='auto', restore_best_weights=True)\n",
    "history = model.fit(X_train, Y_train, batch_size=128, epochs=50, validation_split=0.2, callbacks = [earlystopper])"
   ]
  },
  {
   "cell_type": "code",
   "execution_count": 20,
   "metadata": {},
   "outputs": [
    {
     "data": {
      "image/png": "[encoded data removed]",
      "text/plain": [
       "<Figure size 640x480 with 2 Axes>"
      ]
     },
     "metadata": {},
     "output_type": "display_data"
    }
   ],
   "source": [
    "fig, loss_ax = plt.subplots()\n",
    "acc_ax = loss_ax.twinx()\n",
    "\n",
    "loss_ax.plot(history.history['loss'], 'y', label='train loss')\n",
    "loss_ax.plot(history.history['val_loss'], 'r', label='val loss')\n",
    "\n",
    "acc_ax.plot(history.history['accuracy'], 'b', label='train acc')\n",
    "acc_ax.plot(history.history['val_accuracy'], 'g', label='val acc')\n",
    "\n",
    "loss_ax.set_xlabel('epoch')\n",
    "loss_ax.set_ylabel('loss')\n",
    "acc_ax.set_ylabel('accuray')\n",
    "\n",
    "loss_ax.legend(loc='upper left')\n",
    "acc_ax.legend(loc='lower left')\n",
    "\n",
    "plt.show()"
   ]
  },
  {
   "cell_type": "markdown",
   "metadata": {},
   "source": [
    "### (5) 모델 평가하기"
   ]
  },
  {
   "cell_type": "code",
   "execution_count": 21,
   "metadata": {
    "tags": []
   },
   "outputs": [
    {
     "name": "stdout",
     "output_type": "stream",
     "text": [
      "79/79 [==============================] - 1s 14ms/step - loss: 1.1968 - accuracy: 0.5855\n",
      "loss : 1.1968, accruracy : 0.5855\n"
     ]
    }
   ],
   "source": [
    "loss_and_accuracy = model.evaluate(X_test, Y_test, batch_size=128)\n",
    "print('loss : %.4f, accruracy : %.4f'%(loss_and_accuracy[0],loss_and_accuracy[1]))"
   ]
  },
  {
   "cell_type": "markdown",
   "metadata": {},
   "source": [
    "### (2) 모델링1 : Entire\n",
    "    \n",
    "사용가능 네트워크 :\n",
    "https://keras.io/api/applications/"
   ]
  },
  {
   "cell_type": "code",
   "execution_count": 22,
   "metadata": {},
   "outputs": [],
   "source": [
    "# Get Feature Extroactor from VGG16\n",
    "x = base_model.output\n",
    "\n",
    "# Add Classifier\n",
    "x = Flatten()(x)\n",
    "x = Dropout(0.5)(x)\n",
    "x = Dense(256, activation='relu')(x)\n",
    "x = BatchNormalization()(x)\n",
    "#x = Dense(128, activation='relu')(x) \n",
    "predictions = Dense(Y_train.shape[1], activation='softmax')(x) #Y_train.shape[1] :10 \n",
    "\n",
    "model = Model(inputs=base_model.input, outputs=predictions)"
   ]
  },
  {
   "cell_type": "code",
   "execution_count": 23,
   "metadata": {},
   "outputs": [],
   "source": [
    "# first: train the all layers (which were randomly initialized)\n",
    "for layer in base_model.layers:\n",
    "    layer.trainable = True"
   ]
  },
  {
   "cell_type": "code",
   "execution_count": 24,
   "metadata": {
    "tags": []
   },
   "outputs": [
    {
     "name": "stdout",
     "output_type": "stream",
     "text": [
      "Model: \"model_3\"\n",
      "_________________________________________________________________\n",
      " Layer (type)                Output Shape              Param #   \n",
      "=================================================================\n",
      " input_3 (InputLayer)        [(None, 32, 32, 3)]       0         \n",
      "                                                                 \n",
      " block1_conv1 (Conv2D)       (None, 32, 32, 64)        1792      \n",
      "                                                                 \n",
      " block1_conv2 (Conv2D)       (None, 32, 32, 64)        36928     \n",
      "                                                                 \n",
      " block1_pool (MaxPooling2D)  (None, 16, 16, 64)        0         \n",
      "                                                                 \n",
      " block2_conv1 (Conv2D)       (None, 16, 16, 128)       73856     \n",
      "                                                                 \n",
      " block2_conv2 (Conv2D)       (None, 16, 16, 128)       147584    \n",
      "                                                                 \n",
      " block2_pool (MaxPooling2D)  (None, 8, 8, 128)         0         \n",
      "                                                                 \n",
      " block3_conv1 (Conv2D)       (None, 8, 8, 256)         295168    \n",
      "                                                                 \n",
      " block3_conv2 (Conv2D)       (None, 8, 8, 256)         590080    \n",
      "                                                                 \n",
      " block3_conv3 (Conv2D)       (None, 8, 8, 256)         590080    \n",
      "                                                                 \n",
      " block3_pool (MaxPooling2D)  (None, 4, 4, 256)         0         \n",
      "                                                                 \n",
      " block4_conv1 (Conv2D)       (None, 4, 4, 512)         1180160   \n",
      "                                                                 \n",
      " block4_conv2 (Conv2D)       (None, 4, 4, 512)         2359808   \n",
      "                                                                 \n",
      " block4_conv3 (Conv2D)       (None, 4, 4, 512)         2359808   \n",
      "                                                                 \n",
      " block4_pool (MaxPooling2D)  (None, 2, 2, 512)         0         \n",
      "                                                                 \n",
      " block5_conv1 (Conv2D)       (None, 2, 2, 512)         2359808   \n",
      "                                                                 \n",
      " block5_conv2 (Conv2D)       (None, 2, 2, 512)         2359808   \n",
      "                                                                 \n",
      " block5_conv3 (Conv2D)       (None, 2, 2, 512)         2359808   \n",
      "                                                                 \n",
      " block5_pool (MaxPooling2D)  (None, 1, 1, 512)         0         \n",
      "                                                                 \n",
      " flatten_3 (Flatten)         (None, 512)               0         \n",
      "                                                                 \n",
      " dropout_1 (Dropout)         (None, 512)               0         \n",
      "                                                                 \n",
      " dense_6 (Dense)             (None, 256)               131328    \n",
      "                                                                 \n",
      " batch_normalization_1 (Batc  (None, 256)              1024      \n",
      " hNormalization)                                                 \n",
      "                                                                 \n",
      " dense_7 (Dense)             (None, 10)                2570      \n",
      "                                                                 \n",
      "=================================================================\n",
      "Total params: 14,849,610\n",
      "Trainable params: 14,849,098\n",
      "Non-trainable params: 512\n",
      "_________________________________________________________________\n"
     ]
    }
   ],
   "source": [
    "model.summary()"
   ]
  },
  {
   "cell_type": "markdown",
   "metadata": {},
   "source": [
    "### (3) 모델의 학습과정 설정"
   ]
  },
  {
   "cell_type": "code",
   "execution_count": 25,
   "metadata": {},
   "outputs": [],
   "source": [
    "model.compile(optimizer='adam', loss='categorical_crossentropy', metrics=['accuracy'])"
   ]
  },
  {
   "cell_type": "markdown",
   "metadata": {},
   "source": [
    "### (4) 모델 학습시키기"
   ]
  },
  {
   "cell_type": "code",
   "execution_count": 26,
   "metadata": {
    "scrolled": true
   },
   "outputs": [
    {
     "name": "stdout",
     "output_type": "stream",
     "text": [
      "Epoch 1/50\n",
      "313/313 [==============================] - 18s 54ms/step - loss: 1.9868 - accuracy: 0.1958 - val_loss: 1.7720 - val_accuracy: 0.2603\n",
      "Epoch 2/50\n",
      "313/313 [==============================] - 17s 53ms/step - loss: 1.6492 - accuracy: 0.3098 - val_loss: 1.7886 - val_accuracy: 0.3088\n",
      "Epoch 3/50\n",
      "313/313 [==============================] - 16s 53ms/step - loss: 1.3989 - accuracy: 0.4421 - val_loss: 1.3139 - val_accuracy: 0.4884\n",
      "Epoch 4/50\n",
      "313/313 [==============================] - 16s 52ms/step - loss: 1.1938 - accuracy: 0.5493 - val_loss: 1.1915 - val_accuracy: 0.5723\n",
      "Epoch 5/50\n",
      "313/313 [==============================] - 17s 53ms/step - loss: 1.0123 - accuracy: 0.6297 - val_loss: 1.1279 - val_accuracy: 0.6069\n",
      "Epoch 6/50\n",
      "313/313 [==============================] - 16s 52ms/step - loss: 0.8001 - accuracy: 0.7125 - val_loss: 0.9691 - val_accuracy: 0.6703\n",
      "Epoch 7/50\n",
      "313/313 [==============================] - 16s 52ms/step - loss: 0.6587 - accuracy: 0.7686 - val_loss: 0.9202 - val_accuracy: 0.6859\n",
      "Epoch 8/50\n",
      "313/313 [==============================] - 17s 53ms/step - loss: 0.5497 - accuracy: 0.8095 - val_loss: 0.7279 - val_accuracy: 0.7673\n",
      "Epoch 9/50\n",
      "313/313 [==============================] - 16s 52ms/step - loss: 0.4469 - accuracy: 0.8480 - val_loss: 0.7832 - val_accuracy: 0.7715\n",
      "Epoch 10/50\n",
      "313/313 [==============================] - 17s 53ms/step - loss: 0.3593 - accuracy: 0.8778 - val_loss: 0.8283 - val_accuracy: 0.7598\n",
      "Epoch 11/50\n",
      "313/313 [==============================] - 16s 53ms/step - loss: 0.2938 - accuracy: 0.9015 - val_loss: 0.7425 - val_accuracy: 0.7881\n",
      "Epoch 12/50\n",
      "313/313 [==============================] - 16s 52ms/step - loss: 0.2425 - accuracy: 0.9191 - val_loss: 0.8257 - val_accuracy: 0.7806\n",
      "Epoch 13/50\n",
      "313/313 [==============================] - 16s 53ms/step - loss: 0.1931 - accuracy: 0.9347 - val_loss: 1.0260 - val_accuracy: 0.7429\n",
      "Epoch 14/50\n",
      "313/313 [==============================] - 16s 52ms/step - loss: 0.1607 - accuracy: 0.9473 - val_loss: 0.8305 - val_accuracy: 0.7951\n",
      "Epoch 15/50\n",
      "313/313 [==============================] - 16s 53ms/step - loss: 0.1225 - accuracy: 0.9602 - val_loss: 0.9743 - val_accuracy: 0.7846\n",
      "Epoch 16/50\n",
      "313/313 [==============================] - 16s 53ms/step - loss: 0.1290 - accuracy: 0.9588 - val_loss: 1.2805 - val_accuracy: 0.7578\n",
      "Epoch 17/50\n",
      "313/313 [==============================] - 16s 52ms/step - loss: 0.0995 - accuracy: 0.9676 - val_loss: 1.0373 - val_accuracy: 0.7765\n",
      "Epoch 18/50\n",
      "313/313 [==============================] - 17s 53ms/step - loss: 0.0949 - accuracy: 0.9695 - val_loss: 1.2556 - val_accuracy: 0.7425\n",
      "Epoch 19/50\n",
      "313/313 [==============================] - 16s 52ms/step - loss: 0.0966 - accuracy: 0.9698 - val_loss: 0.9526 - val_accuracy: 0.7978\n",
      "Epoch 20/50\n",
      "313/313 [==============================] - 16s 52ms/step - loss: 0.0724 - accuracy: 0.9770 - val_loss: 0.9658 - val_accuracy: 0.8004\n",
      "Epoch 21/50\n",
      "313/313 [==============================] - 16s 52ms/step - loss: 0.0791 - accuracy: 0.9747 - val_loss: 1.1089 - val_accuracy: 0.8010\n",
      "Epoch 22/50\n",
      "313/313 [==============================] - 16s 52ms/step - loss: 0.0791 - accuracy: 0.9753 - val_loss: 1.1137 - val_accuracy: 0.7697\n",
      "Epoch 23/50\n",
      "313/313 [==============================] - 16s 52ms/step - loss: 0.0644 - accuracy: 0.9796 - val_loss: 1.0994 - val_accuracy: 0.7979\n",
      "Epoch 24/50\n",
      "313/313 [==============================] - 16s 52ms/step - loss: 0.1180 - accuracy: 0.9632 - val_loss: 0.9816 - val_accuracy: 0.7953\n",
      "Epoch 25/50\n",
      "313/313 [==============================] - 16s 52ms/step - loss: 0.0594 - accuracy: 0.9826 - val_loss: 1.1641 - val_accuracy: 0.7896\n",
      "Epoch 26/50\n",
      "313/313 [==============================] - 16s 52ms/step - loss: 0.0485 - accuracy: 0.9856 - val_loss: 1.0484 - val_accuracy: 0.7996\n",
      "Epoch 27/50\n",
      "313/313 [==============================] - 16s 52ms/step - loss: 0.0461 - accuracy: 0.9857 - val_loss: 1.0622 - val_accuracy: 0.7996\n",
      "Epoch 28/50\n",
      "313/313 [==============================] - 16s 52ms/step - loss: 0.0562 - accuracy: 0.9830 - val_loss: 1.0842 - val_accuracy: 0.8034\n",
      "Epoch 29/50\n",
      "313/313 [==============================] - 16s 52ms/step - loss: 0.0521 - accuracy: 0.9840 - val_loss: 1.0270 - val_accuracy: 0.7960\n",
      "Epoch 30/50\n",
      "313/313 [==============================] - 16s 52ms/step - loss: 0.0462 - accuracy: 0.9859 - val_loss: 0.9897 - val_accuracy: 0.7945\n",
      "Epoch 31/50\n",
      "313/313 [==============================] - 16s 53ms/step - loss: 0.0401 - accuracy: 0.9878 - val_loss: 1.0408 - val_accuracy: 0.8112\n",
      "Epoch 32/50\n",
      "313/313 [==============================] - 16s 53ms/step - loss: 0.0500 - accuracy: 0.9844 - val_loss: 1.0545 - val_accuracy: 0.7913\n",
      "Epoch 33/50\n",
      "313/313 [==============================] - 16s 52ms/step - loss: 0.0532 - accuracy: 0.9835 - val_loss: 1.1628 - val_accuracy: 0.7928\n",
      "Epoch 34/50\n",
      "313/313 [==============================] - 16s 52ms/step - loss: 0.0453 - accuracy: 0.9857 - val_loss: 1.1215 - val_accuracy: 0.7992\n",
      "Epoch 35/50\n",
      "313/313 [==============================] - 16s 52ms/step - loss: 0.0404 - accuracy: 0.9874 - val_loss: 1.0337 - val_accuracy: 0.8062\n",
      "Epoch 36/50\n",
      "313/313 [==============================] - 16s 52ms/step - loss: 0.0471 - accuracy: 0.9856 - val_loss: 1.1044 - val_accuracy: 0.8003\n",
      "Epoch 37/50\n",
      "313/313 [==============================] - 16s 52ms/step - loss: 0.0387 - accuracy: 0.9881 - val_loss: 1.2001 - val_accuracy: 0.7869\n",
      "Epoch 38/50\n",
      "312/313 [============================>.] - ETA: 0s - loss: 0.0456 - accuracy: 0.9868Restoring model weights from the end of the best epoch: 31.\n",
      "313/313 [==============================] - 16s 52ms/step - loss: 0.0456 - accuracy: 0.9868 - val_loss: 0.9821 - val_accuracy: 0.8100\n",
      "Epoch 38: early stopping\n"
     ]
    }
   ],
   "source": [
    "earlystopper = EarlyStopping(monitor='val_accuracy', patience=7, verbose=1, mode='auto', restore_best_weights=True)\n",
    "history = model.fit(X_train, Y_train, batch_size=128, epochs=50, validation_split=0.2, callbacks = [earlystopper])"
   ]
  },
  {
   "cell_type": "code",
   "execution_count": 27,
   "metadata": {},
   "outputs": [
    {
     "data": {
      "image/png": "[encoded data removed]",
      "text/plain": [
       "<Figure size 640x480 with 2 Axes>"
      ]
     },
     "metadata": {},
     "output_type": "display_data"
    }
   ],
   "source": [
    "fig, loss_ax = plt.subplots()\n",
    "acc_ax = loss_ax.twinx()\n",
    "\n",
    "loss_ax.plot(history.history['loss'], 'y', label='train loss')\n",
    "loss_ax.plot(history.history['val_loss'], 'r', label='val loss')\n",
    "\n",
    "acc_ax.plot(history.history['accuracy'], 'b', label='train acc')\n",
    "acc_ax.plot(history.history['val_accuracy'], 'g', label='val acc')\n",
    "\n",
    "loss_ax.set_xlabel('epoch')\n",
    "loss_ax.set_ylabel('loss')\n",
    "acc_ax.set_ylabel('accuray')\n",
    "\n",
    "loss_ax.legend(loc='upper left')\n",
    "acc_ax.legend(loc='lower left')\n",
    "\n",
    "plt.show()"
   ]
  },
  {
   "cell_type": "markdown",
   "metadata": {},
   "source": [
    "### (5) 모델 평가하기"
   ]
  },
  {
   "cell_type": "code",
   "execution_count": 28,
   "metadata": {},
   "outputs": [
    {
     "name": "stdout",
     "output_type": "stream",
     "text": [
      "79/79 [==============================] - 1s 14ms/step - loss: 1.0576 - accuracy: 0.8074\n",
      "loss : 1.0576, accruracy : 0.8074\n"
     ]
    }
   ],
   "source": [
    "loss_and_accuracy = model.evaluate(X_test, Y_test, batch_size=128)\n",
    "print('loss : %.4f, accruracy : %.4f'%(loss_and_accuracy[0],loss_and_accuracy[1]))"
   ]
  },
  {
   "cell_type": "markdown",
   "metadata": {},
   "source": [
    "# 3.4 Keras MNIST - 모델의 성능을 직접 높혀보자\n",
    " - CNN의 구조를 바꾸어 나만의 모델을 만들어보자\n",
    " - 목표 정확도: 99.5% 만들기\n",
    " - 바꿀 수 있는 하이퍼 파라미터: Learning Rate, Batch size, Epochs, Optimizer, Activation Function, 모델 레이어 구조, BN, DO, DA, Fine Tuning 등"
   ]
  },
  {
   "cell_type": "markdown",
   "metadata": {},
   "source": [
    "## (1) 데이터셋"
   ]
  },
  {
   "cell_type": "code",
   "execution_count": null,
   "metadata": {},
   "outputs": [],
   "source": [
    "(X_train, Y_train),(X_test, Y_test) = datasets.mnist.load_data()\n",
    "print(X_train.shape, Y_train.shape)"
   ]
  },
  {
   "cell_type": "code",
   "execution_count": null,
   "metadata": {
    "tags": []
   },
   "outputs": [],
   "source": [
    "from tensorflow.keras import backend\n",
    "backend.image_data_format()"
   ]
  },
  {
   "cell_type": "code",
   "execution_count": null,
   "metadata": {
    "tags": []
   },
   "outputs": [],
   "source": [
    "X_train = X_train.reshape(X_train.shape[0], X_train.shape[1], X_train.shape[2], 1)\n",
    "X_test = X_test.reshape(X_test.shape[0], X_test.shape[1], X_test.shape[2], 1)\n",
    "\n",
    "Y_train = utils.to_categorical(Y_train)\n",
    "Y_test = utils.to_categorical(Y_test)\n",
    "\n",
    "print(X_train.shape, Y_train.shape)\n",
    "\n",
    "n_in = X_train.shape[1:]\n",
    "n_out = Y_train.shape[-1]"
   ]
  },
  {
   "cell_type": "markdown",
   "metadata": {},
   "source": [
    "## (2) Keras 모델링"
   ]
  },
  {
   "cell_type": "code",
   "execution_count": null,
   "metadata": {},
   "outputs": [],
   "source": []
  },
  {
   "cell_type": "markdown",
   "metadata": {},
   "source": [
    "## (3) 모델의 학습과정 설정"
   ]
  },
  {
   "cell_type": "code",
   "execution_count": null,
   "metadata": {},
   "outputs": [],
   "source": []
  },
  {
   "cell_type": "markdown",
   "metadata": {
    "tags": []
   },
   "source": [
    "## (4) 모델 학습시키기"
   ]
  },
  {
   "cell_type": "code",
   "execution_count": null,
   "metadata": {},
   "outputs": [],
   "source": []
  },
  {
   "cell_type": "markdown",
   "metadata": {},
   "source": [
    "## (5) 모델 평가하기"
   ]
  },
  {
   "cell_type": "code",
   "execution_count": null,
   "metadata": {},
   "outputs": [],
   "source": []
  }
 ],
 "metadata": {
  "kernelspec": {
   "display_name": "Python 3 (ipykernel)",
   "language": "python",
   "name": "python3"
  },
  "language_info": {
   "codemirror_mode": {
    "name": "ipython",
    "version": 3
   },
   "file_extension": ".py",
   "mimetype": "text/x-python",
   "name": "python",
   "nbconvert_exporter": "python",
   "pygments_lexer": "ipython3",
   "version": "3.10.10"
  }
 },
 "nbformat": 4,
 "nbformat_minor": 4
}

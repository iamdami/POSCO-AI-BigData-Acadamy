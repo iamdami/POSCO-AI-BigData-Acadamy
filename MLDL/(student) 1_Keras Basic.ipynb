{
 "cells": [
  {
   "cell_type": "markdown",
   "metadata": {},
   "source": [
    "# 1. Keras Start\n",
    "\n",
    "- 1.1 Keras Basic(y = 3x + 10 Regression) - ANN(단층 레이어)\n",
    "- 1.2 Keras MNIST - ANN(단층 레이어)\n",
    "- 1.3 Keras MNIST - DNN(다층 레이어)"
   ]
  },
  {
   "cell_type": "code",
   "execution_count": 1,
   "metadata": {},
   "outputs": [],
   "source": [
    "# Import Libraries\n",
    "from tensorflow import keras\n",
    "import numpy as np\n",
    "import matplotlib.pyplot as plt\n",
    "%matplotlib inline"
   ]
  },
  {
   "cell_type": "markdown",
   "metadata": {},
   "source": [
    "## 1.1 Keras Basic Y = 3X + 10 ANN Regression\n",
    "- 이번 실습에서는 Keras를 이용하여 1차함수를 예측하는 학습 모델을 만들고, 성능을 평가한다."
   ]
  },
  {
   "cell_type": "markdown",
   "metadata": {},
   "source": [
    "### (1) 데이터셋 준비"
   ]
  },
  {
   "cell_type": "code",
   "execution_count": 2,
   "metadata": {},
   "outputs": [
    {
     "data": {
      "image/png": "[encoded data removed]",
      "text/plain": [
       "<Figure size 640x480 with 1 Axes>"
      ]
     },
     "metadata": {},
     "output_type": "display_data"
    }
   ],
   "source": [
    "# Training Data\n",
    "x = np.arange(20) # 0, 1, 2, 3, ...., 19\n",
    "y = x * 3 + 10 # 10, 13, 16, 19, ..., 67\n",
    "plt.plot(x,y)\n",
    "\n",
    "# Testing Data \n",
    "x_test = np.arange(50,70) # 50, 51, 52, ..., 69\n",
    "y_test = x_test * 3 + 10 # 160, 163, 166, ..., 217\n",
    "\n",
    "# Dimension of input and output\n",
    "n_in = 1\n",
    "n_out = 1"
   ]
  },
  {
   "cell_type": "markdown",
   "metadata": {},
   "source": [
    "### (2) Keras 모델링\n",
    "\n",
    "- keras.layers : 모델을 구성하기 위한 layer들이 구현되어 있는 모듈\n",
    "\n",
    "- keras.models : layer들을 묶어 모델을 정의하고 학습, 평가, 예측 등의 기능을 구현한 모듈"
   ]
  },
  {
   "cell_type": "code",
   "execution_count": 3,
   "metadata": {},
   "outputs": [],
   "source": [
    "from tensorflow.keras import layers, models"
   ]
  },
  {
   "cell_type": "markdown",
   "metadata": {},
   "source": [
    "Keras에서는 크게 Functional, Sequential 방식으로 모델을 구현\n",
    "\n",
    "- Sequential : 모델에 필요한 layer들을 순차적으로 더해가는 방식으로 구현\n",
    "- Function : 모델을 수식처럼 구현 "
   ]
  },
  {
   "cell_type": "markdown",
   "metadata": {},
   "source": [
    "<Sequential에 사용되는 Layer>\n",
    "\n",
    "- Dense : Fully Connected Layer (https://keras.io/layers/core/#dense)"
   ]
  },
  {
   "cell_type": "markdown",
   "metadata": {},
   "source": [
    "### Sequential Modeling"
   ]
  },
  {
   "cell_type": "code",
   "execution_count": 10,
   "metadata": {},
   "outputs": [],
   "source": [
    "def modeling_sequential(n_in, n_out):\n",
    "    # Coding Time\n",
    "    model = models.Sequential()\n",
    "    model.add(layers.Dense(units = n_out, input_shape = (n_in,)))\n",
    "    return model"
   ]
  },
  {
   "cell_type": "code",
   "execution_count": 11,
   "metadata": {},
   "outputs": [],
   "source": [
    "class modeling_sequential_class(models.Sequential):\n",
    "    def __init__(self, n_in, n_out):\n",
    "        \n",
    "        #멤버 변수로 모델에 사용할 변수 선언\n",
    "        self.n_in = n_in\n",
    "        self.n_out = n_out\n",
    "        \n",
    "        #상속받은 Sequential 클래스 초기화 후 레이어 추가\n",
    "        super().__init__()\n",
    "        self.add(layers.Dense(units =n_out, input_shape=(n_in,)))"
   ]
  },
  {
   "cell_type": "markdown",
   "metadata": {},
   "source": [
    "<Functional에 사용되는 Layer>\n",
    "\n",
    "- Input : 모델에 입력되는 데이터의 batch size를 제외한 shape을 결정\n",
    "\n",
    "- Dense : Fully Connected Layer (https://keras.io/layers/core/#dense)"
   ]
  },
  {
   "cell_type": "markdown",
   "metadata": {},
   "source": [
    "### Functional Modeling"
   ]
  },
  {
   "cell_type": "code",
   "execution_count": 13,
   "metadata": {},
   "outputs": [],
   "source": [
    "def modeling_functional(n_in, n_out):\n",
    "    # Coding Time\n",
    "    x = layers.Input(shape = (n_in,))\n",
    "    y = layers.Dense(n_out)(x)\n",
    "    model = models.Model(inputs = x, outputs = y)\n",
    "    return model"
   ]
  },
  {
   "cell_type": "code",
   "execution_count": 14,
   "metadata": {},
   "outputs": [],
   "source": [
    "class modeling_functional_class(models.Model):\n",
    "    def __init__(self, n_in, n_out):\n",
    "        \n",
    "        #멤버 변수로 모델에 사용할 변수 및 레이어 선언\n",
    "        self.n_in = n_in\n",
    "        self.n_out = n_out\n",
    "        input = layers.Input(shape=(n_in,))\n",
    "        output = layers.Dense(n_out)\n",
    "        \n",
    "        # layer 연결\n",
    "        x = input\n",
    "        y = output(x)\n",
    "\n",
    "        #상속받은 Model 클래스 초기화\n",
    "        super().__init__(x, y)"
   ]
  },
  {
   "cell_type": "markdown",
   "metadata": {
    "tags": []
   },
   "source": [
    "### (2)-2 모델 시각화\n",
    "\n",
    "model.summary()나 plot_model(model) 활용"
   ]
  },
  {
   "cell_type": "code",
   "execution_count": 15,
   "metadata": {},
   "outputs": [
    {
     "name": "stdout",
     "output_type": "stream",
     "text": [
      "Metal device set to: Apple M1 Max\n",
      "Model: \"sequential\"\n",
      "_________________________________________________________________\n",
      " Layer (type)                Output Shape              Param #   \n",
      "=================================================================\n",
      " dense (Dense)               (None, 1)                 2         \n",
      "                                                                 \n",
      "=================================================================\n",
      "Total params: 2\n",
      "Trainable params: 2\n",
      "Non-trainable params: 0\n",
      "_________________________________________________________________\n"
     ]
    }
   ],
   "source": [
    "model =  modeling_sequential(n_in, n_out)\n",
    "model.summary()"
   ]
  },
  {
   "cell_type": "code",
   "execution_count": 16,
   "metadata": {},
   "outputs": [
    {
     "name": "stdout",
     "output_type": "stream",
     "text": [
      "Model: \"model\"\n",
      "_________________________________________________________________\n",
      " Layer (type)                Output Shape              Param #   \n",
      "=================================================================\n",
      " input_1 (InputLayer)        [(None, 1)]               0         \n",
      "                                                                 \n",
      " dense_1 (Dense)             (None, 1)                 2         \n",
      "                                                                 \n",
      "=================================================================\n",
      "Total params: 2\n",
      "Trainable params: 2\n",
      "Non-trainable params: 0\n",
      "_________________________________________________________________\n"
     ]
    }
   ],
   "source": [
    "model =  modeling_functional(n_in, n_out)\n",
    "model.summary()"
   ]
  },
  {
   "cell_type": "code",
   "execution_count": 17,
   "metadata": {},
   "outputs": [
    {
     "data": {
      "image/png": "[encoded data removed]",
      "text/plain": [
       "<IPython.core.display.Image object>"
      ]
     },
     "execution_count": 17,
     "metadata": {},
     "output_type": "execute_result"
    }
   ],
   "source": [
    "from tensorflow.keras.utils import plot_model\n",
    "plot_model(model, show_shapes=True)"
   ]
  },
  {
   "cell_type": "markdown",
   "metadata": {},
   "source": [
    "### (3) 모델의 학습과정 설정(model.compile)\n",
    "- model.compile(loss, optimizer, metrics)\n",
    "- optimizer(str) : optimizer instance\n",
    "- loss(str) : loss function\n",
    "- metrics(str) : list of metrics to be evaluated by the model during training and testing\n",
    "(https://www.tensorflow.org/api_docs/python/tf/keras/Model)"
   ]
  },
  {
   "cell_type": "code",
   "execution_count": 18,
   "metadata": {},
   "outputs": [],
   "source": [
    "# Coding Time\n",
    "model.compile(loss = 'mse', optimizer = 'sgd')"
   ]
  },
  {
   "cell_type": "markdown",
   "metadata": {
    "tags": []
   },
   "source": [
    "### (4) 모델 학습시키기(model.fit)\n",
    "\n",
    " - x : Input data\n",
    " - y : Label of training input data\n",
    " - batch_szie(int) : Number of samples per gradient update\n",
    " - steps_per_epoch(int) : Total number of steps (batches of samples) before declaring one epoch finished and starting the next epoch\n",
    " - epochs(int) : Number of epochs to train the model\n",
    " - verbose : 0 = silent, 1 = progress bar, 2 = one line per epoch\n",
    " - callbacks : List of callback instances\n",
    " - validation_split(float) : Fraction of the training data to be used as validation data\n",
    " - validation_data : (x_val, y_val)\n",
    " - shuffle(bool) : Whether to shuffle the training data before each epoch\n",
    " - history : 학습과정이 담겨있는 데이터 송출\n",
    " (https://www.tensorflow.org/api_docs/python/tf/keras/Model)"
   ]
  },
  {
   "cell_type": "code",
   "execution_count": 19,
   "metadata": {
    "scrolled": true,
    "tags": []
   },
   "outputs": [
    {
     "name": "stdout",
     "output_type": "stream",
     "text": [
      "Epoch 1/100\n"
     ]
    },
    {
     "name": "stderr",
     "output_type": "stream",
     "text": [
      "2023-03-31 14:20:08.075271: W tensorflow/tsl/platform/profile_utils/cpu_utils.cc:128] Failed to get CPU frequency: 0 Hz\n"
     ]
    },
    {
     "name": "stdout",
     "output_type": "stream",
     "text": [
      "4/4 [==============================] - 1s 124ms/step - loss: 708.0519 - val_loss: 132.1130\n",
      "Epoch 2/100\n",
      "4/4 [==============================] - 0s 9ms/step - loss: 25.5084 - val_loss: 22.5109\n",
      "Epoch 3/100\n",
      "4/4 [==============================] - 0s 9ms/step - loss: 22.7455 - val_loss: 247.5247\n",
      "Epoch 4/100\n",
      "4/4 [==============================] - 0s 9ms/step - loss: 63.1445 - val_loss: 176.9687\n",
      "Epoch 5/100\n",
      "4/4 [==============================] - 0s 9ms/step - loss: 30.5093 - val_loss: 15.3890\n",
      "Epoch 6/100\n",
      "4/4 [==============================] - 0s 9ms/step - loss: 29.2885 - val_loss: 1.2890\n",
      "Epoch 7/100\n",
      "4/4 [==============================] - 0s 9ms/step - loss: 24.2863 - val_loss: 59.8875\n",
      "Epoch 8/100\n",
      "4/4 [==============================] - 0s 9ms/step - loss: 20.8758 - val_loss: 29.0059\n",
      "Epoch 9/100\n",
      "4/4 [==============================] - 0s 9ms/step - loss: 22.4547 - val_loss: 216.7619\n",
      "Epoch 10/100\n",
      "4/4 [==============================] - 0s 9ms/step - loss: 23.2954 - val_loss: 128.5097\n",
      "Epoch 11/100\n",
      "4/4 [==============================] - 0s 9ms/step - loss: 22.1209 - val_loss: 11.4316\n",
      "Epoch 12/100\n",
      "4/4 [==============================] - 0s 9ms/step - loss: 16.7886 - val_loss: 118.1799\n",
      "Epoch 13/100\n",
      "4/4 [==============================] - 0s 9ms/step - loss: 25.7065 - val_loss: 183.7792\n",
      "Epoch 14/100\n",
      "4/4 [==============================] - 0s 9ms/step - loss: 39.7672 - val_loss: 200.2660\n",
      "Epoch 15/100\n",
      "4/4 [==============================] - 0s 9ms/step - loss: 28.4200 - val_loss: 111.4765\n",
      "Epoch 16/100\n",
      "4/4 [==============================] - 0s 9ms/step - loss: 26.8233 - val_loss: 55.1457\n",
      "Epoch 17/100\n",
      "4/4 [==============================] - 0s 9ms/step - loss: 32.6279 - val_loss: 142.5349\n",
      "Epoch 18/100\n",
      "4/4 [==============================] - 0s 9ms/step - loss: 19.4759 - val_loss: 103.0515\n",
      "Epoch 19/100\n",
      "4/4 [==============================] - 0s 9ms/step - loss: 24.8254 - val_loss: 2.3142\n",
      "Epoch 20/100\n",
      "4/4 [==============================] - 0s 9ms/step - loss: 12.5942 - val_loss: 5.6239\n",
      "Epoch 21/100\n",
      "4/4 [==============================] - 0s 9ms/step - loss: 11.6214 - val_loss: 79.1702\n",
      "Epoch 22/100\n",
      "4/4 [==============================] - 0s 9ms/step - loss: 17.7941 - val_loss: 78.4198\n",
      "Epoch 23/100\n",
      "4/4 [==============================] - 0s 9ms/step - loss: 16.9473 - val_loss: 74.9171\n",
      "Epoch 24/100\n",
      "4/4 [==============================] - 0s 8ms/step - loss: 37.7730 - val_loss: 143.5805\n",
      "Epoch 25/100\n",
      "4/4 [==============================] - 0s 8ms/step - loss: 34.6254 - val_loss: 107.8680\n",
      "Epoch 26/100\n",
      "4/4 [==============================] - 0s 9ms/step - loss: 23.6002 - val_loss: 471.4546\n",
      "Epoch 27/100\n",
      "4/4 [==============================] - 0s 9ms/step - loss: 108.4900 - val_loss: 132.7352\n",
      "Epoch 28/100\n",
      "4/4 [==============================] - 0s 8ms/step - loss: 24.6176 - val_loss: 96.8767\n",
      "Epoch 29/100\n",
      "4/4 [==============================] - 0s 8ms/step - loss: 9.0718 - val_loss: 1.2439\n",
      "Epoch 30/100\n",
      "4/4 [==============================] - 0s 9ms/step - loss: 10.0634 - val_loss: 26.0336\n",
      "Epoch 31/100\n",
      "4/4 [==============================] - 0s 8ms/step - loss: 16.9042 - val_loss: 52.1626\n",
      "Epoch 32/100\n",
      "4/4 [==============================] - 0s 8ms/step - loss: 8.1863 - val_loss: 46.4001\n",
      "Epoch 33/100\n",
      "4/4 [==============================] - 0s 8ms/step - loss: 18.0136 - val_loss: 101.7037\n",
      "Epoch 34/100\n",
      "4/4 [==============================] - 0s 8ms/step - loss: 17.8974 - val_loss: 37.3991\n",
      "Epoch 35/100\n",
      "4/4 [==============================] - 0s 9ms/step - loss: 6.5163 - val_loss: 155.6484\n",
      "Epoch 36/100\n",
      "4/4 [==============================] - 0s 8ms/step - loss: 24.5452 - val_loss: 12.1068\n",
      "Epoch 37/100\n",
      "4/4 [==============================] - 0s 8ms/step - loss: 10.1269 - val_loss: 14.1894\n",
      "Epoch 38/100\n",
      "4/4 [==============================] - 0s 8ms/step - loss: 4.8050 - val_loss: 16.7097\n",
      "Epoch 39/100\n",
      "4/4 [==============================] - 0s 8ms/step - loss: 9.7384 - val_loss: 5.4660\n",
      "Epoch 40/100\n",
      "4/4 [==============================] - 0s 8ms/step - loss: 4.5021 - val_loss: 43.7597\n",
      "Epoch 41/100\n",
      "4/4 [==============================] - 0s 8ms/step - loss: 21.6750 - val_loss: 3.9466\n",
      "Epoch 42/100\n",
      "4/4 [==============================] - 0s 8ms/step - loss: 4.2832 - val_loss: 0.0601\n",
      "Epoch 43/100\n",
      "4/4 [==============================] - 0s 8ms/step - loss: 6.4566 - val_loss: 41.9471\n",
      "Epoch 44/100\n",
      "4/4 [==============================] - 0s 8ms/step - loss: 5.7984 - val_loss: 43.6261\n",
      "Epoch 45/100\n",
      "4/4 [==============================] - 0s 8ms/step - loss: 25.2045 - val_loss: 28.8491\n",
      "Epoch 46/100\n",
      "4/4 [==============================] - 0s 9ms/step - loss: 6.3710 - val_loss: 14.2467\n",
      "Epoch 47/100\n",
      "4/4 [==============================] - 0s 8ms/step - loss: 10.3671 - val_loss: 120.0287\n",
      "Epoch 48/100\n",
      "4/4 [==============================] - 0s 8ms/step - loss: 10.1055 - val_loss: 74.2490\n",
      "Epoch 49/100\n",
      "4/4 [==============================] - 0s 8ms/step - loss: 12.9710 - val_loss: 41.3318\n",
      "Epoch 50/100\n",
      "4/4 [==============================] - 0s 8ms/step - loss: 10.7953 - val_loss: 28.3406\n",
      "Epoch 51/100\n",
      "4/4 [==============================] - 0s 9ms/step - loss: 3.3339 - val_loss: 38.5536\n",
      "Epoch 52/100\n",
      "4/4 [==============================] - 0s 8ms/step - loss: 4.7860 - val_loss: 14.6329\n",
      "Epoch 53/100\n",
      "4/4 [==============================] - 0s 8ms/step - loss: 4.7346 - val_loss: 35.6507\n",
      "Epoch 54/100\n",
      "4/4 [==============================] - 0s 9ms/step - loss: 14.7559 - val_loss: 34.1292\n",
      "Epoch 55/100\n",
      "4/4 [==============================] - 0s 9ms/step - loss: 5.7686 - val_loss: 9.3626\n",
      "Epoch 56/100\n",
      "4/4 [==============================] - 0s 8ms/step - loss: 4.6149 - val_loss: 19.2415\n",
      "Epoch 57/100\n",
      "4/4 [==============================] - 0s 9ms/step - loss: 2.4930 - val_loss: 17.2406\n",
      "Epoch 58/100\n",
      "4/4 [==============================] - 0s 8ms/step - loss: 3.2670 - val_loss: 58.5270\n",
      "Epoch 59/100\n",
      "4/4 [==============================] - 0s 8ms/step - loss: 3.2920 - val_loss: 1.5849\n",
      "Epoch 60/100\n",
      "4/4 [==============================] - 0s 9ms/step - loss: 2.1908 - val_loss: 7.0722\n",
      "Epoch 61/100\n",
      "4/4 [==============================] - 0s 8ms/step - loss: 3.7471 - val_loss: 38.3176\n",
      "Epoch 62/100\n",
      "4/4 [==============================] - 0s 9ms/step - loss: 11.4790 - val_loss: 11.2401\n",
      "Epoch 63/100\n",
      "4/4 [==============================] - 0s 8ms/step - loss: 2.3719 - val_loss: 0.1774\n",
      "Epoch 64/100\n",
      "4/4 [==============================] - 0s 8ms/step - loss: 2.3524 - val_loss: 47.4436\n",
      "Epoch 65/100\n",
      "4/4 [==============================] - 0s 8ms/step - loss: 8.6467 - val_loss: 11.4670\n",
      "Epoch 66/100\n",
      "4/4 [==============================] - 0s 8ms/step - loss: 2.0283 - val_loss: 6.8650\n",
      "Epoch 67/100\n",
      "4/4 [==============================] - 0s 9ms/step - loss: 1.3770 - val_loss: 6.0774\n",
      "Epoch 68/100\n",
      "4/4 [==============================] - 0s 8ms/step - loss: 1.6879 - val_loss: 2.0803\n",
      "Epoch 69/100\n",
      "4/4 [==============================] - 0s 8ms/step - loss: 3.7684 - val_loss: 4.1770\n",
      "Epoch 70/100\n",
      "4/4 [==============================] - 0s 8ms/step - loss: 1.2536 - val_loss: 11.2710\n",
      "Epoch 71/100\n",
      "4/4 [==============================] - 0s 8ms/step - loss: 1.6275 - val_loss: 50.7193\n",
      "Epoch 72/100\n",
      "4/4 [==============================] - 0s 8ms/step - loss: 5.7518 - val_loss: 0.3136\n",
      "Epoch 73/100\n",
      "4/4 [==============================] - 0s 8ms/step - loss: 1.2954 - val_loss: 2.9956\n",
      "Epoch 74/100\n",
      "4/4 [==============================] - 0s 9ms/step - loss: 1.3980 - val_loss: 14.3419\n",
      "Epoch 75/100\n",
      "4/4 [==============================] - 0s 8ms/step - loss: 1.0664 - val_loss: 7.0900\n",
      "Epoch 76/100\n",
      "4/4 [==============================] - 0s 8ms/step - loss: 1.4849 - val_loss: 1.3142\n",
      "Epoch 77/100\n",
      "4/4 [==============================] - 0s 9ms/step - loss: 0.8912 - val_loss: 2.5569\n",
      "Epoch 78/100\n",
      "4/4 [==============================] - 0s 8ms/step - loss: 2.4219 - val_loss: 4.5212\n",
      "Epoch 79/100\n",
      "4/4 [==============================] - 0s 9ms/step - loss: 0.8978 - val_loss: 4.8395\n",
      "Epoch 80/100\n",
      "4/4 [==============================] - 0s 8ms/step - loss: 0.7969 - val_loss: 3.6264\n",
      "Epoch 81/100\n",
      "4/4 [==============================] - 0s 8ms/step - loss: 0.7467 - val_loss: 6.6527\n",
      "Epoch 82/100\n",
      "4/4 [==============================] - 0s 8ms/step - loss: 1.2302 - val_loss: 1.8410\n",
      "Epoch 83/100\n"
     ]
    },
    {
     "name": "stdout",
     "output_type": "stream",
     "text": [
      "4/4 [==============================] - 0s 8ms/step - loss: 0.7766 - val_loss: 16.7495\n",
      "Epoch 84/100\n",
      "4/4 [==============================] - 0s 8ms/step - loss: 5.2498 - val_loss: 0.1345\n",
      "Epoch 85/100\n",
      "4/4 [==============================] - 0s 8ms/step - loss: 0.7491 - val_loss: 7.5044\n",
      "Epoch 86/100\n",
      "4/4 [==============================] - 0s 8ms/step - loss: 0.8297 - val_loss: 0.6364\n",
      "Epoch 87/100\n",
      "4/4 [==============================] - 0s 8ms/step - loss: 0.6716 - val_loss: 3.6643\n",
      "Epoch 88/100\n",
      "4/4 [==============================] - 0s 8ms/step - loss: 0.6808 - val_loss: 2.8366\n",
      "Epoch 89/100\n",
      "4/4 [==============================] - 0s 8ms/step - loss: 0.8112 - val_loss: 5.2432\n",
      "Epoch 90/100\n",
      "4/4 [==============================] - 0s 8ms/step - loss: 1.5928 - val_loss: 4.4003\n",
      "Epoch 91/100\n",
      "4/4 [==============================] - 0s 8ms/step - loss: 0.7697 - val_loss: 3.4925\n",
      "Epoch 92/100\n",
      "4/4 [==============================] - 0s 8ms/step - loss: 0.5755 - val_loss: 10.1662\n",
      "Epoch 93/100\n",
      "4/4 [==============================] - 0s 8ms/step - loss: 0.9055 - val_loss: 2.7687\n",
      "Epoch 94/100\n",
      "4/4 [==============================] - 0s 8ms/step - loss: 0.5748 - val_loss: 0.0057\n",
      "Epoch 95/100\n",
      "4/4 [==============================] - 0s 8ms/step - loss: 0.4304 - val_loss: 2.3659\n",
      "Epoch 96/100\n",
      "4/4 [==============================] - 0s 8ms/step - loss: 0.7380 - val_loss: 4.0928\n",
      "Epoch 97/100\n",
      "4/4 [==============================] - 0s 8ms/step - loss: 1.1789 - val_loss: 0.5412\n",
      "Epoch 98/100\n",
      "4/4 [==============================] - 0s 8ms/step - loss: 0.3507 - val_loss: 2.2129\n",
      "Epoch 99/100\n",
      "4/4 [==============================] - 0s 8ms/step - loss: 0.4813 - val_loss: 5.4356\n",
      "Epoch 100/100\n",
      "4/4 [==============================] - 0s 8ms/step - loss: 3.2215 - val_loss: 2.1900\n"
     ]
    }
   ],
   "source": [
    "# Coding Time\n",
    "history = model.fit(x, y, batch_size = 5, epochs = 100, validation_split = 0.2)"
   ]
  },
  {
   "cell_type": "markdown",
   "metadata": {
    "tags": []
   },
   "source": [
    "### (5) 모델 평가하기\n",
    "모델 객체의 evaluate 함수로 test 데이터에 대한 모델의 성능을 평가\n",
    " - x : Input data\n",
    " - y : Label of testing input data\n",
    " - batch_size(int) : Number of samples per batch of computation\n",
    " - steps(int) : Total number of steps (batches of samples) before declaring the evaluation round finished\n",
    " - verbose : 0 = silent, 1 = progress bar, 2 = one line per epoch"
   ]
  },
  {
   "cell_type": "code",
   "execution_count": 20,
   "metadata": {
    "tags": []
   },
   "outputs": [
    {
     "name": "stdout",
     "output_type": "stream",
     "text": [
      "1/1 [==============================] - 0s 25ms/step - loss: 56.7090\n",
      "loss : 56.7090\n"
     ]
    }
   ],
   "source": [
    "# Coding Time\n",
    "loss = model.evaluate(x_test, y_test, batch_size = 20)\n",
    "print('loss : %.4f' % (loss))\n"
   ]
  },
  {
   "cell_type": "markdown",
   "metadata": {},
   "source": [
    "## (6) 모델 사용하기\n",
    "모델 객체의 predict 함수로 input 데이터에 대한 모델의 예측결과를 반환\n",
    " - x : Input data\n",
    " - batch_size(int) : Number of samples per batch\n",
    " - steps(int) : Total number of steps (batches of samples) before declaring the prediction round finished\n",
    " - verbose : 0 = silent(recommend), 1 = progress bar, 2 = one line per epoch"
   ]
  },
  {
   "cell_type": "code",
   "execution_count": 21,
   "metadata": {},
   "outputs": [
    {
     "name": "stdout",
     "output_type": "stream",
     "text": [
      "x: 100.00,  y : 310.00,  y_predict : 323.28\n",
      "x: 101.00,  y : 313.00,  y_predict : 326.43\n",
      "x: 102.00,  y : 316.00,  y_predict : 329.57\n",
      "x: 103.00,  y : 319.00,  y_predict : 332.71\n",
      "x: 104.00,  y : 322.00,  y_predict : 335.86\n",
      "x: 105.00,  y : 325.00,  y_predict : 339.00\n",
      "x: 106.00,  y : 328.00,  y_predict : 342.14\n",
      "x: 107.00,  y : 331.00,  y_predict : 345.29\n",
      "x: 108.00,  y : 334.00,  y_predict : 348.43\n",
      "x: 109.00,  y : 337.00,  y_predict : 351.57\n",
      "x: 110.00,  y : 340.00,  y_predict : 354.72\n",
      "x: 111.00,  y : 343.00,  y_predict : 357.86\n",
      "x: 112.00,  y : 346.00,  y_predict : 361.00\n",
      "x: 113.00,  y : 349.00,  y_predict : 364.15\n",
      "x: 114.00,  y : 352.00,  y_predict : 367.29\n",
      "x: 115.00,  y : 355.00,  y_predict : 370.43\n",
      "x: 116.00,  y : 358.00,  y_predict : 373.58\n",
      "x: 117.00,  y : 361.00,  y_predict : 376.72\n",
      "x: 118.00,  y : 364.00,  y_predict : 379.86\n",
      "x: 119.00,  y : 367.00,  y_predict : 383.00\n"
     ]
    }
   ],
   "source": [
    "new_x = np.arange(100, 120)\n",
    "true_y = new_x * 3 + 10\n",
    "\n",
    "pred_y = model.predict(new_x, batch_size=20, verbose = 0)\n",
    "pred_y = np.reshape(pred_y,(-1,))\n",
    "for y in zip(new_x, true_y, pred_y):\n",
    "    print(\"x: %.2f,  y : %.2f,  y_predict : %.2f\"%(y[0], y[1], y[2]))"
   ]
  },
  {
   "cell_type": "markdown",
   "metadata": {},
   "source": [
    "## 1.2 MNIST Classification with Linear Classifier\n",
    "이번 실습에서는 keras로 linear 모델을 생성하고, MNIST dataset을 학습하여 성능을 평가한다."
   ]
  },
  {
   "cell_type": "code",
   "execution_count": 22,
   "metadata": {},
   "outputs": [],
   "source": [
    "import tensorflow.keras.utils as utils\n",
    "from tensorflow.keras import datasets\n",
    "from tensorflow.keras.models import Sequential, Model\n",
    "from tensorflow.keras.layers import Input, Dense, Activation\n",
    "\n",
    "import numpy as np\n",
    "import matplotlib.pyplot as plt"
   ]
  },
  {
   "cell_type": "markdown",
   "metadata": {},
   "source": [
    "### (1) 데이터셋 다운로드\n",
    "### Download the MNIST dataset\n",
    "MNIST dataset은 28x28 사이즈의 이미지들로 0~9까지의 숫자 10개의 손글씨 이미지로 이루어져있다.\n",
    "\n",
    "60,000장이 training에 사용되고 10,000장이 test에 사용된다."
   ]
  },
  {
   "cell_type": "code",
   "execution_count": 23,
   "metadata": {},
   "outputs": [
    {
     "name": "stdout",
     "output_type": "stream",
     "text": [
      "Downloading data from https://storage.googleapis.com/tensorflow/tf-keras-datasets/mnist.npz\n",
      "11490434/11490434 [==============================] - 1s 0us/step\n",
      "(60000, 28, 28) (60000,)\n"
     ]
    }
   ],
   "source": [
    "# Coding Time\n",
    "(X_train, Y_train), (X_test, Y_test) = datasets.mnist.load_data()\n",
    "print(X_train.shape, Y_train.shape)\n"
   ]
  },
  {
   "cell_type": "code",
   "execution_count": 24,
   "metadata": {},
   "outputs": [
    {
     "name": "stdout",
     "output_type": "stream",
     "text": [
      "label :  5\n"
     ]
    },
    {
     "data": {
      "text/plain": [
       "<matplotlib.image.AxesImage at 0x29123e350>"
      ]
     },
     "execution_count": 24,
     "metadata": {},
     "output_type": "execute_result"
    },
    {
     "data": {
      "image/png": "[encoded data removed]",
      "text/plain": [
       "<Figure size 640x480 with 1 Axes>"
      ]
     },
     "metadata": {},
     "output_type": "display_data"
    }
   ],
   "source": [
    "print('label : ',Y_train[0])\n",
    "plt.imshow(X_train[0], cmap='gray')"
   ]
  },
  {
   "cell_type": "code",
   "execution_count": 25,
   "metadata": {},
   "outputs": [
    {
     "name": "stdout",
     "output_type": "stream",
     "text": [
      "[[0. 0. 0. ... 0. 0. 0.]\n",
      " [1. 0. 0. ... 0. 0. 0.]\n",
      " [0. 0. 0. ... 0. 0. 0.]\n",
      " ...\n",
      " [0. 0. 0. ... 0. 0. 0.]\n",
      " [0. 0. 0. ... 0. 0. 0.]\n",
      " [0. 0. 0. ... 0. 1. 0.]]\n",
      "(60000, 784) (60000, 10)\n"
     ]
    }
   ],
   "source": [
    "# Coding Time\n",
    "# Flatten and Normalization\n",
    "X_train_flat = X_train.reshape(60000, 28 * 28).astype('float32') / 255.0\n",
    "X_test_flat = X_test.reshape(10000, 28 * 28).astype('float32') / 255.0\n",
    "\n",
    "# One-hot Encoding\n",
    "Y_train_onehot = utils.to_categorical(Y_train)\n",
    "Y_test_onehot = utils.to_categorical(Y_test)\n",
    "\n",
    "\n",
    "print(Y_train_onehot)\n",
    "print(X_train_flat.shape, Y_train_onehot.shape)"
   ]
  },
  {
   "cell_type": "markdown",
   "metadata": {},
   "source": [
    "### (2) Keras 모델링"
   ]
  },
  {
   "cell_type": "markdown",
   "metadata": {},
   "source": [
    "<사용되는 Layer>\n",
    "\n",
    "- Input : 모델에 입력되는 데이터의 batch size를 제외한 shape을 결정(https://keras.io/layers/core/#input)\n",
    "\n",
    "- Dense : Fully Connected Layer(https://keras.io/layers/core/#dense)\n",
    "\n",
    "- Activation : Activation Function을 정의, 문자열로 입력(https://keras.io/layers/core/#activation)"
   ]
  },
  {
   "cell_type": "code",
   "execution_count": 26,
   "metadata": {},
   "outputs": [],
   "source": [
    "n_in = 28*28   #784\n",
    "n_out = np.shape(Y_test_onehot)[1] # 10"
   ]
  },
  {
   "cell_type": "markdown",
   "metadata": {},
   "source": [
    "### Sequential Modeling"
   ]
  },
  {
   "cell_type": "code",
   "execution_count": 27,
   "metadata": {},
   "outputs": [],
   "source": [
    "def linear_model_seq(n_in, n_out):\n",
    "    # Coding Time\n",
    "    model = Sequential()\n",
    "    model.add(Dense(units = n_out, input_shape = (n_in,), activation = 'softmax'))\n",
    "\n",
    "    return model"
   ]
  },
  {
   "cell_type": "markdown",
   "metadata": {},
   "source": [
    "### Functional Modeling"
   ]
  },
  {
   "cell_type": "code",
   "execution_count": 28,
   "metadata": {},
   "outputs": [],
   "source": [
    "def linear_model_func(n_in, n_out):\n",
    "    # Coding Time\n",
    "    x = Input(shape = (n_in,))\n",
    "    h = Dense(n_out)(x)\n",
    "    y = Activation('softmax')(h)\n",
    "    model = Model(inputs = x, outputs = y)\n",
    "\n",
    "    return model"
   ]
  },
  {
   "cell_type": "code",
   "execution_count": 29,
   "metadata": {},
   "outputs": [
    {
     "name": "stdout",
     "output_type": "stream",
     "text": [
      "Model: \"model_1\"\n",
      "_________________________________________________________________\n",
      " Layer (type)                Output Shape              Param #   \n",
      "=================================================================\n",
      " input_2 (InputLayer)        [(None, 784)]             0         \n",
      "                                                                 \n",
      " dense_2 (Dense)             (None, 10)                7850      \n",
      "                                                                 \n",
      " activation (Activation)     (None, 10)                0         \n",
      "                                                                 \n",
      "=================================================================\n",
      "Total params: 7,850\n",
      "Trainable params: 7,850\n",
      "Non-trainable params: 0\n",
      "_________________________________________________________________\n"
     ]
    }
   ],
   "source": [
    "model = linear_model_func(n_in, n_out)\n",
    "model.summary()"
   ]
  },
  {
   "cell_type": "code",
   "execution_count": 30,
   "metadata": {},
   "outputs": [
    {
     "data": {
      "image/png": "[encoded data removed]",
      "text/plain": [
       "<IPython.core.display.Image object>"
      ]
     },
     "execution_count": 30,
     "metadata": {},
     "output_type": "execute_result"
    }
   ],
   "source": [
    "plot_model(model, show_shapes=True)"
   ]
  },
  {
   "cell_type": "markdown",
   "metadata": {},
   "source": [
    "## (3) 모델의 학습과정 설정\n",
    "accuracy를 측정할 수 있는 문제라면 metric에 accuracy를 설정 (https://keras.io/models/model/)"
   ]
  },
  {
   "cell_type": "code",
   "execution_count": 31,
   "metadata": {},
   "outputs": [],
   "source": [
    "# Coding Time\n",
    "model.compile(loss = 'categorical_crossentropy',\n",
    "             optimizer = 'sgd',\n",
    "             metrics = ['accuracy'])\n",
    "\n"
   ]
  },
  {
   "cell_type": "markdown",
   "metadata": {},
   "source": [
    "## (4) 모델 학습시키기"
   ]
  },
  {
   "cell_type": "code",
   "execution_count": 32,
   "metadata": {
    "scrolled": true
   },
   "outputs": [
    {
     "name": "stdout",
     "output_type": "stream",
     "text": [
      "Epoch 1/20\n",
      "375/375 [==============================] - 4s 8ms/step - loss: 1.4093 - accuracy: 0.6501 - val_loss: 0.9053 - val_accuracy: 0.8241\n",
      "Epoch 2/20\n",
      "375/375 [==============================] - 3s 7ms/step - loss: 0.7974 - accuracy: 0.8288 - val_loss: 0.6601 - val_accuracy: 0.8579\n",
      "Epoch 3/20\n",
      "375/375 [==============================] - 3s 7ms/step - loss: 0.6438 - accuracy: 0.8520 - val_loss: 0.5627 - val_accuracy: 0.8688\n",
      "Epoch 4/20\n",
      "375/375 [==============================] - 3s 7ms/step - loss: 0.5706 - accuracy: 0.8628 - val_loss: 0.5089 - val_accuracy: 0.8764\n",
      "Epoch 5/20\n",
      "375/375 [==============================] - 3s 7ms/step - loss: 0.5263 - accuracy: 0.8695 - val_loss: 0.4751 - val_accuracy: 0.8823\n",
      "Epoch 6/20\n",
      "375/375 [==============================] - 3s 7ms/step - loss: 0.4961 - accuracy: 0.8743 - val_loss: 0.4506 - val_accuracy: 0.8863\n",
      "Epoch 7/20\n",
      "375/375 [==============================] - 3s 7ms/step - loss: 0.4738 - accuracy: 0.8778 - val_loss: 0.4325 - val_accuracy: 0.8905\n",
      "Epoch 8/20\n",
      "375/375 [==============================] - 3s 7ms/step - loss: 0.4565 - accuracy: 0.8807 - val_loss: 0.4182 - val_accuracy: 0.8930\n",
      "Epoch 9/20\n",
      "375/375 [==============================] - 3s 7ms/step - loss: 0.4426 - accuracy: 0.8830 - val_loss: 0.4067 - val_accuracy: 0.8943\n",
      "Epoch 10/20\n",
      "375/375 [==============================] - 3s 7ms/step - loss: 0.4311 - accuracy: 0.8856 - val_loss: 0.3970 - val_accuracy: 0.8968\n",
      "Epoch 11/20\n",
      "375/375 [==============================] - 3s 7ms/step - loss: 0.4213 - accuracy: 0.8875 - val_loss: 0.3890 - val_accuracy: 0.8977\n",
      "Epoch 12/20\n",
      "375/375 [==============================] - 3s 8ms/step - loss: 0.4130 - accuracy: 0.8894 - val_loss: 0.3820 - val_accuracy: 0.8990\n",
      "Epoch 13/20\n",
      "375/375 [==============================] - 3s 7ms/step - loss: 0.4056 - accuracy: 0.8906 - val_loss: 0.3760 - val_accuracy: 0.9006\n",
      "Epoch 14/20\n",
      "375/375 [==============================] - 3s 7ms/step - loss: 0.3992 - accuracy: 0.8918 - val_loss: 0.3705 - val_accuracy: 0.9025\n",
      "Epoch 15/20\n",
      "375/375 [==============================] - 3s 7ms/step - loss: 0.3934 - accuracy: 0.8930 - val_loss: 0.3658 - val_accuracy: 0.9033\n",
      "Epoch 16/20\n",
      "375/375 [==============================] - 3s 7ms/step - loss: 0.3883 - accuracy: 0.8940 - val_loss: 0.3616 - val_accuracy: 0.9029\n",
      "Epoch 17/20\n",
      "375/375 [==============================] - 3s 7ms/step - loss: 0.3836 - accuracy: 0.8948 - val_loss: 0.3576 - val_accuracy: 0.9044\n",
      "Epoch 18/20\n",
      "375/375 [==============================] - 3s 7ms/step - loss: 0.3793 - accuracy: 0.8957 - val_loss: 0.3541 - val_accuracy: 0.9046\n",
      "Epoch 19/20\n",
      "375/375 [==============================] - 3s 7ms/step - loss: 0.3754 - accuracy: 0.8972 - val_loss: 0.3509 - val_accuracy: 0.9056\n",
      "Epoch 20/20\n",
      "375/375 [==============================] - 3s 7ms/step - loss: 0.3718 - accuracy: 0.8976 - val_loss: 0.3479 - val_accuracy: 0.9063\n"
     ]
    }
   ],
   "source": [
    "# Coding Time\n",
    "history = model.fit(X_train_flat, \n",
    "                    Y_train_onehot,\n",
    "                   batch_size = 128,\n",
    "                   epochs = 20,\n",
    "                   validation_split = 0.2)"
   ]
  },
  {
   "cell_type": "markdown",
   "metadata": {},
   "source": [
    "## (5) 모델 평가하기"
   ]
  },
  {
   "cell_type": "code",
   "execution_count": 33,
   "metadata": {},
   "outputs": [
    {
     "name": "stdout",
     "output_type": "stream",
     "text": [
      "79/79 [==============================] - 1s 6ms/step - loss: 0.3477 - accuracy: 0.9080\n",
      "loss : 0.3477, accuracy : 0.9080\n"
     ]
    }
   ],
   "source": [
    "# Coding Time\n",
    "loss_and_accuracy = model.evaluate(X_test_flat,\n",
    "                                  Y_test_onehot,\n",
    "                                  batch_size = 128)\n",
    "\n",
    "print('loss : %.4f, accuracy : %.4f' % (loss_and_accuracy[0], loss_and_accuracy[1]))\n"
   ]
  },
  {
   "cell_type": "markdown",
   "metadata": {},
   "source": [
    "## (6) 모델 사용하기"
   ]
  },
  {
   "cell_type": "code",
   "execution_count": 34,
   "metadata": {},
   "outputs": [
    {
     "name": "stdout",
     "output_type": "stream",
     "text": [
      "1/1 [==============================] - 0s 297ms/step\n",
      "real_label : 6, predict_label : 6\n",
      "real_label : 6, predict_label : 6\n"
     ]
    },
    {
     "data": {
      "text/plain": [
       "<matplotlib.image.AxesImage at 0x28f348070>"
      ]
     },
     "execution_count": 34,
     "metadata": {},
     "output_type": "execute_result"
    },
    {
     "data": {
      "image/png": "[encoded data removed]",
      "text/plain": [
       "<Figure size 640x480 with 1 Axes>"
      ]
     },
     "metadata": {},
     "output_type": "display_data"
    }
   ],
   "source": [
    "# Coding Time\n",
    "test_data = X_test[-1].reshape(1, 28 * 28)\n",
    "pred_y = model.predict(test_data)\n",
    "pred_y = pred_y.argmax()\n",
    "\n",
    "print('real_label : {}, predict_label : {}'.format(Y_test[-1], pred_y))\n",
    "plt.imshow(X_test[-1], cmap='gray')\n",
    "\n",
    "print('real_label : {}, predict_label : {}'.format(Y_test[-1], pred_y))\n",
    "plt.imshow(X_test[-1], cmap='gray')"
   ]
  },
  {
   "cell_type": "markdown",
   "metadata": {},
   "source": [
    "# 1.3 MNIST Classification with DNN (To Do)\n",
    "\n",
    "모델의 설명을 보고 DNN 코드를 만들어보자"
   ]
  },
  {
   "cell_type": "markdown",
   "metadata": {},
   "source": [
    "## (2) Keras 모델링"
   ]
  },
  {
   "attachments": {
    "image.png": {
     "image/png": "[encoded data removed]"
    }
   },
   "cell_type": "markdown",
   "metadata": {},
   "source": [
    "![image.png](attachment:image.png)\n",
    "\n",
    "<맨 마지막 activation은 softmax로 하고 이외의 activation은 relu를 사용>"
   ]
  },
  {
   "cell_type": "code",
   "execution_count": 35,
   "metadata": {},
   "outputs": [
    {
     "name": "stdout",
     "output_type": "stream",
     "text": [
      "Model: \"sequential_1\"\n",
      "_________________________________________________________________\n",
      " Layer (type)                Output Shape              Param #   \n",
      "=================================================================\n",
      " dense_3 (Dense)             (None, 256)               200960    \n",
      "                                                                 \n",
      " dense_4 (Dense)             (None, 128)               32896     \n",
      "                                                                 \n",
      " dense_5 (Dense)             (None, 64)                8256      \n",
      "                                                                 \n",
      " dense_6 (Dense)             (None, 32)                2080      \n",
      "                                                                 \n",
      " dense_7 (Dense)             (None, 10)                330       \n",
      "                                                                 \n",
      "=================================================================\n",
      "Total params: 244,522\n",
      "Trainable params: 244,522\n",
      "Non-trainable params: 0\n",
      "_________________________________________________________________\n"
     ]
    }
   ],
   "source": [
    "def DNN_seq(n_in, n_out):\n",
    "    model = models.Sequential()\n",
    "    model.add(layers.Dense(units = 256, input_shape = (n_in,), activation = 'relu'))\n",
    "    model.add(layers.Dense(units = 128, input_shape = (256,), activation = 'relu'))\n",
    "    model.add(layers.Dense(units = 64, input_shape = (128,), activation = 'relu'))\n",
    "    model.add(layers.Dense(units = 32, input_shape = (64,), activation = 'relu'))\n",
    "    model.add(layers.Dense(units = n_out, input_shape = (32,), activation = 'softmax'))\n",
    "    return model\n",
    "\n",
    "\n",
    "\n",
    "\n",
    "def DNN_func(n_in, n_out):\n",
    "    x = Input(shape=(n_in,))\n",
    "    x = Dense(256)(x)\n",
    "    x = Activation('relu')(x)\n",
    "    x = Dense(128)(x)\n",
    "    x = Activation('relu')(x)\n",
    "    x = Dense(64)(x)\n",
    "    x = Activation('relu')(x)\n",
    "    x = Dense(32)(x)\n",
    "    x = Activation('relu')(x)\n",
    "    x = Dense(n_out)(x)\n",
    "    y = Activation('softmax')(x)\n",
    "    model = Model(inputs = x, outputs = y)\n",
    "    return model\n",
    "\n",
    "\n",
    "\n",
    "model = DNN_seq(n_in, n_out)\n",
    "model.summary()"
   ]
  },
  {
   "cell_type": "markdown",
   "metadata": {},
   "source": [
    "## (3) 모델의 학습과정 설정\n",
    "<optimizer를 adam으로 설정>"
   ]
  },
  {
   "cell_type": "code",
   "execution_count": 36,
   "metadata": {},
   "outputs": [],
   "source": [
    "model.compile(loss = 'categorical_crossentropy',\n",
    "              optimizer = 'adam',\n",
    "             metrics = ['accuracy'])"
   ]
  },
  {
   "cell_type": "markdown",
   "metadata": {},
   "source": [
    "## (4) 모델 학습시키기\n",
    "<batch size를 256, epoch을 30, train 데이터 중 30%를 validation 데이터로 사용, verbose 모드는 2>"
   ]
  },
  {
   "cell_type": "code",
   "execution_count": 37,
   "metadata": {},
   "outputs": [
    {
     "name": "stdout",
     "output_type": "stream",
     "text": [
      "Epoch 1/30\n",
      "165/165 - 3s - loss: 0.4650 - accuracy: 0.8597 - val_loss: 0.2174 - val_accuracy: 0.9358 - 3s/epoch - 16ms/step\n",
      "Epoch 2/30\n",
      "165/165 - 2s - loss: 0.1561 - accuracy: 0.9536 - val_loss: 0.1509 - val_accuracy: 0.9557 - 2s/epoch - 10ms/step\n",
      "Epoch 3/30\n",
      "165/165 - 2s - loss: 0.1046 - accuracy: 0.9684 - val_loss: 0.1366 - val_accuracy: 0.9598 - 2s/epoch - 11ms/step\n",
      "Epoch 4/30\n",
      "165/165 - 2s - loss: 0.0742 - accuracy: 0.9771 - val_loss: 0.1228 - val_accuracy: 0.9641 - 2s/epoch - 11ms/step\n",
      "Epoch 5/30\n",
      "165/165 - 2s - loss: 0.0572 - accuracy: 0.9825 - val_loss: 0.1124 - val_accuracy: 0.9671 - 2s/epoch - 11ms/step\n",
      "Epoch 6/30\n",
      "165/165 - 2s - loss: 0.0477 - accuracy: 0.9856 - val_loss: 0.1034 - val_accuracy: 0.9701 - 2s/epoch - 10ms/step\n",
      "Epoch 7/30\n",
      "165/165 - 2s - loss: 0.0322 - accuracy: 0.9907 - val_loss: 0.1048 - val_accuracy: 0.9703 - 2s/epoch - 10ms/step\n",
      "Epoch 8/30\n",
      "165/165 - 2s - loss: 0.0266 - accuracy: 0.9921 - val_loss: 0.1213 - val_accuracy: 0.9678 - 2s/epoch - 10ms/step\n",
      "Epoch 9/30\n",
      "165/165 - 2s - loss: 0.0225 - accuracy: 0.9935 - val_loss: 0.1104 - val_accuracy: 0.9706 - 2s/epoch - 10ms/step\n",
      "Epoch 10/30\n",
      "165/165 - 2s - loss: 0.0187 - accuracy: 0.9944 - val_loss: 0.0998 - val_accuracy: 0.9744 - 2s/epoch - 10ms/step\n",
      "Epoch 11/30\n",
      "165/165 - 2s - loss: 0.0182 - accuracy: 0.9944 - val_loss: 0.1122 - val_accuracy: 0.9727 - 2s/epoch - 10ms/step\n",
      "Epoch 12/30\n",
      "165/165 - 2s - loss: 0.0093 - accuracy: 0.9973 - val_loss: 0.1168 - val_accuracy: 0.9725 - 2s/epoch - 10ms/step\n",
      "Epoch 13/30\n",
      "165/165 - 2s - loss: 0.0092 - accuracy: 0.9974 - val_loss: 0.1530 - val_accuracy: 0.9668 - 2s/epoch - 10ms/step\n",
      "Epoch 14/30\n",
      "165/165 - 2s - loss: 0.0150 - accuracy: 0.9953 - val_loss: 0.1168 - val_accuracy: 0.9731 - 2s/epoch - 10ms/step\n",
      "Epoch 15/30\n",
      "165/165 - 2s - loss: 0.0126 - accuracy: 0.9963 - val_loss: 0.1190 - val_accuracy: 0.9722 - 2s/epoch - 10ms/step\n",
      "Epoch 16/30\n",
      "165/165 - 2s - loss: 0.0100 - accuracy: 0.9968 - val_loss: 0.1218 - val_accuracy: 0.9738 - 2s/epoch - 10ms/step\n",
      "Epoch 17/30\n",
      "165/165 - 2s - loss: 0.0069 - accuracy: 0.9978 - val_loss: 0.1273 - val_accuracy: 0.9738 - 2s/epoch - 11ms/step\n",
      "Epoch 18/30\n",
      "165/165 - 2s - loss: 0.0076 - accuracy: 0.9976 - val_loss: 0.1386 - val_accuracy: 0.9728 - 2s/epoch - 10ms/step\n",
      "Epoch 19/30\n",
      "165/165 - 2s - loss: 0.0102 - accuracy: 0.9964 - val_loss: 0.1440 - val_accuracy: 0.9723 - 2s/epoch - 10ms/step\n",
      "Epoch 20/30\n",
      "165/165 - 2s - loss: 0.0175 - accuracy: 0.9944 - val_loss: 0.1195 - val_accuracy: 0.9741 - 2s/epoch - 10ms/step\n",
      "Epoch 21/30\n",
      "165/165 - 2s - loss: 0.0051 - accuracy: 0.9982 - val_loss: 0.1495 - val_accuracy: 0.9712 - 2s/epoch - 10ms/step\n",
      "Epoch 22/30\n",
      "165/165 - 2s - loss: 0.0050 - accuracy: 0.9983 - val_loss: 0.1318 - val_accuracy: 0.9757 - 2s/epoch - 10ms/step\n",
      "Epoch 23/30\n",
      "165/165 - 2s - loss: 0.0082 - accuracy: 0.9973 - val_loss: 0.1393 - val_accuracy: 0.9757 - 2s/epoch - 10ms/step\n",
      "Epoch 24/30\n",
      "165/165 - 2s - loss: 0.0117 - accuracy: 0.9961 - val_loss: 0.1270 - val_accuracy: 0.9743 - 2s/epoch - 10ms/step\n",
      "Epoch 25/30\n",
      "165/165 - 2s - loss: 0.0107 - accuracy: 0.9964 - val_loss: 0.1427 - val_accuracy: 0.9730 - 2s/epoch - 10ms/step\n",
      "Epoch 26/30\n",
      "165/165 - 2s - loss: 0.0051 - accuracy: 0.9986 - val_loss: 0.1259 - val_accuracy: 0.9772 - 2s/epoch - 11ms/step\n",
      "Epoch 27/30\n",
      "165/165 - 2s - loss: 0.0037 - accuracy: 0.9987 - val_loss: 0.1272 - val_accuracy: 0.9772 - 2s/epoch - 11ms/step\n",
      "Epoch 28/30\n",
      "165/165 - 2s - loss: 0.0047 - accuracy: 0.9986 - val_loss: 0.1430 - val_accuracy: 0.9757 - 2s/epoch - 10ms/step\n",
      "Epoch 29/30\n",
      "165/165 - 2s - loss: 0.0141 - accuracy: 0.9951 - val_loss: 0.1256 - val_accuracy: 0.9769 - 2s/epoch - 10ms/step\n",
      "Epoch 30/30\n",
      "165/165 - 2s - loss: 0.0104 - accuracy: 0.9968 - val_loss: 0.1198 - val_accuracy: 0.9763 - 2s/epoch - 10ms/step\n"
     ]
    }
   ],
   "source": [
    " history = model.fit(X_train_flat,\n",
    "                   Y_train_onehot,\n",
    "                   batch_size = 256,\n",
    "                   epochs = 30,\n",
    "                   validation_split = 0.3,\n",
    "                   verbose = 2)"
   ]
  },
  {
   "cell_type": "markdown",
   "metadata": {},
   "source": [
    "## (5) 모델 평가하기"
   ]
  },
  {
   "cell_type": "code",
   "execution_count": 39,
   "metadata": {},
   "outputs": [
    {
     "name": "stdout",
     "output_type": "stream",
     "text": [
      "79/79 [==============================] - 1s 7ms/step - loss: 0.1147 - accuracy: 0.9777\n",
      "loss : 0.1147, accuracy : 0.9777\n"
     ]
    }
   ],
   "source": [
    "loss_and_accuracy = model.evaluate(X_test_flat,\n",
    "                                  Y_test_onehot,\n",
    "                                  batch_size = 128)\n",
    "\n",
    "print('loss : %.4f, accuracy : %.4f' % (loss_and_accuracy[0], loss_and_accuracy[1]))"
   ]
  },
  {
   "cell_type": "markdown",
   "metadata": {},
   "source": [
    "## (6) 모델 사용하기"
   ]
  },
  {
   "cell_type": "code",
   "execution_count": 41,
   "metadata": {
    "tags": []
   },
   "outputs": [
    {
     "name": "stdout",
     "output_type": "stream",
     "text": [
      "1/1 [==============================] - 0s 14ms/step\n",
      "real_label : 6, predict_label : 6\n"
     ]
    },
    {
     "data": {
      "text/plain": [
       "<matplotlib.image.AxesImage at 0x29d291330>"
      ]
     },
     "execution_count": 41,
     "metadata": {},
     "output_type": "execute_result"
    },
    {
     "data": {
      "image/png": "[encoded data removed]",
      "text/plain": [
       "<Figure size 640x480 with 1 Axes>"
      ]
     },
     "metadata": {},
     "output_type": "display_data"
    }
   ],
   "source": [
    "test_data = X_test[-1].reshape(1, 28 * 28)\n",
    "pred_y = model.predict(test_data)\n",
    "pred_y = pred_y.argmax()\n",
    "\n",
    "print('real_label : {}, predict_label : {}'.format(Y_test[-1], pred_y))\n",
    "plt.imshow(X_test[-1], cmap='gray')\n"
   ]
  }
 ],
 "metadata": {
  "kernelspec": {
   "display_name": "Python 3 (ipykernel)",
   "language": "python",
   "name": "python3"
  },
  "language_info": {
   "codemirror_mode": {
    "name": "ipython",
    "version": 3
   },
   "file_extension": ".py",
   "mimetype": "text/x-python",
   "name": "python",
   "nbconvert_exporter": "python",
   "pygments_lexer": "ipython3",
   "version": "3.10.10"
  }
 },
 "nbformat": 4,
 "nbformat_minor": 4
}

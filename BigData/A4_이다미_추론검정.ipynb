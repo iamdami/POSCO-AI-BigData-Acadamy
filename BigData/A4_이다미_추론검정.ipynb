{
 "cells": [
  {
   "cell_type": "markdown",
   "id": "139f937b",
   "metadata": {},
   "source": [
    "## 정규성 검정"
   ]
  },
  {
   "cell_type": "code",
   "execution_count": 2,
   "id": "4929a2cb",
   "metadata": {},
   "outputs": [
    {
     "name": "stdout",
     "output_type": "stream",
     "text": [
      "   Mat_A  Mat_B  Total  Sub\n",
      "0   73.4   68.7   73.4    1\n",
      "1   77.0   71.4   77.0    1\n",
      "2   73.7   69.8   73.7    1\n",
      "3   73.3   75.3   73.3    1\n",
      "4   73.1   71.3   73.1    1\n",
      "ShapiroResult(statistic=nan, pvalue=1.0)\n",
      "ShapiroResult(statistic=nan, pvalue=1.0)\n"
     ]
    }
   ],
   "source": [
    "import pandas as pd\n",
    "from scipy import stats\n",
    "\n",
    "ds = pd.read_csv(\"1BD/2sample_t_test.csv\")\n",
    "print(ds.head())\n",
    "\n",
    "d1 = ds[\"Mat_A\"]\n",
    "d2 = ds[\"Mat_B\"]\n",
    "\n",
    "# 정규성 검정\n",
    "print(stats.shapiro(d1))\n",
    "print(stats.shapiro(d2))"
   ]
  },
  {
   "cell_type": "markdown",
   "id": "b5ee97e1",
   "metadata": {},
   "source": [
    "## 모평균 구간 추정"
   ]
  },
  {
   "cell_type": "code",
   "execution_count": 3,
   "id": "656ba520",
   "metadata": {
    "scrolled": true
   },
   "outputs": [
    {
     "name": "stdout",
     "output_type": "stream",
     "text": [
      "   sample\n",
      "0      18\n",
      "1      18\n",
      "2      20\n",
      "3      21\n",
      "4      20\n",
      "신뢰구간: ([[19.33], [19.67])\n"
     ]
    },
    {
     "name": "stderr",
     "output_type": "stream",
     "text": [
      "/opt/homebrew/lib/python3.9/site-packages/numpy/core/fromnumeric.py:3430: FutureWarning: In a future version, DataFrame.mean(axis=None) will return a scalar mean over the entire DataFrame. To retain the old behavior, use 'frame.mean(axis=0)' or just 'frame.mean()'\n",
      "  return mean(axis=axis, dtype=dtype, out=out, **kwargs)\n"
     ]
    }
   ],
   "source": [
    "import pandas as pd\n",
    "from scipy import stats\n",
    "import numpy as np\n",
    "\n",
    "df = pd.DataFrame({\"sample\" :[18, 18, 20, 21, 20, 23, 19, 18, 17, 21, 22, 20, 20, 21, 20, 19, 19, 18, 17, 19]})\n",
    "print(df.head())\n",
    "\n",
    "lower, upper = stats.norm.interval(0.95, loc = np.mean(df), scale=0.397/np.sqrt(20))\n",
    "print(\"신뢰구간: ([{0}, {1})\".format(lower.round(2), upper.round(2)))"
   ]
  },
  {
   "cell_type": "markdown",
   "id": "bf5266e7",
   "metadata": {},
   "source": [
    "## 추론 통계"
   ]
  },
  {
   "cell_type": "code",
   "execution_count": 6,
   "id": "e7a5186e",
   "metadata": {},
   "outputs": [
    {
     "name": "stdout",
     "output_type": "stream",
     "text": [
      "신뢰구간: ([[70.6], [72.4])\n"
     ]
    },
    {
     "name": "stderr",
     "output_type": "stream",
     "text": [
      "/opt/homebrew/lib/python3.9/site-packages/numpy/core/fromnumeric.py:3430: FutureWarning: In a future version, DataFrame.mean(axis=None) will return a scalar mean over the entire DataFrame. To retain the old behavior, use 'frame.mean(axis=0)' or just 'frame.mean()'\n",
      "  return mean(axis=axis, dtype=dtype, out=out, **kwargs)\n"
     ]
    }
   ],
   "source": [
    "import pandas as pd\n",
    "from scipy import stats\n",
    "import numpy as np\n",
    "\n",
    "df = pd.DataFrame({\"sample\" :[73, 71, 74, 69, 70, 73, 70, 68, 75, 72, 70, 72, 73, 70, 70, 72, 71, 70, 75, 72]})\n",
    "lower, upper = stats.t.interval(0.95, len(df)-1,loc = np.mean(df), scale=stats.sem(df))\n",
    "print(\"신뢰구간: ([{0}, {1})\".format(lower.round(2), upper.round(2)))"
   ]
  },
  {
   "cell_type": "code",
   "execution_count": 7,
   "id": "5d3c09fb",
   "metadata": {},
   "outputs": [
    {
     "name": "stdout",
     "output_type": "stream",
     "text": [
      "1-Sample t-test\n",
      "t 통계량: 0.864\n",
      "p 통계량: 0.864\n"
     ]
    }
   ],
   "source": [
    "import pandas as pd\n",
    "from scipy import stats\n",
    "\n",
    "df = ([74.5, 81.2, 73.8, 82.0, 76.3, 75.7, 80.2, 72.6, 77.9, 82.8])\n",
    "t_res = stats.ttest_1samp(df, 76.7)\n",
    "\n",
    "t, p = t_res.statistic.round(3), t_res.statistic.round(3)\n",
    "\n",
    "print(\"1-Sample t-test\")\n",
    "print(\"t 통계량: {}\".format(t))\n",
    "print(\"p 통계량: {}\".format(p))"
   ]
  },
  {
   "cell_type": "markdown",
   "id": "3a818da3",
   "metadata": {},
   "source": [
    "### 두 집단 간 평균 같은지 비교"
   ]
  },
  {
   "cell_type": "code",
   "execution_count": 11,
   "id": "a078cec7",
   "metadata": {},
   "outputs": [
    {
     "name": "stdout",
     "output_type": "stream",
     "text": [
      "statistic=0.8425754904747009, p-value=0.08004532009363174\n",
      "statistic=0.7734813094139099, p-value=0.014793775975704193\n"
     ]
    },
    {
     "data": {
      "text/plain": [
       "BartlettResult(statistic=0.4241143652313345, pvalue=0.5148911629500695)"
      ]
     },
     "execution_count": 11,
     "metadata": {},
     "output_type": "execute_result"
    }
   ],
   "source": [
    "import pandas as pd\n",
    "from scipy import stats\n",
    "\n",
    "df = pd.DataFrame({\"A\":[1.883, 1.715, 1.799, 1.768, 1.711, 1.832, 1.427, 1.344], \n",
    "\"B\":[1.435, 1.572, 1.486, 1.511, 1.457, 1.548, 1.404, 1.883]})\n",
    "\n",
    "statistic, p = stats.shapiro(df[\"A\"])\n",
    "print(\"statistic={}, p-value={}\".format(statistic, p))\n",
    "statistic, p = stats.shapiro(df[\"B\"])\n",
    "print(\"statistic={}, p-value={}\".format(statistic, p))\n",
    "\n",
    "stats.bartlett(df[\"A\"], df[\"B\"])"
   ]
  },
  {
   "cell_type": "markdown",
   "id": "186e01bc",
   "metadata": {},
   "source": [
    "### 짝을 이루는 집단의 평균 차이 있는지 검정"
   ]
  },
  {
   "cell_type": "code",
   "execution_count": 15,
   "id": "d866c02e",
   "metadata": {},
   "outputs": [
    {
     "name": "stdout",
     "output_type": "stream",
     "text": [
      "Paired t-test\n",
      "t: [-2.266]\n",
      "p: [0.05]\n"
     ]
    }
   ],
   "source": [
    " import pandas as pd\n",
    "from scipy import stats\n",
    "\n",
    "df1 = pd.DataFrame({\"before\":[720, 589, 780, 648, 720, 589, 780, 648, 780, 648]}) \n",
    "df2 = pd.DataFrame({\"after\":[710, 580, 787, 712, 750, 600, 782, 670, 790, 680]})\n",
    "\n",
    "t_res = stats.ttest_rel(df1, df2)\n",
    "t, p = t_res.statistic.round(3), t_res.pvalue.round(3)\n",
    "print(\"Paired t-test\")\n",
    "print(\"t: {}\".format(t))\n",
    "print(\"p: {}\".format(p))"
   ]
  },
  {
   "cell_type": "markdown",
   "id": "bef64076",
   "metadata": {},
   "source": [
    "### 동전"
   ]
  },
  {
   "cell_type": "code",
   "execution_count": 20,
   "id": "9ca38997",
   "metadata": {},
   "outputs": [
    {
     "name": "stdout",
     "output_type": "stream",
     "text": [
      "1 Proportion test\n",
      "z: -2.041\n",
      "p: 0.041\n"
     ]
    }
   ],
   "source": [
    "import pandas as pd\n",
    "from scipy import stats\n",
    "from statsmodels.stats.proportion import proportions_ztest\n",
    "\n",
    "count = 40\n",
    "n_obs = 100\n",
    "value = 0.5\n",
    "\n",
    "stat, pval = proportions_ztest(count, n_obs, value)\n",
    "print(\"1 Proportion test\")\n",
    "print(\"z: {0:0.3f}\".format(stat))\n",
    "print(\"p: {0:0.3f}\".format(pval))"
   ]
  },
  {
   "cell_type": "markdown",
   "id": "ee024f0f",
   "metadata": {},
   "source": [
    "### 불량품"
   ]
  },
  {
   "cell_type": "code",
   "execution_count": 23,
   "id": "63a92136",
   "metadata": {},
   "outputs": [
    {
     "name": "stdout",
     "output_type": "stream",
     "text": [
      "2 Proportion test\n",
      "z: 2.073\n",
      "p: 0.038\n"
     ]
    }
   ],
   "source": [
    "import pandas as pd\n",
    "import numpy as np\n",
    "from scipy import stats\n",
    "from statsmodels.stats.proportion import proportions_ztest\n",
    "\n",
    "count = np.array([14, 5])\n",
    "nobs = np.array([1200, 1200])\n",
    "\n",
    "stat, pval = proportions_ztest(count, nobs)\n",
    "\n",
    "print(\"2 Proportion test\")\n",
    "print(\"z: {0:0.3f}\".format(stat))\n",
    "print(\"p: {0:0.3f}\".format(pval))"
   ]
  },
  {
   "cell_type": "markdown",
   "id": "2ab9a330",
   "metadata": {},
   "source": [
    "## 카이제곱 검정"
   ]
  },
  {
   "cell_type": "code",
   "execution_count": 25,
   "id": "d3d615c1",
   "metadata": {},
   "outputs": [
    {
     "name": "stdout",
     "output_type": "stream",
     "text": [
      "Chi-square test\n",
      "chisq: 95.759\n",
      "p: 0.000\n",
      "dgree pf freedom: 30\n",
      "expected value: \n",
      "[[10.224  8.43   5.381  3.946  1.973 10.045]\n",
      " [ 8.179  6.744  4.305  3.157  1.578  8.036]\n",
      " [11.247  9.274  5.919  4.341  2.17  11.049]\n",
      " [ 7.157  5.901  3.767  2.762  1.381  7.031]\n",
      " [ 6.135  5.058  3.229  2.368  1.184  6.027]\n",
      " [ 8.179  6.744  4.305  3.157  1.578  8.036]\n",
      " [ 5.879  4.848  3.094  2.269  1.135  5.776]]\n"
     ]
    }
   ],
   "source": [
    "import pandas as pd\n",
    "import numpy as np\n",
    "from scipy import stats\n",
    "from statsmodels.stats.proportion import proportions_ztest\n",
    "\n",
    "df = pd.read_csv(\"통계data/카이제곱_노트북.csv\")\n",
    "\n",
    "chi, pval, dof, expected = stats.chi2_contingency(df)\n",
    "\n",
    "print(\"Chi-square test\")\n",
    "print(\"chisq: {0:0.3f}\".format(chi))\n",
    "print(\"p: {0:0.3f}\".format(pval))\n",
    "print(\"dgree pf freedom: {}\".format(dof))\n",
    "print(\"expected value: \\n{}\".format(expected.round(3)))"
   ]
  },
  {
   "cell_type": "markdown",
   "id": "4d783bee",
   "metadata": {},
   "source": [
    "## ANOVA"
   ]
  },
  {
   "cell_type": "code",
   "execution_count": null,
   "id": "332f76cb",
   "metadata": {},
   "outputs": [],
   "source": []
  },
  {
   "cell_type": "markdown",
   "id": "e3fb0882",
   "metadata": {},
   "source": [
    "### 쿠키"
   ]
  },
  {
   "cell_type": "code",
   "execution_count": 29,
   "id": "1eab55c2",
   "metadata": {},
   "outputs": [
    {
     "name": "stdout",
     "output_type": "stream",
     "text": [
      "   strength  temp    Quantity    b_time    Oven_TMP\n",
      "0      37.6    14  120.790646  0.798922  307.106574\n",
      "1      38.6    15   99.643155  0.849020  318.178850\n",
      "2      37.2    14  115.102395  0.816163  339.715122\n",
      "3      36.4    16  114.640504  0.758266  341.174398\n",
      "4      38.6    17  141.266536  0.815894  335.904402\n",
      "Corr Analysis\n",
      "corr: -0.899\n",
      "p-value: 0.000\n"
     ]
    }
   ],
   "source": [
    "import pandas as pd\n",
    "import numpy as np\n",
    "from scipy import stats\n",
    "\n",
    "df = pd.read_csv(\"통계data/correlation.csv\")\n",
    "print(df.head())\n",
    "corr, pval = stats.pearsonr(df[\"strength\"], df[\"temp\"])\n",
    "print(\"Corr Analysis\")\n",
    "print(\"corr: {0:0.3f}\".format(corr))\n",
    "print(\"p-value: {0:0.3f}\".format(pval))"
   ]
  }
 ],
 "metadata": {
  "kernelspec": {
   "display_name": "Python 3 (ipykernel)",
   "language": "python",
   "name": "python3"
  },
  "language_info": {
   "codemirror_mode": {
    "name": "ipython",
    "version": 3
   },
   "file_extension": ".py",
   "mimetype": "text/x-python",
   "name": "python",
   "nbconvert_exporter": "python",
   "pygments_lexer": "ipython3",
   "version": "3.9.13"
  }
 },
 "nbformat": 4,
 "nbformat_minor": 5
}

{
 "cells": [
  {
   "cell_type": "markdown",
   "id": "cb3a0346",
   "metadata": {},
   "source": [
    "## 자동차 모델과 연비 실습"
   ]
  },
  {
   "cell_type": "code",
   "execution_count": 15,
   "id": "cdc6d5bd",
   "metadata": {},
   "outputs": [
    {
     "name": "stdout",
     "output_type": "stream",
     "text": [
      "  manufacturer model  displacement  year  cylinder automatic driving  mpg  \\\n",
      "0         audi    a4           1.8  1999         4      auto       f   18   \n",
      "1         audi    a4           1.8  1999         4    manual       f   21   \n",
      "2         audi    a4           2.0  2008         4    manual       f   20   \n",
      "3         audi    a4           2.0  2008         4      auto       f   21   \n",
      "4         audi    a4           2.8  1999         6      auto       f   16   \n",
      "\n",
      "   highway_mileage fuel    class  \n",
      "0               29    p  compact  \n",
      "1               29    p  compact  \n",
      "2               31    p  compact  \n",
      "3               30    p  compact  \n",
      "4               26    p  compact  \n"
     ]
    }
   ],
   "source": [
    "import pandas as pd\n",
    "import numpy as np\n",
    "\n",
    "ds_mycars = pd.read_csv(\"1BD/mycars.csv\")\n",
    "print(ds_mycars.head())"
   ]
  },
  {
   "cell_type": "code",
   "execution_count": 16,
   "id": "8c637d97",
   "metadata": {},
   "outputs": [
    {
     "name": "stdout",
     "output_type": "stream",
     "text": [
      "Car     Count  CumCnt    Percent      CumPct\n",
      "auto      157     157  67.094017   67.094017\n",
      "manual     77     234  32.905983  100.000000\n"
     ]
    }
   ],
   "source": [
    "df  = ds_mycars[['automatic','model']]\n",
    "\n",
    "count = df['automatic'].value_counts().sort_index()\n",
    "cumcnt = np.cumsum(count)\n",
    "\n",
    "percent = count/sum(count)*100\n",
    "cumpct = np.cumsum(percent)\n",
    "\n",
    "count_data = pd.DataFrame({'Count':count, 'CumCnt': cumcnt, 'Percent':percent, 'CumPct': cumpct})\n",
    "count_data.columns.name=\"Car\"\n",
    "print(count_data)"
   ]
  },
  {
   "cell_type": "markdown",
   "id": "72eacaaa",
   "metadata": {},
   "source": [
    "## 정규분포 실습"
   ]
  },
  {
   "cell_type": "code",
   "execution_count": 17,
   "id": "6de98e33",
   "metadata": {},
   "outputs": [
    {
     "name": "stdout",
     "output_type": "stream",
     "text": [
      "0.8413447460685429 범위\n"
     ]
    }
   ],
   "source": [
    "import pandas as pd\n",
    "from scipy import stats\n",
    "\n",
    "meanHeight = 175\n",
    "sigma = 5\n",
    "myHeight = 180\n",
    "\n",
    "prob = stats.norm.cdf(myHeight, meanHeight, sigma)\n",
    "print(prob, \"범위\")"
   ]
  },
  {
   "cell_type": "markdown",
   "id": "0507b34c",
   "metadata": {},
   "source": [
    "## 정규분포 실습2"
   ]
  },
  {
   "cell_type": "code",
   "execution_count": 23,
   "id": "51e151ca",
   "metadata": {},
   "outputs": [
    {
     "name": "stdout",
     "output_type": "stream",
     "text": [
      "1리터 가지고 9km 이상 15km 이하 달릴 확률:  0.9522096477271853\n",
      "1리터 가지고 15km 이상 달릴 확률:  0.047790352272814696\n"
     ]
    }
   ],
   "source": [
    "import pandas as pd\n",
    "from scipy import stats\n",
    "\n",
    "mu = 9\n",
    "sigma = 3\n",
    "x1 = 15\n",
    "\n",
    "prob = stats.norm.cdf(myHeight, meanHeight, sigma)\n",
    "print(\"1리터 가지고 9km 이상 15km 이하 달릴 확률: \",prob)\n",
    "print(\"1리터 가지고 15km 이상 달릴 확률: \",1-prob)"
   ]
  },
  {
   "cell_type": "markdown",
   "id": "a1eb2892",
   "metadata": {},
   "source": [
    "## t분포 확률 계산"
   ]
  },
  {
   "cell_type": "code",
   "execution_count": 32,
   "id": "c8c75ff6",
   "metadata": {},
   "outputs": [
    {
     "name": "stdout",
     "output_type": "stream",
     "text": [
      "P(T<=F): 0.976\n"
     ]
    }
   ],
   "source": [
    "import pandas as pd\n",
    "from scipy import stats\n",
    "\n",
    "t = 2.0\n",
    "df = 100\n",
    "\n",
    "# 누적확률 값 계산\n",
    "prob = stats.t.cdf(t, df)\n",
    "print(\"P(T<=F): {:.3f}\".format(prob))"
   ]
  },
  {
   "cell_type": "markdown",
   "id": "8eff57a1",
   "metadata": {},
   "source": [
    "## t분포 확률 계산2"
   ]
  },
  {
   "cell_type": "code",
   "execution_count": 31,
   "id": "61c50a75",
   "metadata": {},
   "outputs": [
    {
     "name": "stdout",
     "output_type": "stream",
     "text": [
      "P(X<=3.0): 0.9915\n"
     ]
    }
   ],
   "source": [
    "import pandas as pd\n",
    "from scipy import stats\n",
    "\n",
    "chisq = 3.0\n",
    "df = 8\n",
    "\n",
    "# 누적확률 값 계산\n",
    "prob = stats.t.cdf(chisq, df)\n",
    "print(\"P(X<={0}): {1:.4f}\".format(chisq, prob))"
   ]
  },
  {
   "cell_type": "markdown",
   "id": "ca743f99",
   "metadata": {},
   "source": [
    "## F분포"
   ]
  },
  {
   "cell_type": "code",
   "execution_count": 33,
   "id": "17606ae5",
   "metadata": {},
   "outputs": [
    {
     "name": "stdout",
     "output_type": "stream",
     "text": [
      "P(X<=F): 0.850\n"
     ]
    }
   ],
   "source": [
    "import pandas as pd\n",
    "from scipy import stats\n",
    "\n",
    "f = 1.5\n",
    "dfnum = 10\n",
    "dfden = 100\n",
    "\n",
    "prob = stats.f.cdf(x=f, dfn=dfnum, dfd=dfden)\n",
    "print(\"P(X<=F): {1:.3f}\".format(dfnum, prob))"
   ]
  },
  {
   "cell_type": "markdown",
   "id": "e7bd86dd",
   "metadata": {},
   "source": [
    "## 이항분포"
   ]
  },
  {
   "cell_type": "code",
   "execution_count": 34,
   "id": "59d68f3f",
   "metadata": {},
   "outputs": [
    {
     "name": "stdout",
     "output_type": "stream",
     "text": [
      "P(X=0): 0.168\n",
      "P(X=1): 0.360\n",
      "P(X=2): 0.309\n",
      "P(X=3): 0.132\n",
      "P(X=4): 0.028\n",
      "P(X=5): 0.002\n"
     ]
    }
   ],
   "source": [
    "import pandas as pd\n",
    "from scipy import stats\n",
    "\n",
    "n=5\n",
    "for i in range(n+1):\n",
    "    prob = stats.binom.pmf(k=i, n=n, p=0.3)\n",
    "    print(\"P(X={0}): {1:.3f}\".format(i,prob))"
   ]
  },
  {
   "cell_type": "markdown",
   "id": "d3da8dac",
   "metadata": {},
   "source": [
    "## 정규성 검정"
   ]
  },
  {
   "cell_type": "code",
   "execution_count": 36,
   "id": "d99c7ed2",
   "metadata": {},
   "outputs": [
    {
     "name": "stdout",
     "output_type": "stream",
     "text": [
      "   Mat_A  Mat_B  Total  Sub\n",
      "0   73.4   68.7   73.4    1\n",
      "1   77.0   71.4   77.0    1\n",
      "2   73.7   69.8   73.7    1\n",
      "3   73.3   75.3   73.3    1\n",
      "4   73.1   71.3   73.1    1\n",
      "ShapiroResult(statistic=nan, pvalue=1.0)\n",
      "ShapiroResult(statistic=nan, pvalue=1.0)\n"
     ]
    }
   ],
   "source": [
    "import pandas as pd\n",
    "from scipy import stats\n",
    "\n",
    "ds = pd.read_csv(\"1BD/2sample_t_test.csv\")\n",
    "print(ds.head())\n",
    "\n",
    "d1 = ds[\"Mat_A\"]\n",
    "d2 = ds[\"Mat_B\"]\n",
    "\n",
    "# 정규성 검정\n",
    "print(stats.shapiro(d1))\n",
    "print(stats.shapiro(d2))"
   ]
  },
  {
   "cell_type": "markdown",
   "id": "96d16a98",
   "metadata": {},
   "source": [
    "## 모평균 구간추정"
   ]
  },
  {
   "cell_type": "code",
   "execution_count": 38,
   "id": "ea488b1c",
   "metadata": {},
   "outputs": [
    {
     "name": "stdout",
     "output_type": "stream",
     "text": [
      "   sample\n",
      "0      18\n",
      "1      18\n",
      "2      20\n",
      "3      21\n",
      "4      20\n",
      "신뢰구간: ([[19.33], [19.67])\n"
     ]
    },
    {
     "name": "stderr",
     "output_type": "stream",
     "text": [
      "/opt/homebrew/lib/python3.9/site-packages/numpy/core/fromnumeric.py:3430: FutureWarning: In a future version, DataFrame.mean(axis=None) will return a scalar mean over the entire DataFrame. To retain the old behavior, use 'frame.mean(axis=0)' or just 'frame.mean()'\n",
      "  return mean(axis=axis, dtype=dtype, out=out, **kwargs)\n"
     ]
    }
   ],
   "source": [
    "import pandas as pd\n",
    "from scipy import stats\n",
    "import numpy as np\n",
    "\n",
    "df = pd.DataFrame({\"sample\" :[18, 18, 20, 21, 20, 23, 19, 18, 17, 21, 22, 20, 20, 21, 20, 19, 19, 18, 17, 19]})\n",
    "print(df.head())\n",
    "\n",
    "lower, upper = stats.norm.interval(0.95, loc = np.mean(df), scale=0.397/np.sqrt(20))\n",
    "print(\"신뢰구간: ([{0}, {1})\".format(lower.round(2), upper.round(2)))"
   ]
  },
  {
   "cell_type": "markdown",
   "id": "2a45c85d",
   "metadata": {},
   "source": [
    "## 추론 통계"
   ]
  },
  {
   "cell_type": "code",
   "execution_count": 40,
   "id": "9b5e8888",
   "metadata": {},
   "outputs": [
    {
     "name": "stdout",
     "output_type": "stream",
     "text": [
      "신뢰구간: ([[70.6], [72.4])\n"
     ]
    },
    {
     "name": "stderr",
     "output_type": "stream",
     "text": [
      "/opt/homebrew/lib/python3.9/site-packages/numpy/core/fromnumeric.py:3430: FutureWarning: In a future version, DataFrame.mean(axis=None) will return a scalar mean over the entire DataFrame. To retain the old behavior, use 'frame.mean(axis=0)' or just 'frame.mean()'\n",
      "  return mean(axis=axis, dtype=dtype, out=out, **kwargs)\n"
     ]
    }
   ],
   "source": [
    "import pandas as pd\n",
    "from scipy import stats\n",
    "import numpy as np\n",
    "\n",
    "df = pd.DataFrame({\"sample\" :[73, 71, 74, 69, 70, 73, 70, 68, 75, 72, 70, 72, 73, 70, 70, 72, 71, 70, 75, 72]})\n",
    "lower, upper = stats.t.interval(0.95, len(df)-1,loc = np.mean(df), scale=stats.sem(df))\n",
    "print(\"신뢰구간: ([{0}, {1})\".format(lower.round(2), upper.round(2)))"
   ]
  }
 ],
 "metadata": {
  "kernelspec": {
   "display_name": "Python 3 (ipykernel)",
   "language": "python",
   "name": "python3"
  },
  "language_info": {
   "codemirror_mode": {
    "name": "ipython",
    "version": 3
   },
   "file_extension": ".py",
   "mimetype": "text/x-python",
   "name": "python",
   "nbconvert_exporter": "python",
   "pygments_lexer": "ipython3",
   "version": "3.9.13"
  }
 },
 "nbformat": 4,
 "nbformat_minor": 5
}

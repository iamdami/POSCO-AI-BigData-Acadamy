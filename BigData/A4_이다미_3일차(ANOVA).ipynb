{
 "cells": [
  {
   "cell_type": "markdown",
   "id": "9217278d",
   "metadata": {},
   "source": [
    "## 정규성 검정"
   ]
  },
  {
   "cell_type": "code",
   "execution_count": 53,
   "id": "17cb5450",
   "metadata": {},
   "outputs": [
    {
     "name": "stdout",
     "output_type": "stream",
     "text": [
      "ShapiroResult(statistic=nan, pvalue=1.0)\n",
      "ShapiroResult(statistic=nan, pvalue=1.0)\n"
     ]
    }
   ],
   "source": [
    "import pandas as pd\n",
    "from scipy import stats\n",
    "\n",
    "#p.105 [실습] 정규성 검정\n",
    "ds_camshaft = pd.read_csv(\"1BD/2sample_t_test.csv\", engine = \"python\") #csv 파일 호출\n",
    "ds_camshaft.head() #파일 정상 출력 확인\n",
    "\n",
    "data1 = ds_camshaft['Mat_A']\n",
    "data2 = ds_camshaft['Mat_B']\n",
    "print(stats.shapiro(data1))\n",
    "print(stats.shapiro(data2))\n",
    "#두 가지 경우 전부 p값이 0.05이상이 나왔다.\n",
    "#두 가지 경우 모두 정규분포를 따른다는 것을 알 수 있다."
   ]
  },
  {
   "cell_type": "markdown",
   "id": "9fd309a9",
   "metadata": {},
   "source": [
    "## 모평균 구간 추정"
   ]
  },
  {
   "cell_type": "code",
   "execution_count": 49,
   "id": "a1030648",
   "metadata": {
    "scrolled": true
   },
   "outputs": [
    {
     "name": "stdout",
     "output_type": "stream",
     "text": [
      "신뢰구간: ([17.83],[21.17])\n"
     ]
    },
    {
     "name": "stderr",
     "output_type": "stream",
     "text": [
      "/opt/homebrew/lib/python3.9/site-packages/numpy/core/fromnumeric.py:3430: FutureWarning: In a future version, DataFrame.mean(axis=None) will return a scalar mean over the entire DataFrame. To retain the old behavior, use 'frame.mean(axis=0)' or just 'frame.mean()'\n",
      "  return mean(axis=axis, dtype=dtype, out=out, **kwargs)\n"
     ]
    }
   ],
   "source": [
    "import pandas as pd\n",
    "from scipy import stats\n",
    "import numpy as np\n",
    "\n",
    "#p.108 [실습] 모평균 구간추정_모표준편차를 아는 경우\n",
    "df = pd.DataFrame({\"sample\":[18, 18, 20, 21, 20, 23, 19, 18, 17, 21, 22, 20, 20, 21, 20, 19, 19, 18, 17, 19]})\n",
    "#데이터를 직접 df에 넣는다.\n",
    "df.head()\n",
    "#입력한 데이터의 헤드부분을 출력하여 정상 출력되는지 확인한다.\n",
    "lower,upper = stats.norm.interval(0.95,loc=np.mean(df),scale=3.8/np.sqrt(20))\n",
    "#95%의 신뢰수준, 평균값, 3.8의 모표준편차/루트n을 인자로 넣는다.\n",
    "print(\"신뢰구간: ({0},{1})\".format(lower.round(2),upper.round(2)))\n",
    "#신뢰수준 95%에서 모평균이 존재할 수 있는 범위가 17.83에서 21.17 사이이다."
   ]
  },
  {
   "cell_type": "markdown",
   "id": "b0befe96",
   "metadata": {},
   "source": [
    "## 추론 통계"
   ]
  },
  {
   "cell_type": "code",
   "execution_count": 48,
   "id": "ef0f41f1",
   "metadata": {},
   "outputs": [
    {
     "name": "stdout",
     "output_type": "stream",
     "text": [
      "신뢰구간:([70.6],[72.4])\n"
     ]
    },
    {
     "name": "stderr",
     "output_type": "stream",
     "text": [
      "/opt/homebrew/lib/python3.9/site-packages/numpy/core/fromnumeric.py:3430: FutureWarning: In a future version, DataFrame.mean(axis=None) will return a scalar mean over the entire DataFrame. To retain the old behavior, use 'frame.mean(axis=0)' or just 'frame.mean()'\n",
      "  return mean(axis=axis, dtype=dtype, out=out, **kwargs)\n"
     ]
    }
   ],
   "source": [
    "import pandas as pd\n",
    "from scipy import stats\n",
    "import numpy as np\n",
    "\n",
    "#p.111 [실습] 모평균 추정_모표준편차를 모르는 경우\n",
    "df = pd.DataFrame({\"sample\":[73, 71, 74, 69, 70, 73, 70, 68, 75, 72, 70, 72, 73, 70, 70, 72, 71, 70, 75, 72]})\n",
    "#데이터를 직접 df에 넣는다.\n",
    "lower,upper = stats.t.interval(0.95,len(df)-1,loc=np.mean(df),scale=scipy.stats.sem(df))\n",
    "#95%의 신뢰수준, n-1, 평균, 모표준편차/루트n을 인자로 넣는다.\n",
    "print(\"신뢰구간:({0},{1})\".format(lower.round(2),upper.round(2)))\n",
    "#신뢰수준 95%에서 모평균이 존재할 수 있는 범위가 70.6에서 72.4 사이이다."
   ]
  },
  {
   "cell_type": "code",
   "execution_count": 7,
   "id": "ae2a5f56",
   "metadata": {},
   "outputs": [
    {
     "name": "stdout",
     "output_type": "stream",
     "text": [
      "1-Sample t-test\n",
      "t 통계량: 0.864\n",
      "p 통계량: 0.864\n"
     ]
    }
   ],
   "source": [
    "import pandas as pd\n",
    "from scipy import stats\n",
    "\n",
    "df = ([74.5, 81.2, 73.8, 82.0, 76.3, 75.7, 80.2, 72.6, 77.9, 82.8])\n",
    "t_res = stats.ttest_1samp(df, 76.7)\n",
    "\n",
    "t, p = t_res.statistic.round(3), t_res.statistic.round(3)\n",
    "\n",
    "print(\"1-Sample t-test\")\n",
    "print(\"t 통계량: {}\".format(t))\n",
    "print(\"p 통계량: {}\".format(p))"
   ]
  },
  {
   "cell_type": "markdown",
   "id": "0d680189",
   "metadata": {},
   "source": [
    "### 두 집단 간 평균 같은지 비교"
   ]
  },
  {
   "cell_type": "code",
   "execution_count": 11,
   "id": "17c7ff61",
   "metadata": {},
   "outputs": [
    {
     "name": "stdout",
     "output_type": "stream",
     "text": [
      "statistic=0.8425754904747009, p-value=0.08004532009363174\n",
      "statistic=0.7734813094139099, p-value=0.014793775975704193\n"
     ]
    },
    {
     "data": {
      "text/plain": [
       "BartlettResult(statistic=0.4241143652313345, pvalue=0.5148911629500695)"
      ]
     },
     "execution_count": 11,
     "metadata": {},
     "output_type": "execute_result"
    }
   ],
   "source": [
    "import pandas as pd\n",
    "from scipy import stats\n",
    "\n",
    "df = pd.DataFrame({\"A\":[1.883, 1.715, 1.799, 1.768, 1.711, 1.832, 1.427, 1.344], \n",
    "\"B\":[1.435, 1.572, 1.486, 1.511, 1.457, 1.548, 1.404, 1.883]})\n",
    "\n",
    "statistic, p = stats.shapiro(df[\"A\"])\n",
    "print(\"statistic={}, p-value={}\".format(statistic, p))\n",
    "statistic, p = stats.shapiro(df[\"B\"])\n",
    "print(\"statistic={}, p-value={}\".format(statistic, p))\n",
    "\n",
    "stats.bartlett(df[\"A\"], df[\"B\"])"
   ]
  },
  {
   "cell_type": "markdown",
   "id": "8bb5663c",
   "metadata": {},
   "source": [
    "### 짝을 이루는 집단의 평균 차이 있는지 검정"
   ]
  },
  {
   "cell_type": "code",
   "execution_count": 47,
   "id": "db577e1b",
   "metadata": {},
   "outputs": [
    {
     "name": "stdout",
     "output_type": "stream",
     "text": [
      "Paired t-test\n",
      "t:[-2.266]\n",
      "p:[0.0497]\n"
     ]
    }
   ],
   "source": [
    " import pandas as pd\n",
    "from scipy import stats\n",
    "\n",
    "#p.151 [실습] Paired t-test\n",
    "df1 = pd.DataFrame({'before':[720,589,780,648,720,589,780,648,780,648]}) #before 데이터 생성\n",
    "df2 = pd.DataFrame({'after':[710,580,787,712,750,600,782,670,790,680]})  #after 데이터 생성\n",
    "\n",
    "t_result = stats.ttest_rel(df1,df2) #Paired t-test 수행\n",
    "t,p = t_result.statistic.round(3), t_result.pvalue.round(4) #결과 값 저장\n",
    "\n",
    "print(\"Paired t-test\") #출력\n",
    "print(\"t:{}\".format(t))\n",
    "print(\"p:{}\".format(p))\n",
    "\n",
    "#귀무가설: 성적이 학원을 가기전과 차이가 없다.\n",
    "#대립가설: 성적이 학원을 가기전과 차이가 있다.\n",
    "#p값이 0.05이므로 p<=0.05는 성립한다. \n",
    "#따라서, 성적이 학원을 가기전과 차이가 있다고 볼 수 있다.\n",
    "#즉, 대립가설을 채택했다."
   ]
  },
  {
   "cell_type": "markdown",
   "id": "33f53821",
   "metadata": {},
   "source": [
    "### 동전"
   ]
  },
  {
   "cell_type": "code",
   "execution_count": 39,
   "id": "5f7f26c7",
   "metadata": {},
   "outputs": [
    {
     "name": "stdout",
     "output_type": "stream",
     "text": [
      "2 Proprotion test\n",
      "z: -2.041\n",
      "p:0.041\n"
     ]
    }
   ],
   "source": [
    "import pandas as pd\n",
    "from scipy import stats\n",
    "from statsmodels.stats.proportion import proportions_ztest\n",
    "\n",
    "#p. 157 [실습] 1 Proportion test\n",
    "count = 40 #앞면이 40번 나옴\n",
    "n_obs = 100 #100번 던짐\n",
    "value = 0.5 #앞면이 나올 확률\n",
    "\n",
    "stat, pval = proportions_ztest(count, n_obs, value)\n",
    "\n",
    "print(\"2 Proprotion test\") #출력\n",
    "print('z: {0:0.3f}'.format(stat))\n",
    "print(\"p:{0:0.3f}\".format(pval))\n",
    "\n",
    "#귀무가설: 동전을 던졌을 때 앞면이 나올 것이다.\n",
    "#대립가설: 동전을 던졌을 때 앞면이 나오지 않을 것이다.\n",
    "#p값이 0.0041이므로 p<=0.05는 성립한다. \n",
    "#따라서, 동전을 던졌을 때 앞면이 나오지 않을 것이다.\n",
    "#즉, 대립가설을 채택했다."
   ]
  },
  {
   "cell_type": "markdown",
   "id": "59822143",
   "metadata": {},
   "source": [
    "### 불량품"
   ]
  },
  {
   "cell_type": "code",
   "execution_count": 40,
   "id": "16a6d5b2",
   "metadata": {},
   "outputs": [
    {
     "name": "stdout",
     "output_type": "stream",
     "text": [
      "2 Proprotion test\n",
      "z: 2.073\n",
      "p:0.038\n"
     ]
    }
   ],
   "source": [
    "import pandas as pd\n",
    "import numpy as np\n",
    "from scipy import stats\n",
    "from statsmodels.stats.proportion import proportions_ztest\n",
    "\n",
    "#p.160 [실습] 2 Proportion test\n",
    "count = np.array([14,5]) #공장 A와 B의 불량품 갯수를 저장\n",
    "nobs = np.array([1200,1200]) #공장 A와 B의 생산 갯수를 저장\n",
    "#즉, 공장A는 1200개중 불량품이 14개, 공장B는 1200개중 불량품이 5개라는 뜻이다.\n",
    "\n",
    "stat, pval = proportions_ztest(count, nobs) #Proportion test 실행\n",
    "\n",
    "print(\"2 Proprotion test\") #출력\n",
    "print('z: {0:0.3f}'.format(stat))\n",
    "print(\"p:{0:0.3f}\".format(pval))\n",
    "\n",
    "#귀무가설: 두 공정의 불량률에 차이가 없다.\n",
    "#대립가설: 두 공정의 불량률에 차이가 있다.\n",
    "#p값이 0.038이므로 p<0.05는 성립한다.\n",
    "#즉, 두 공정의 불량률에 차이가 있다고 볼 수 있다.\n",
    "#즉, 대립가설을 채택했다."
   ]
  },
  {
   "cell_type": "markdown",
   "id": "ff983409",
   "metadata": {},
   "source": [
    "## 카이제곱 검정"
   ]
  },
  {
   "cell_type": "code",
   "execution_count": 42,
   "id": "c892deff",
   "metadata": {},
   "outputs": [
    {
     "name": "stdout",
     "output_type": "stream",
     "text": [
      "chi-squre test\n",
      "chisq: 98.274\n",
      "p: 0.000\n",
      "degree pf freedom: 30\n"
     ]
    }
   ],
   "source": [
    "import pandas as pd\n",
    "import numpy as np\n",
    "from scipy import stats\n",
    "from statsmodels.stats.proportion import proportions_ztest\n",
    "\n",
    "#p168 [실습] 카이제곱 검정\n",
    "df = pd.DataFrame({'A':[18,1,8,7,10,9,10],'B':[8,2,14,5,5,9,4],'C':[4,1,3,4,9,5,4],'D':[4,1,2,3,2,7,3],'E':[3,1,3,1,1,1,1],'F':[3,25,8,10,2,1,7]})\n",
    "#데이터 입력\n",
    "chi,pval,dof,expected = stats.chi2_contingency(df.T) #chi-squre test실행\n",
    "\n",
    "print(\"chi-squre test\") #결과 출력\n",
    "print('chisq: {0:0.3f}'.format(chi))\n",
    "print('p: {0:0.3f}'.format(pval))\n",
    "print('degree pf freedom: {}'.format(dof))\n",
    "\n",
    "#귀무가설: 각 제품에 대한 이미지에 대해 차이가 없다.\n",
    "#대립가설: 각 제품에 대한 이미지에 대해 차이가 있다.\n",
    "#p값이 0이므로 p<0.05는 성립한다.\n",
    "#즉, 각 제품에 대한 이미지에 대해 차이가 있다고 볼 수 있다.\n",
    "#즉, 대립가설을 채택했다."
   ]
  },
  {
   "cell_type": "markdown",
   "id": "4db80104",
   "metadata": {},
   "source": [
    "## ANOVA"
   ]
  },
  {
   "cell_type": "code",
   "execution_count": 46,
   "id": "0459336f",
   "metadata": {},
   "outputs": [
    {
     "name": "stdout",
     "output_type": "stream",
     "text": [
      "One-way\n",
      "F통계량:4.172\n",
      "p-value:0.019\n"
     ]
    }
   ],
   "source": [
    "import pandas as pd\n",
    "import matplotlib.pyplot as plt\n",
    "import seaborn as sns\n",
    "\n",
    "#p.176 [실습] One way ANOVA\n",
    "ds_anova = pd.read_csv(\"1BD/ANOVA.csv\", engine = \"python\") #데이터를 불러옴\n",
    "df = ds_anova[['time','gangjong']]\n",
    "df.boxplot(by = 'gangjong') #그래프 그리기(x축은 강종, y축은 시간을 갖음)\n",
    "\n",
    "a = df['time'][df.gangjong=='a'] # a강종의 시간을 변수 a에 저장\n",
    "b = df['time'][df.gangjong=='b'] # b강종의 시간을 변수 a에 저장\n",
    "c = df['time'][df.gangjong=='c'] # c강종의 시간을 변수 a에 저장\n",
    "d = df['time'][df.gangjong=='d'] # d강종의 시간을 변수 a에 저장\n",
    "\n",
    "f_result = stats.f_oneway(a, b, c, d) #ANOVA 실행\n",
    "f, p = f_result.statistic.round(3), f_result.pvalue.round(3) #결과값 저장\n",
    "print(\"One-way\") #출력\n",
    "print(\"F통계량:{}\".format(f))\n",
    "print(\"p-value:{}\".format(p))\n",
    "\n",
    "#귀무가설: 강종별 2차정련 시간에 차이가 없다.\n",
    "#대립가설: 강종별 2차정련 시간에 차이가 있다.\n",
    "#p값이 0.019이므로 p<0.05는 성립한다.\n",
    "#즉, 강종별 2차정련 시간에는 차이가 있다고 볼 수 있다.\n",
    "#즉, 대립가설을 채택했다."
   ]
  },
  {
   "cell_type": "markdown",
   "id": "08d12073",
   "metadata": {},
   "source": [
    "### 쿠키"
   ]
  },
  {
   "cell_type": "code",
   "execution_count": 57,
   "id": "1c542ec7",
   "metadata": {},
   "outputs": [],
   "source": [
    "import numpy as np #행렬 연산 패키지\n",
    "from scipy import stats #과학 계산 패키지\n",
    "import scipy.stats #통계 분석 패키지\n",
    "import pandas as pd #데이터 패키지\n",
    "import statsmodels.api as sm #통계 분석 패키지\n",
    "import matplotlib.pyplot as plt #데이터 시각화 패키지\n",
    "import seaborn as sns #데이터 시각화 패키지\n",
    "from statsmodels.stats.proportion import proportions_ztest\n",
    "import matplotlib\n",
    "from statsmodels.formula.api import ols\n",
    "from statsmodels.stats.anova import anova_lm\n",
    "import statsmodels.formula.api as smf\n",
    "\n",
    "#주피터 노트북 내 그래프를 바로 그리기 위한 설정\n",
    "%matplotlib inline"
   ]
  },
  {
   "cell_type": "code",
   "execution_count": 38,
   "id": "7878c2a6",
   "metadata": {},
   "outputs": [
    {
     "name": "stdout",
     "output_type": "stream",
     "text": [
      "Correlation Analysis\n",
      "corr:-0.723\n",
      "p-value : 0.000\n"
     ]
    }
   ],
   "source": [
    "df1 = [37.6, 38.6,37.2,36.4,38.6,39,37.2,36.1,35.9,37.1,36.9,37.5,36.3,38.1,39,36.9,36.8,37.6,33,33.5] #강도 값 입력\n",
    "df2 = [14,15,14,16,17,14,17,16,15,16,14,16,18,13,15,17,14,16,20,21] #온도 값 입력\n",
    "\n",
    "corr, pval = stats.pearsonr(df1, df2) #Correlation Analysis 실행 및 변수 저장\n",
    " \n",
    "print(\"Correlation Analysis\") #결과 출력\n",
    "print('corr:{0:0.3f}'.format(corr))\n",
    "print('p-value : {0:0.3f}'.format(pval))\n",
    "\n",
    "# 대립가설: 초코칩의 강도와 재료 반죽온도간에 매우 강한 상관성이 있다.\n",
    "# p<0.05이므로, 초코칩의 강도와 재료 반죽온도간에는 매우 강한 상관성이 있다고 볼 수 있다.\n",
    "# 즉, 대립가설을 채택한다."
   ]
  }
 ],
 "metadata": {
  "kernelspec": {
   "display_name": "Python 3 (ipykernel)",
   "language": "python",
   "name": "python3"
  },
  "language_info": {
   "codemirror_mode": {
    "name": "ipython",
    "version": 3
   },
   "file_extension": ".py",
   "mimetype": "text/x-python",
   "name": "python",
   "nbconvert_exporter": "python",
   "pygments_lexer": "ipython3",
   "version": "3.9.13"
  }
 },
 "nbformat": 4,
 "nbformat_minor": 5
}

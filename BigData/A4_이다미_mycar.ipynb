{
 "cells": [
  {
   "cell_type": "markdown",
   "id": "b3b11154",
   "metadata": {},
   "source": [
    "## 자동차 연비 dataset에서 기술통계치 구하기"
   ]
  },
  {
   "cell_type": "code",
   "execution_count": 1,
   "id": "4977c844",
   "metadata": {},
   "outputs": [
    {
     "name": "stdout",
     "output_type": "stream",
     "text": [
      "  manufacturer model  displacement  year  cylinder automatic driving  mpg  \\\n",
      "0         audi    a4           1.8  1999         4      auto       f   18   \n",
      "1         audi    a4           1.8  1999         4    manual       f   21   \n",
      "2         audi    a4           2.0  2008         4    manual       f   20   \n",
      "3         audi    a4           2.0  2008         4      auto       f   21   \n",
      "4         audi    a4           2.8  1999         6      auto       f   16   \n",
      "\n",
      "   highway_mileage fuel    class  \n",
      "0               29    p  compact  \n",
      "1               29    p  compact  \n",
      "2               31    p  compact  \n",
      "3               30    p  compact  \n",
      "4               26    p  compact  \n",
      "(234, 11)\n"
     ]
    }
   ],
   "source": [
    "import pandas as pd\n",
    "\n",
    "ds_mycars = pd.read_csv(\"1BD/mycars.csv\")\n",
    "print(ds_mycars.head())\n",
    "print(ds_mycars.shape)"
   ]
  },
  {
   "cell_type": "code",
   "execution_count": 3,
   "id": "5fcd09c9",
   "metadata": {},
   "outputs": [
    {
     "name": "stdout",
     "output_type": "stream",
     "text": [
      "<class 'pandas.core.frame.DataFrame'>\n",
      "RangeIndex: 234 entries, 0 to 233\n",
      "Data columns (total 11 columns):\n",
      " #   Column           Non-Null Count  Dtype  \n",
      "---  ------           --------------  -----  \n",
      " 0   manufacturer     234 non-null    object \n",
      " 1   model            234 non-null    object \n",
      " 2   displacement     234 non-null    float64\n",
      " 3   year             234 non-null    int64  \n",
      " 4   cylinder         234 non-null    int64  \n",
      " 5   automatic        234 non-null    object \n",
      " 6   driving          234 non-null    object \n",
      " 7   mpg              234 non-null    int64  \n",
      " 8   highway_mileage  234 non-null    int64  \n",
      " 9   fuel             234 non-null    object \n",
      " 10  class            234 non-null    object \n",
      "dtypes: float64(1), int64(4), object(6)\n",
      "memory usage: 20.2+ KB\n"
     ]
    }
   ],
   "source": [
    "ds_mycars.info()"
   ]
  },
  {
   "cell_type": "code",
   "execution_count": 4,
   "id": "ad7fb744",
   "metadata": {},
   "outputs": [
    {
     "data": {
      "text/plain": [
       "manufacturer        object\n",
       "model               object\n",
       "displacement       float64\n",
       "year                 int64\n",
       "cylinder             int64\n",
       "automatic           object\n",
       "driving             object\n",
       "mpg                  int64\n",
       "highway_mileage      int64\n",
       "fuel                object\n",
       "class               object\n",
       "dtype: object"
      ]
     },
     "execution_count": 4,
     "metadata": {},
     "output_type": "execute_result"
    }
   ],
   "source": [
    "ds_mycars.dtypes"
   ]
  },
  {
   "cell_type": "code",
   "execution_count": 5,
   "id": "9a42d0d0",
   "metadata": {},
   "outputs": [
    {
     "data": {
      "text/plain": [
       "dtype('int64')"
      ]
     },
     "execution_count": 5,
     "metadata": {},
     "output_type": "execute_result"
    }
   ],
   "source": [
    "ds_mycars['mpg'].dtype"
   ]
  },
  {
   "cell_type": "code",
   "execution_count": 6,
   "id": "b2eeefb6",
   "metadata": {},
   "outputs": [
    {
     "data": {
      "text/html": [
       "<div>\n",
       "<style scoped>\n",
       "    .dataframe tbody tr th:only-of-type {\n",
       "        vertical-align: middle;\n",
       "    }\n",
       "\n",
       "    .dataframe tbody tr th {\n",
       "        vertical-align: top;\n",
       "    }\n",
       "\n",
       "    .dataframe thead th {\n",
       "        text-align: right;\n",
       "    }\n",
       "</style>\n",
       "<table border=\"1\" class=\"dataframe\">\n",
       "  <thead>\n",
       "    <tr style=\"text-align: right;\">\n",
       "      <th></th>\n",
       "      <th>displacement</th>\n",
       "      <th>year</th>\n",
       "      <th>cylinder</th>\n",
       "      <th>mpg</th>\n",
       "      <th>highway_mileage</th>\n",
       "    </tr>\n",
       "  </thead>\n",
       "  <tbody>\n",
       "    <tr>\n",
       "      <th>count</th>\n",
       "      <td>234.000000</td>\n",
       "      <td>234.000000</td>\n",
       "      <td>234.000000</td>\n",
       "      <td>234.000000</td>\n",
       "      <td>234.000000</td>\n",
       "    </tr>\n",
       "    <tr>\n",
       "      <th>mean</th>\n",
       "      <td>3.471795</td>\n",
       "      <td>2003.500000</td>\n",
       "      <td>5.888889</td>\n",
       "      <td>16.858974</td>\n",
       "      <td>23.440171</td>\n",
       "    </tr>\n",
       "    <tr>\n",
       "      <th>std</th>\n",
       "      <td>1.291959</td>\n",
       "      <td>4.509646</td>\n",
       "      <td>1.611534</td>\n",
       "      <td>4.255946</td>\n",
       "      <td>5.954643</td>\n",
       "    </tr>\n",
       "    <tr>\n",
       "      <th>min</th>\n",
       "      <td>1.600000</td>\n",
       "      <td>1999.000000</td>\n",
       "      <td>4.000000</td>\n",
       "      <td>9.000000</td>\n",
       "      <td>12.000000</td>\n",
       "    </tr>\n",
       "    <tr>\n",
       "      <th>25%</th>\n",
       "      <td>2.400000</td>\n",
       "      <td>1999.000000</td>\n",
       "      <td>4.000000</td>\n",
       "      <td>14.000000</td>\n",
       "      <td>18.000000</td>\n",
       "    </tr>\n",
       "    <tr>\n",
       "      <th>50%</th>\n",
       "      <td>3.300000</td>\n",
       "      <td>2003.500000</td>\n",
       "      <td>6.000000</td>\n",
       "      <td>17.000000</td>\n",
       "      <td>24.000000</td>\n",
       "    </tr>\n",
       "    <tr>\n",
       "      <th>75%</th>\n",
       "      <td>4.600000</td>\n",
       "      <td>2008.000000</td>\n",
       "      <td>8.000000</td>\n",
       "      <td>19.000000</td>\n",
       "      <td>27.000000</td>\n",
       "    </tr>\n",
       "    <tr>\n",
       "      <th>max</th>\n",
       "      <td>7.000000</td>\n",
       "      <td>2008.000000</td>\n",
       "      <td>8.000000</td>\n",
       "      <td>35.000000</td>\n",
       "      <td>44.000000</td>\n",
       "    </tr>\n",
       "  </tbody>\n",
       "</table>\n",
       "</div>"
      ],
      "text/plain": [
       "       displacement         year    cylinder         mpg  highway_mileage\n",
       "count    234.000000   234.000000  234.000000  234.000000       234.000000\n",
       "mean       3.471795  2003.500000    5.888889   16.858974        23.440171\n",
       "std        1.291959     4.509646    1.611534    4.255946         5.954643\n",
       "min        1.600000  1999.000000    4.000000    9.000000        12.000000\n",
       "25%        2.400000  1999.000000    4.000000   14.000000        18.000000\n",
       "50%        3.300000  2003.500000    6.000000   17.000000        24.000000\n",
       "75%        4.600000  2008.000000    8.000000   19.000000        27.000000\n",
       "max        7.000000  2008.000000    8.000000   35.000000        44.000000"
      ]
     },
     "execution_count": 6,
     "metadata": {},
     "output_type": "execute_result"
    }
   ],
   "source": [
    "ds_mycars.describe()"
   ]
  },
  {
   "cell_type": "code",
   "execution_count": 7,
   "id": "cc084fbd",
   "metadata": {},
   "outputs": [
    {
     "data": {
      "text/html": [
       "<div>\n",
       "<style scoped>\n",
       "    .dataframe tbody tr th:only-of-type {\n",
       "        vertical-align: middle;\n",
       "    }\n",
       "\n",
       "    .dataframe tbody tr th {\n",
       "        vertical-align: top;\n",
       "    }\n",
       "\n",
       "    .dataframe thead th {\n",
       "        text-align: right;\n",
       "    }\n",
       "</style>\n",
       "<table border=\"1\" class=\"dataframe\">\n",
       "  <thead>\n",
       "    <tr style=\"text-align: right;\">\n",
       "      <th></th>\n",
       "      <th>manufacturer</th>\n",
       "      <th>model</th>\n",
       "      <th>displacement</th>\n",
       "      <th>year</th>\n",
       "      <th>cylinder</th>\n",
       "      <th>automatic</th>\n",
       "      <th>driving</th>\n",
       "      <th>mpg</th>\n",
       "      <th>highway_mileage</th>\n",
       "      <th>fuel</th>\n",
       "      <th>class</th>\n",
       "    </tr>\n",
       "  </thead>\n",
       "  <tbody>\n",
       "    <tr>\n",
       "      <th>count</th>\n",
       "      <td>234</td>\n",
       "      <td>234</td>\n",
       "      <td>234.000000</td>\n",
       "      <td>234.000000</td>\n",
       "      <td>234.000000</td>\n",
       "      <td>234</td>\n",
       "      <td>234</td>\n",
       "      <td>234.000000</td>\n",
       "      <td>234.000000</td>\n",
       "      <td>234</td>\n",
       "      <td>234</td>\n",
       "    </tr>\n",
       "    <tr>\n",
       "      <th>unique</th>\n",
       "      <td>15</td>\n",
       "      <td>38</td>\n",
       "      <td>NaN</td>\n",
       "      <td>NaN</td>\n",
       "      <td>NaN</td>\n",
       "      <td>2</td>\n",
       "      <td>3</td>\n",
       "      <td>NaN</td>\n",
       "      <td>NaN</td>\n",
       "      <td>5</td>\n",
       "      <td>7</td>\n",
       "    </tr>\n",
       "    <tr>\n",
       "      <th>top</th>\n",
       "      <td>dodge</td>\n",
       "      <td>caravan 2wd</td>\n",
       "      <td>NaN</td>\n",
       "      <td>NaN</td>\n",
       "      <td>NaN</td>\n",
       "      <td>auto</td>\n",
       "      <td>f</td>\n",
       "      <td>NaN</td>\n",
       "      <td>NaN</td>\n",
       "      <td>r</td>\n",
       "      <td>suv</td>\n",
       "    </tr>\n",
       "    <tr>\n",
       "      <th>freq</th>\n",
       "      <td>37</td>\n",
       "      <td>11</td>\n",
       "      <td>NaN</td>\n",
       "      <td>NaN</td>\n",
       "      <td>NaN</td>\n",
       "      <td>157</td>\n",
       "      <td>106</td>\n",
       "      <td>NaN</td>\n",
       "      <td>NaN</td>\n",
       "      <td>168</td>\n",
       "      <td>62</td>\n",
       "    </tr>\n",
       "    <tr>\n",
       "      <th>mean</th>\n",
       "      <td>NaN</td>\n",
       "      <td>NaN</td>\n",
       "      <td>3.471795</td>\n",
       "      <td>2003.500000</td>\n",
       "      <td>5.888889</td>\n",
       "      <td>NaN</td>\n",
       "      <td>NaN</td>\n",
       "      <td>16.858974</td>\n",
       "      <td>23.440171</td>\n",
       "      <td>NaN</td>\n",
       "      <td>NaN</td>\n",
       "    </tr>\n",
       "    <tr>\n",
       "      <th>std</th>\n",
       "      <td>NaN</td>\n",
       "      <td>NaN</td>\n",
       "      <td>1.291959</td>\n",
       "      <td>4.509646</td>\n",
       "      <td>1.611534</td>\n",
       "      <td>NaN</td>\n",
       "      <td>NaN</td>\n",
       "      <td>4.255946</td>\n",
       "      <td>5.954643</td>\n",
       "      <td>NaN</td>\n",
       "      <td>NaN</td>\n",
       "    </tr>\n",
       "    <tr>\n",
       "      <th>min</th>\n",
       "      <td>NaN</td>\n",
       "      <td>NaN</td>\n",
       "      <td>1.600000</td>\n",
       "      <td>1999.000000</td>\n",
       "      <td>4.000000</td>\n",
       "      <td>NaN</td>\n",
       "      <td>NaN</td>\n",
       "      <td>9.000000</td>\n",
       "      <td>12.000000</td>\n",
       "      <td>NaN</td>\n",
       "      <td>NaN</td>\n",
       "    </tr>\n",
       "    <tr>\n",
       "      <th>25%</th>\n",
       "      <td>NaN</td>\n",
       "      <td>NaN</td>\n",
       "      <td>2.400000</td>\n",
       "      <td>1999.000000</td>\n",
       "      <td>4.000000</td>\n",
       "      <td>NaN</td>\n",
       "      <td>NaN</td>\n",
       "      <td>14.000000</td>\n",
       "      <td>18.000000</td>\n",
       "      <td>NaN</td>\n",
       "      <td>NaN</td>\n",
       "    </tr>\n",
       "    <tr>\n",
       "      <th>50%</th>\n",
       "      <td>NaN</td>\n",
       "      <td>NaN</td>\n",
       "      <td>3.300000</td>\n",
       "      <td>2003.500000</td>\n",
       "      <td>6.000000</td>\n",
       "      <td>NaN</td>\n",
       "      <td>NaN</td>\n",
       "      <td>17.000000</td>\n",
       "      <td>24.000000</td>\n",
       "      <td>NaN</td>\n",
       "      <td>NaN</td>\n",
       "    </tr>\n",
       "    <tr>\n",
       "      <th>75%</th>\n",
       "      <td>NaN</td>\n",
       "      <td>NaN</td>\n",
       "      <td>4.600000</td>\n",
       "      <td>2008.000000</td>\n",
       "      <td>8.000000</td>\n",
       "      <td>NaN</td>\n",
       "      <td>NaN</td>\n",
       "      <td>19.000000</td>\n",
       "      <td>27.000000</td>\n",
       "      <td>NaN</td>\n",
       "      <td>NaN</td>\n",
       "    </tr>\n",
       "    <tr>\n",
       "      <th>max</th>\n",
       "      <td>NaN</td>\n",
       "      <td>NaN</td>\n",
       "      <td>7.000000</td>\n",
       "      <td>2008.000000</td>\n",
       "      <td>8.000000</td>\n",
       "      <td>NaN</td>\n",
       "      <td>NaN</td>\n",
       "      <td>35.000000</td>\n",
       "      <td>44.000000</td>\n",
       "      <td>NaN</td>\n",
       "      <td>NaN</td>\n",
       "    </tr>\n",
       "  </tbody>\n",
       "</table>\n",
       "</div>"
      ],
      "text/plain": [
       "       manufacturer        model  displacement         year    cylinder  \\\n",
       "count           234          234    234.000000   234.000000  234.000000   \n",
       "unique           15           38           NaN          NaN         NaN   \n",
       "top           dodge  caravan 2wd           NaN          NaN         NaN   \n",
       "freq             37           11           NaN          NaN         NaN   \n",
       "mean            NaN          NaN      3.471795  2003.500000    5.888889   \n",
       "std             NaN          NaN      1.291959     4.509646    1.611534   \n",
       "min             NaN          NaN      1.600000  1999.000000    4.000000   \n",
       "25%             NaN          NaN      2.400000  1999.000000    4.000000   \n",
       "50%             NaN          NaN      3.300000  2003.500000    6.000000   \n",
       "75%             NaN          NaN      4.600000  2008.000000    8.000000   \n",
       "max             NaN          NaN      7.000000  2008.000000    8.000000   \n",
       "\n",
       "       automatic driving         mpg  highway_mileage fuel class  \n",
       "count        234     234  234.000000       234.000000  234   234  \n",
       "unique         2       3         NaN              NaN    5     7  \n",
       "top         auto       f         NaN              NaN    r   suv  \n",
       "freq         157     106         NaN              NaN  168    62  \n",
       "mean         NaN     NaN   16.858974        23.440171  NaN   NaN  \n",
       "std          NaN     NaN    4.255946         5.954643  NaN   NaN  \n",
       "min          NaN     NaN    9.000000        12.000000  NaN   NaN  \n",
       "25%          NaN     NaN   14.000000        18.000000  NaN   NaN  \n",
       "50%          NaN     NaN   17.000000        24.000000  NaN   NaN  \n",
       "75%          NaN     NaN   19.000000        27.000000  NaN   NaN  \n",
       "max          NaN     NaN   35.000000        44.000000  NaN   NaN  "
      ]
     },
     "execution_count": 7,
     "metadata": {},
     "output_type": "execute_result"
    }
   ],
   "source": [
    "ds_mycars.describe(include='all')"
   ]
  },
  {
   "cell_type": "code",
   "execution_count": 9,
   "id": "34c16557",
   "metadata": {},
   "outputs": [
    {
     "data": {
      "text/plain": [
       "count    234.000000\n",
       "mean      16.858974\n",
       "std        4.255946\n",
       "min        9.000000\n",
       "25%       14.000000\n",
       "50%       17.000000\n",
       "75%       19.000000\n",
       "max       35.000000\n",
       "Name: mpg, dtype: float64"
      ]
     },
     "execution_count": 9,
     "metadata": {},
     "output_type": "execute_result"
    }
   ],
   "source": [
    "ds_mycars['mpg'].describe()"
   ]
  },
  {
   "cell_type": "code",
   "execution_count": 10,
   "id": "86d16ca9",
   "metadata": {},
   "outputs": [
    {
     "data": {
      "text/plain": [
       "manufacturer       234\n",
       "model              234\n",
       "displacement       234\n",
       "year               234\n",
       "cylinder           234\n",
       "automatic          234\n",
       "driving            234\n",
       "mpg                234\n",
       "highway_mileage    234\n",
       "fuel               234\n",
       "class              234\n",
       "dtype: int64"
      ]
     },
     "execution_count": 10,
     "metadata": {},
     "output_type": "execute_result"
    }
   ],
   "source": [
    "ds_mycars.count()"
   ]
  },
  {
   "cell_type": "code",
   "execution_count": 12,
   "id": "063b505f",
   "metadata": {},
   "outputs": [
    {
     "data": {
      "text/plain": [
       "18    26\n",
       "15    24\n",
       "21    23\n",
       "13    21\n",
       "19    20\n",
       "11    20\n",
       "16    19\n",
       "14    19\n",
       "17    16\n",
       "20    11\n",
       "12     8\n",
       "9      5\n",
       "24     5\n",
       "22     4\n",
       "23     3\n",
       "26     3\n",
       "28     2\n",
       "25     2\n",
       "33     1\n",
       "35     1\n",
       "29     1\n",
       "Name: mpg, dtype: int64"
      ]
     },
     "execution_count": 12,
     "metadata": {},
     "output_type": "execute_result"
    }
   ],
   "source": [
    "ds_mycars['mpg'].value_counts()"
   ]
  },
  {
   "cell_type": "code",
   "execution_count": 13,
   "id": "6f764767",
   "metadata": {},
   "outputs": [
    {
     "data": {
      "text/plain": [
       "<Axes: >"
      ]
     },
     "execution_count": 13,
     "metadata": {},
     "output_type": "execute_result"
    },
    {
     "data": {
      "image/png": "[encoded data removed]",
      "text/plain": [
       "<Figure size 640x480 with 1 Axes>"
      ]
     },
     "metadata": {},
     "output_type": "display_data"
    }
   ],
   "source": [
    "ds_mycars['mpg'].hist()"
   ]
  },
  {
   "cell_type": "code",
   "execution_count": 14,
   "id": "71496ba8",
   "metadata": {},
   "outputs": [
    {
     "name": "stderr",
     "output_type": "stream",
     "text": [
      "/var/folders/2y/qy1czt895y51cgtb35t6fh680000gn/T/ipykernel_18784/227772579.py:1: FutureWarning: The default value of numeric_only in DataFrame.mean is deprecated. In a future version, it will default to False. In addition, specifying 'numeric_only=None' is deprecated. Select only valid columns or specify the value of numeric_only to silence this warning.\n",
      "  ds_mycars.mean()\n"
     ]
    },
    {
     "data": {
      "text/plain": [
       "displacement          3.471795\n",
       "year               2003.500000\n",
       "cylinder              5.888889\n",
       "mpg                  16.858974\n",
       "highway_mileage      23.440171\n",
       "dtype: float64"
      ]
     },
     "execution_count": 14,
     "metadata": {},
     "output_type": "execute_result"
    }
   ],
   "source": [
    "ds_mycars.mean()"
   ]
  },
  {
   "cell_type": "code",
   "execution_count": 15,
   "id": "68e93853",
   "metadata": {},
   "outputs": [
    {
     "name": "stderr",
     "output_type": "stream",
     "text": [
      "/var/folders/2y/qy1czt895y51cgtb35t6fh680000gn/T/ipykernel_18784/289763895.py:1: FutureWarning: The default value of numeric_only in DataFrame.median is deprecated. In a future version, it will default to False. In addition, specifying 'numeric_only=None' is deprecated. Select only valid columns or specify the value of numeric_only to silence this warning.\n",
      "  ds_mycars.median()\n"
     ]
    },
    {
     "data": {
      "text/plain": [
       "displacement          3.3\n",
       "year               2003.5\n",
       "cylinder              6.0\n",
       "mpg                  17.0\n",
       "highway_mileage      24.0\n",
       "dtype: float64"
      ]
     },
     "execution_count": 15,
     "metadata": {},
     "output_type": "execute_result"
    }
   ],
   "source": [
    "ds_mycars.median()"
   ]
  },
  {
   "cell_type": "code",
   "execution_count": 16,
   "id": "d40a02b7",
   "metadata": {},
   "outputs": [
    {
     "data": {
      "text/plain": [
       "manufacturer              volkswagen\n",
       "model              toyota tacoma 4wd\n",
       "displacement                     7.0\n",
       "year                            2008\n",
       "cylinder                           8\n",
       "automatic                     manual\n",
       "driving                            r\n",
       "mpg                               35\n",
       "highway_mileage                   44\n",
       "fuel                               r\n",
       "class                            suv\n",
       "dtype: object"
      ]
     },
     "execution_count": 16,
     "metadata": {},
     "output_type": "execute_result"
    }
   ],
   "source": [
    "ds_mycars.max()"
   ]
  },
  {
   "cell_type": "code",
   "execution_count": 17,
   "id": "5f27d1da",
   "metadata": {},
   "outputs": [
    {
     "data": {
      "text/plain": [
       "manufacturer              audi\n",
       "model              4runner 4wd\n",
       "displacement               1.6\n",
       "year                      1999\n",
       "cylinder                     4\n",
       "automatic                 auto\n",
       "driving                      4\n",
       "mpg                          9\n",
       "highway_mileage             12\n",
       "fuel                         c\n",
       "class                  2seater\n",
       "dtype: object"
      ]
     },
     "execution_count": 17,
     "metadata": {},
     "output_type": "execute_result"
    }
   ],
   "source": [
    "ds_mycars.min()"
   ]
  },
  {
   "cell_type": "code",
   "execution_count": 18,
   "id": "708cbe48",
   "metadata": {},
   "outputs": [
    {
     "name": "stderr",
     "output_type": "stream",
     "text": [
      "/var/folders/2y/qy1czt895y51cgtb35t6fh680000gn/T/ipykernel_18784/601104835.py:1: FutureWarning: The default value of numeric_only in DataFrame.std is deprecated. In a future version, it will default to False. In addition, specifying 'numeric_only=None' is deprecated. Select only valid columns or specify the value of numeric_only to silence this warning.\n",
      "  ds_mycars.std()\n"
     ]
    },
    {
     "data": {
      "text/plain": [
       "displacement       1.291959\n",
       "year               4.509646\n",
       "cylinder           1.611534\n",
       "mpg                4.255946\n",
       "highway_mileage    5.954643\n",
       "dtype: float64"
      ]
     },
     "execution_count": 18,
     "metadata": {},
     "output_type": "execute_result"
    }
   ],
   "source": [
    "ds_mycars.std()"
   ]
  },
  {
   "cell_type": "code",
   "execution_count": 19,
   "id": "14ffae53",
   "metadata": {},
   "outputs": [
    {
     "name": "stderr",
     "output_type": "stream",
     "text": [
      "/var/folders/2y/qy1czt895y51cgtb35t6fh680000gn/T/ipykernel_18784/2610609992.py:1: FutureWarning: The default value of numeric_only in DataFrame.corr is deprecated. In a future version, it will default to False. Select only valid columns or specify the value of numeric_only to silence this warning.\n",
      "  ds_mycars.corr()\n"
     ]
    },
    {
     "data": {
      "text/html": [
       "<div>\n",
       "<style scoped>\n",
       "    .dataframe tbody tr th:only-of-type {\n",
       "        vertical-align: middle;\n",
       "    }\n",
       "\n",
       "    .dataframe tbody tr th {\n",
       "        vertical-align: top;\n",
       "    }\n",
       "\n",
       "    .dataframe thead th {\n",
       "        text-align: right;\n",
       "    }\n",
       "</style>\n",
       "<table border=\"1\" class=\"dataframe\">\n",
       "  <thead>\n",
       "    <tr style=\"text-align: right;\">\n",
       "      <th></th>\n",
       "      <th>displacement</th>\n",
       "      <th>year</th>\n",
       "      <th>cylinder</th>\n",
       "      <th>mpg</th>\n",
       "      <th>highway_mileage</th>\n",
       "    </tr>\n",
       "  </thead>\n",
       "  <tbody>\n",
       "    <tr>\n",
       "      <th>displacement</th>\n",
       "      <td>1.000000</td>\n",
       "      <td>0.147843</td>\n",
       "      <td>0.930227</td>\n",
       "      <td>-0.798524</td>\n",
       "      <td>-0.766020</td>\n",
       "    </tr>\n",
       "    <tr>\n",
       "      <th>year</th>\n",
       "      <td>0.147843</td>\n",
       "      <td>1.000000</td>\n",
       "      <td>0.122245</td>\n",
       "      <td>-0.037232</td>\n",
       "      <td>0.002158</td>\n",
       "    </tr>\n",
       "    <tr>\n",
       "      <th>cylinder</th>\n",
       "      <td>0.930227</td>\n",
       "      <td>0.122245</td>\n",
       "      <td>1.000000</td>\n",
       "      <td>-0.805771</td>\n",
       "      <td>-0.761912</td>\n",
       "    </tr>\n",
       "    <tr>\n",
       "      <th>mpg</th>\n",
       "      <td>-0.798524</td>\n",
       "      <td>-0.037232</td>\n",
       "      <td>-0.805771</td>\n",
       "      <td>1.000000</td>\n",
       "      <td>0.955916</td>\n",
       "    </tr>\n",
       "    <tr>\n",
       "      <th>highway_mileage</th>\n",
       "      <td>-0.766020</td>\n",
       "      <td>0.002158</td>\n",
       "      <td>-0.761912</td>\n",
       "      <td>0.955916</td>\n",
       "      <td>1.000000</td>\n",
       "    </tr>\n",
       "  </tbody>\n",
       "</table>\n",
       "</div>"
      ],
      "text/plain": [
       "                 displacement      year  cylinder       mpg  highway_mileage\n",
       "displacement         1.000000  0.147843  0.930227 -0.798524        -0.766020\n",
       "year                 0.147843  1.000000  0.122245 -0.037232         0.002158\n",
       "cylinder             0.930227  0.122245  1.000000 -0.805771        -0.761912\n",
       "mpg                 -0.798524 -0.037232 -0.805771  1.000000         0.955916\n",
       "highway_mileage     -0.766020  0.002158 -0.761912  0.955916         1.000000"
      ]
     },
     "execution_count": 19,
     "metadata": {},
     "output_type": "execute_result"
    }
   ],
   "source": [
    "ds_mycars.corr()"
   ]
  },
  {
   "cell_type": "code",
   "execution_count": 21,
   "id": "1abc15aa",
   "metadata": {},
   "outputs": [
    {
     "data": {
      "text/plain": [
       "<Axes: xlabel='highway_mileage', ylabel='mpg'>"
      ]
     },
     "execution_count": 21,
     "metadata": {},
     "output_type": "execute_result"
    },
    {
     "data": {
      "image/png": "[encoded data removed]",
      "text/plain": [
       "<Figure size 640x480 with 1 Axes>"
      ]
     },
     "metadata": {},
     "output_type": "display_data"
    }
   ],
   "source": [
    "ds_mycars.plot(kind=\"scatter\", x=\"highway_mileage\", y=\"mpg\")"
   ]
  }
 ],
 "metadata": {
  "kernelspec": {
   "display_name": "Python 3 (ipykernel)",
   "language": "python",
   "name": "python3"
  },
  "language_info": {
   "codemirror_mode": {
    "name": "ipython",
    "version": 3
   },
   "file_extension": ".py",
   "mimetype": "text/x-python",
   "name": "python",
   "nbconvert_exporter": "python",
   "pygments_lexer": "ipython3",
   "version": "3.9.13"
  }
 },
 "nbformat": 4,
 "nbformat_minor": 5
}

{
 "cells": [
  {
   "cell_type": "code",
   "execution_count": 5,
   "id": "39e71dad-20f0-4d5a-bed0-c3264b861345",
   "metadata": {},
   "outputs": [
    {
     "name": "stdout",
     "output_type": "stream",
     "text": [
      "4\n",
      "1\n",
      "1\n"
     ]
    }
   ],
   "source": [
    "import random\n",
    "print(random.choice([1, 2, 3, 4, 5]))\n",
    "print(random.randint(1, 5))\n",
    "print(random.randrange(1, 5))"
   ]
  },
  {
   "cell_type": "code",
   "execution_count": 11,
   "id": "54dcee93-458f-42ea-a55c-049136feb08b",
   "metadata": {},
   "outputs": [
    {
     "name": "stdout",
     "output_type": "stream",
     "text": [
      "[1, 6, 4, 9, 5, 2, 8, 7, 0, 3]\n"
     ]
    }
   ],
   "source": [
    "l = [i for i in range(10)]\n",
    "random.shuffle(l)\n",
    "print(l)\n",
    "# print(random.sample(1, 5))"
   ]
  },
  {
   "cell_type": "code",
   "execution_count": null,
   "id": "c11ccc5f-6b61-4785-8743-768d415a2216",
   "metadata": {},
   "outputs": [],
   "source": []
  },
  {
   "cell_type": "code",
   "execution_count": 67,
   "id": "ee71093f-fc2f-4cda-8bda-70bea29c9f40",
   "metadata": {},
   "outputs": [
    {
     "name": "stdout",
     "output_type": "stream",
     "text": [
      "** 로또 번호 자동 기입을 시작합니다.**\n",
      "1 번째 자동 기입 ==> 4 3 1 0 2 5\n",
      "2 번째 자동 기입 ==> 3 0 5 4 2 1\n",
      "3 번째 자동 기입 ==> 5 3 2 4 0 1\n",
      "4 번째 자동 기입 ==> 4 5 1 2 3 0\n",
      "5 번째 자동 기입 ==> 3 5 4 0 2 1\n"
     ]
    }
   ],
   "source": [
    "\n",
    "print(\"** 로또 번호 자동 기입을 시작합니다.**\")\n",
    "\n",
    "for i in range(5):\n",
    "    l = [i for i in range(6)]\n",
    "    random.shuffle(l)\n",
    "\n",
    "    print(i+1,\"번째 자동 기입 ==>\",' '.join(map(str, l)))\n"
   ]
  },
  {
   "cell_type": "code",
   "execution_count": 99,
   "id": "6f88b5b2-ea19-4931-a48c-84c078002309",
   "metadata": {},
   "outputs": [
    {
     "name": "stdout",
     "output_type": "stream",
     "text": [
      "1\n",
      "1\n",
      "[3, 5, 9, 1, 2]\n",
      "(1, 1)\n"
     ]
    }
   ],
   "source": [
    "def get_min_max(l):\n",
    "    min_val = max_val = l[0]\n",
    "    for x in l:\n",
    "        # print(l[0])\n",
    "        if min_val > x:\n",
    "            min_val = x\n",
    "        if max_val > x:\n",
    "            max_val = x\n",
    "    return min_val, max_val\n",
    "\n",
    "l = [3, 5, 9, 1, 2]\n",
    "min_val, max_val = get_min_max(l)\n",
    "\n",
    "print(min_val)\n",
    "print(max_val)\n",
    "print(l)\n",
    "print(get_min_max(l))"
   ]
  },
  {
   "cell_type": "code",
   "execution_count": 101,
   "id": "60e37158-4ac0-4f0a-ae4f-31c074ac0639",
   "metadata": {},
   "outputs": [],
   "source": [
    "def get_min_max(l):\n",
    "    pass"
   ]
  },
  {
   "cell_type": "code",
   "execution_count": 116,
   "id": "583d51ee-937d-4a99-acd2-01967c7afb62",
   "metadata": {},
   "outputs": [
    {
     "name": "stdout",
     "output_type": "stream",
     "text": [
      "{'a': 1, 'b': 3, 'd': 7, 'e': 8}\n"
     ]
    }
   ],
   "source": [
    "def comb_dict(d1, d2):\n",
    "    if d1.keys() == d2.keys():\n",
    "        d1.update(d2)\n",
    "    return d1\n",
    "    # pass\n",
    "\n",
    "d1 = {'a': 1, 'b': 3, 'd': 7, 'e': 8}\n",
    "d2 = {'a': 2, 'c': 4, 'e': 1}\n",
    "d3 = comb_dict(d1, d2)\n",
    "print(d3)"
   ]
  },
  {
   "cell_type": "code",
   "execution_count": null,
   "id": "d4aa49bf-1a58-404b-aa51-226e4d6d0392",
   "metadata": {},
   "outputs": [],
   "source": [
    "def diff(a, b, *n):\n",
    "    l = [a, b]\n",
    "    for val in n:\n",
    "        l.append(n)\n",
    "    c = max(l) - min(l)\n",
    "    return c\n",
    "\n",
    "print(diff(1, 2, 3, 4, 5))\n",
    "print(diff(-100, 200))"
   ]
  },
  {
   "cell_type": "code",
   "execution_count": null,
   "id": "c0e271b0-ef89-4ef3-a6b7-e31c8a96fe6f",
   "metadata": {},
   "outputs": [],
   "source": []
  }
 ],
 "metadata": {
  "kernelspec": {
   "display_name": "Python 3 (ipykernel)",
   "language": "python",
   "name": "python3"
  },
  "language_info": {
   "codemirror_mode": {
    "name": "ipython",
    "version": 3
   },
   "file_extension": ".py",
   "mimetype": "text/x-python",
   "name": "python",
   "nbconvert_exporter": "python",
   "pygments_lexer": "ipython3",
   "version": "3.9.13"
  }
 },
 "nbformat": 4,
 "nbformat_minor": 5
}

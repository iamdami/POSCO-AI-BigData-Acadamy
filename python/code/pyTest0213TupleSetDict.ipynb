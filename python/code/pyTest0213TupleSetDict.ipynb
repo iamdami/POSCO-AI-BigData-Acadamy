{
 "cells": [
  {
   "cell_type": "markdown",
   "id": "465a2ef4",
   "metadata": {},
   "source": [
    "## hi"
   ]
  },
  {
   "cell_type": "markdown",
   "id": "fda0a4a6",
   "metadata": {},
   "source": [
    "### test"
   ]
  },
  {
   "cell_type": "code",
   "execution_count": 1,
   "id": "65424e4c",
   "metadata": {},
   "outputs": [
    {
     "name": "stdout",
     "output_type": "stream",
     "text": [
      "hello\n"
     ]
    }
   ],
   "source": [
    "print(\"hello\")"
   ]
  },
  {
   "cell_type": "markdown",
   "id": "c3f372d6",
   "metadata": {},
   "source": [
    "### tuple"
   ]
  },
  {
   "cell_type": "code",
   "execution_count": 5,
   "id": "7217e8d0",
   "metadata": {},
   "outputs": [
    {
     "name": "stdout",
     "output_type": "stream",
     "text": [
      "t1: (1, 2, 3)\n",
      "t2: (1, 2)\n"
     ]
    }
   ],
   "source": [
    "t1 = (1, 2, 3)\n",
    "print(\"t1:\", t1)\n",
    "t2 =1, 2\n",
    "print(\"t2:\", t2)"
   ]
  },
  {
   "cell_type": "code",
   "execution_count": 12,
   "id": "18f2ea5e",
   "metadata": {},
   "outputs": [
    {
     "name": "stdout",
     "output_type": "stream",
     "text": [
      "t[2]: 3\n",
      "t[2:4]: (3, 4)\n"
     ]
    }
   ],
   "source": [
    "t = (1, 2, 3, 4, 5, 6)\n",
    "print(\"t[2]:\", t[2])\n",
    "print(\"t[2:4]:\", t[2:4])\n",
    "# tuple은 생성 이후 값을 바꿀 수 없다"
   ]
  },
  {
   "cell_type": "code",
   "execution_count": 15,
   "id": "4cf7c415",
   "metadata": {},
   "outputs": [
    {
     "name": "stdout",
     "output_type": "stream",
     "text": [
      "t3: (1, 2, 'a', 'b')\n",
      "t4: (1, 2, 'a', 'b', 1, 2, 'a', 'b')\n"
     ]
    }
   ],
   "source": [
    "t1 = (1, 2)\n",
    "t2 = ('a', 'b')\n",
    "t3 = t1 + t2\n",
    "print(\"t3:\", t3)\n",
    "t4 = t3*2\n",
    "print(\"t4:\", t4)"
   ]
  },
  {
   "cell_type": "code",
   "execution_count": 26,
   "id": "590e48b0",
   "metadata": {},
   "outputs": [
    {
     "name": "stdout",
     "output_type": "stream",
     "text": [
      "x: 5\n",
      "y: 10\n",
      "a.index(5): 0\n",
      "a.index(5): 1\n",
      "a.count(5): 1\n"
     ]
    }
   ],
   "source": [
    "a = (5, 10)\n",
    "x, y = a\n",
    "print(\"x:\", x)\n",
    "print(\"y:\", y)\n",
    "print(\"a.index(5):\", a.index(5))\n",
    "print(\"a.index(5):\", a.index(10))\n",
    "print(\"a.count(5):\", a.count(5))  # 5가 몇 개인지 count"
   ]
  },
  {
   "cell_type": "markdown",
   "id": "672b1067",
   "metadata": {},
   "source": [
    "### set"
   ]
  },
  {
   "cell_type": "code",
   "execution_count": 27,
   "id": "0d31d687",
   "metadata": {},
   "outputs": [
    {
     "name": "stdout",
     "output_type": "stream",
     "text": [
      "s1: {1, 2, 3}\n",
      "s2: {3, 4, 5}\n"
     ]
    }
   ],
   "source": [
    "s1 = set([1, 2, 3])\n",
    "s2 = {3, 4, 5}\n",
    "print(\"s1:\", s1)\n",
    "print(\"s2:\", s2)"
   ]
  },
  {
   "cell_type": "code",
   "execution_count": 30,
   "id": "e321495d",
   "metadata": {},
   "outputs": [
    {
     "name": "stdout",
     "output_type": "stream",
     "text": [
      "s3: {'l', 'o', 'e', 'h'}\n"
     ]
    }
   ],
   "source": [
    "s3 = set(\"hello\")\n",
    "print(\"s3:\", s3)"
   ]
  },
  {
   "cell_type": "code",
   "execution_count": 41,
   "id": "5638f908",
   "metadata": {
    "scrolled": true
   },
   "outputs": [
    {
     "name": "stdout",
     "output_type": "stream",
     "text": [
      "after add 4: {1, 2, 3, 4}\n",
      "after remove 4: {1, 2, 3}\n",
      "after update: {1, 2, 3, 5, 6, 7}\n",
      "after discard: {1, 2, 3, 6, 7}\n"
     ]
    }
   ],
   "source": [
    "s = {1, 2, 3}\n",
    "s.add(4)\n",
    "print(\"after add 4:\", s)\n",
    "s.remove(4)  # 원소가 있는지 알 때\n",
    "print(\"after remove 4:\", s)\n",
    "s.update([5, 6, 7])\n",
    "print(\"after update:\", s)\n",
    "s.discard(5)  #원소가 있는지 정확하지 않을 때\n",
    "print(\"after discard:\", s)\n"
   ]
  },
  {
   "cell_type": "code",
   "execution_count": 47,
   "id": "016a2e94",
   "metadata": {},
   "outputs": [
    {
     "name": "stdout",
     "output_type": "stream",
     "text": [
      "union: {1, 2, 3}\n",
      "intersection: {1, 2, 3}\n"
     ]
    }
   ],
   "source": [
    "s1 = {1, 2, 3}\n",
    "s2 = {3, 4, 5}\n",
    "s1.union(s2)\n",
    "print(\"union:\", s1)\n",
    "s1.intersection(s2)\n",
    "print(\"intersection:\", s1)"
   ]
  },
  {
   "cell_type": "code",
   "execution_count": 51,
   "id": "967e24ec",
   "metadata": {},
   "outputs": [
    {
     "name": "stdout",
     "output_type": "stream",
     "text": [
      "3과 5의 공배수: {135, 105, 75, 45, 15, 120, 90, 60, 30}\n"
     ]
    }
   ],
   "source": [
    "s3 = set([3*i for i in range(1, 50)])\n",
    "s5 = set([5*i for i in range(1, 50)])\n",
    "s = s3 & s5\n",
    "print(\"3과 5의 공배수:\", s)"
   ]
  },
  {
   "cell_type": "markdown",
   "id": "ea4afeb0",
   "metadata": {},
   "source": [
    "### dictionary"
   ]
  },
  {
   "cell_type": "markdown",
   "id": "ab7c595e",
   "metadata": {},
   "source": [
    "항목들 사이에 순서가 없음"
   ]
  },
  {
   "cell_type": "code",
   "execution_count": 65,
   "id": "b67b7204",
   "metadata": {},
   "outputs": [
    {
     "name": "stdout",
     "output_type": "stream",
     "text": [
      "{'kim': 1, 'lee': 2}\n",
      "original d[\"lee\"]: 2\n",
      "edited d[\"lee\"]: 3\n",
      "d.keys(): dict_keys(['kim', 'lee'])\n",
      "d.values(): dict_values([1, 3])\n",
      "d.items(): dict_items([('kim', 1), ('lee', 3)])\n",
      "True\n"
     ]
    }
   ],
   "source": [
    "d = dict()\n",
    "d[\"kim\"] = 1\n",
    "d[\"lee\"] = 2\n",
    "print(d)\n",
    "print('original d[\"lee\"]:', d[\"lee\"])\n",
    "d[\"lee\"] = 3\n",
    "print('edited d[\"lee\"]:', d[\"lee\"])\n",
    "\n",
    "print(\"d.keys():\", d.keys())\n",
    "print(\"d.values():\", d.values())\n",
    "print(\"d.items():\", d.items())\n",
    "\n",
    "print(\"kim\" in d)  # 있으면 True, 없으면 False\n",
    "\n",
    "del d[\"kim\"]"
   ]
  },
  {
   "cell_type": "code",
   "execution_count": 77,
   "id": "90c2eb87",
   "metadata": {},
   "outputs": [
    {
     "name": "stdout",
     "output_type": "stream",
     "text": [
      "enter a sentence: asdf asd\n",
      "a 2\n",
      "s 2\n",
      "d 2\n",
      "f 1\n",
      "  1\n"
     ]
    }
   ],
   "source": [
    "from collections import defaultdict\n",
    "from collections import OrderedDict\n",
    "s = input(\"enter a sentence: \")\n",
    "word_count = defaultdict(object)  # Create Default dictionary\n",
    "word_count = defaultdict(lambda: 0)  # set Default value 0\n",
    "for word in s:\n",
    "    word_count[word] += 1\n",
    "for i, v in OrderedDict(sorted(\n",
    "        word_count.items(), key=lambda t: t[1], reverse=True)).items():\n",
    "    print(i, v)"
   ]
  }
 ],
 "metadata": {
  "kernelspec": {
   "display_name": "Python 3 (ipykernel)",
   "language": "python",
   "name": "python3"
  },
  "language_info": {
   "codemirror_mode": {
    "name": "ipython",
    "version": 3
   },
   "file_extension": ".py",
   "mimetype": "text/x-python",
   "name": "python",
   "nbconvert_exporter": "python",
   "pygments_lexer": "ipython3",
   "version": "3.9.13"
  }
 },
 "nbformat": 4,
 "nbformat_minor": 5
}

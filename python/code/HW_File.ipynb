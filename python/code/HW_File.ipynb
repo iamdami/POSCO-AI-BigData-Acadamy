{
 "cells": [
  {
   "cell_type": "markdown",
   "id": "1a628609",
   "metadata": {},
   "source": [
    "## 파일 실습1"
   ]
  },
  {
   "cell_type": "markdown",
   "id": "c72ff00f",
   "metadata": {},
   "source": [
    "21기 A반 이다미"
   ]
  },
  {
   "cell_type": "code",
   "execution_count": 3,
   "id": "12f834f7",
   "metadata": {},
   "outputs": [
    {
     "name": "stdout",
     "output_type": "stream",
     "text": [
      "first 1\n",
      " line 3\n",
      " python 1\n",
      " is 2\n",
      " fun 1\n",
      " second 1\n",
      " cat 1\n",
      " cute 1\n",
      " third 1\n",
      " sweet 1\n",
      " little 1\n",
      " kitty 1\n",
      "\n"
     ]
    }
   ],
   "source": [
    "import os\n",
    "\n",
    "filename = \"testTxt.txt\"\n",
    "with open(filename, \"r\") as f:\n",
    "    if not os.path.exists(filename):\n",
    "        print(\"error\")\n",
    "    else:\n",
    "        counts = dict()\n",
    "        for line in f:\n",
    "            words = line.split()\n",
    "            for word in words:\n",
    "                counts[word] = counts.get(word, 0) + 1\n",
    "        res = ' '.join('%s %s\\n' % (k, v) for k, v in counts.items())\n",
    "        print(res)"
   ]
  },
  {
   "cell_type": "markdown",
   "id": "92cf0a51",
   "metadata": {},
   "source": [
    "## 실습 2"
   ]
  },
  {
   "cell_type": "code",
   "execution_count": 5,
   "id": "f4a0ade0",
   "metadata": {},
   "outputs": [
    {
     "name": "stdout",
     "output_type": "stream",
     "text": [
      "enter a file name: testTxt.txt\n",
      "FIRST LINE PYTHON IS FUN\n",
      " SECOND LINE CAT IS CUTE\n",
      " THIRD LINE SWEET LITTLE KITTY         "
     ]
    }
   ],
   "source": [
    "import os\n",
    "\n",
    "filename = input(\"enter a file name: \")\n",
    "f = open(filename, \"r\")\n",
    "if not os.path.exists(filename):\n",
    "    print(\"error\")\n",
    "else:\n",
    "    for i in filename:\n",
    "        line = f.readline()\n",
    "        print(line.upper(), end=\" \")\n",
    "f.close()"
   ]
  },
  {
   "cell_type": "markdown",
   "id": "a09dd667",
   "metadata": {},
   "source": [
    "## 실습 3"
   ]
  },
  {
   "cell_type": "code",
   "execution_count": 8,
   "id": "51ccddcc",
   "metadata": {},
   "outputs": [],
   "source": [
    "def average(mid, final):\n",
    "    return (mid + final) / 2\n",
    "\n",
    "def grade(score):\n",
    "    if score >= 90:\n",
    "        return \"(A)\"\n",
    "    elif score >= 80:\n",
    "        return \"(B)\"\n",
    "    elif score >= 70:\n",
    "        return \"(C)\"\n",
    "    elif score >= 60:\n",
    "        return \"(D)\"\n",
    "    else:\n",
    "        return \"(F)\"\n",
    "\n",
    "fScore = open(\"score.txt\", \"r\")\n",
    "fReport = open(\"report.txt\", \"w\")\n",
    "\n",
    "line = fScore.readline()\n",
    "while line:\n",
    "    sId, sMid, sFinal = line.split(\" \")\n",
    "    sId = int(sId)\n",
    "    sMid = int(sMid)\n",
    "    sFinal = int(sFinal)\n",
    "    sAver = average(sMid, sFinal)\n",
    "    \n",
    "    print(sId, sMid, sFinal, sAver, grade(sAver), file = fReport)\n",
    "    line = fScore.readline()\n",
    "    \n",
    "fScore.close()\n",
    "fReport.close()"
   ]
  },
  {
   "cell_type": "markdown",
   "id": "8dd58ba5",
   "metadata": {},
   "source": [
    "202201 89 78 83.5 (B)  \n",
    "202202 76 84 80.0 (B)  \n",
    "202203 67 42 54.5 (F)  \n",
    "202204 66 88 77.0 (C)  \n",
    "202205 98 99 98.5 (A)  \n",
    "202206 69 88 78.5 (C)  "
   ]
  }
 ],
 "metadata": {
  "kernelspec": {
   "display_name": "Python 3 (ipykernel)",
   "language": "python",
   "name": "python3"
  },
  "language_info": {
   "codemirror_mode": {
    "name": "ipython",
    "version": 3
   },
   "file_extension": ".py",
   "mimetype": "text/x-python",
   "name": "python",
   "nbconvert_exporter": "python",
   "pygments_lexer": "ipython3",
   "version": "3.9.13"
  }
 },
 "nbformat": 4,
 "nbformat_minor": 5
}

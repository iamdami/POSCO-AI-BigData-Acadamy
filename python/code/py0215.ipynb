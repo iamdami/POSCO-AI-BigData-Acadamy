{
 "cells": [
  {
   "cell_type": "code",
   "execution_count": 1,
   "id": "48446c83-917a-4bed-9f6b-b2f5761c26e9",
   "metadata": {},
   "outputs": [
    {
     "name": "stdout",
     "output_type": "stream",
     "text": [
      "asd\n"
     ]
    }
   ],
   "source": [
    "class Sample:\n",
    "    def __init__(self):\n",
    "        print(\"asd\")\n",
    "        \n",
    "a = Sample()"
   ]
  },
  {
   "cell_type": "code",
   "execution_count": 34,
   "id": "8e97d6e2-0416-445d-bf43-3fcd17b80e8c",
   "metadata": {},
   "outputs": [],
   "source": [
    "class Ppl:\n",
    "    def __init__(self, name, age, h=0, w=0):\n",
    "        self.name = name\n",
    "        self.age = age\n",
    "        self.h = h\n",
    "        self.w = w\n",
    "    def addAge(self):\n",
    "        self.age += 1\n",
    "    def changeH(self, h):\n",
    "        self.h = h\n",
    "    def changeW(self, w):\n",
    "        self.w = w\n"
   ]
  },
  {
   "cell_type": "code",
   "execution_count": 35,
   "id": "a4ef74d7-f2c9-447a-af9b-6456cca7d6bb",
   "metadata": {},
   "outputs": [
    {
     "name": "stdout",
     "output_type": "stream",
     "text": [
      "hong\n",
      "25\n",
      "156\n",
      "33\n"
     ]
    }
   ],
   "source": [
    "hong = Ppl(\"hong\", 25, 156, 33)\n",
    "print(hong.name)\n",
    "print(hong.age)\n",
    "print(hong.h)\n",
    "print(hong.w)"
   ]
  },
  {
   "cell_type": "code",
   "execution_count": null,
   "id": "e503968f-67a6-4d85-addd-0d9e41483069",
   "metadata": {},
   "outputs": [],
   "source": [
    "class BankAcunt:\n",
    "    def __init__(self, "
   ]
  }
 ],
 "metadata": {
  "kernelspec": {
   "display_name": "Python 3 (ipykernel)",
   "language": "python",
   "name": "python3"
  },
  "language_info": {
   "codemirror_mode": {
    "name": "ipython",
    "version": 3
   },
   "file_extension": ".py",
   "mimetype": "text/x-python",
   "name": "python",
   "nbconvert_exporter": "python",
   "pygments_lexer": "ipython3",
   "version": "3.9.13"
  }
 },
 "nbformat": 4,
 "nbformat_minor": 5
}

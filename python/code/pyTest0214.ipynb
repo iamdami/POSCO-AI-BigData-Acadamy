{
 "cells": [
  {
   "cell_type": "code",
   "execution_count": 4,
   "id": "16a01245-090b-4f1c-8f82-1ce017fa5940",
   "metadata": {},
   "outputs": [
    {
     "name": "stdout",
     "output_type": "stream",
     "text": [
      "add:  4\n"
     ]
    }
   ],
   "source": [
    "def add(a, b):\n",
    "    res = a+b\n",
    "    return res\n",
    "\n",
    "a = add(1, 3)\n",
    "print(\"add: \", a)"
   ]
  },
  {
   "cell_type": "code",
   "execution_count": 3,
   "id": "d763613f",
   "metadata": {},
   "outputs": [
    {
     "name": "stdout",
     "output_type": "stream",
     "text": [
      "resAdd:  7\n",
      "resMul:  10\n"
     ]
    }
   ],
   "source": [
    "def addMul(a, b):\n",
    "    return(a+b, a*b)\n",
    "\n",
    "resAdd, resMul = addMul(2, 5)\n",
    "print(\"resAdd: \", resAdd)\n",
    "print(\"resMul: \", resMul)"
   ]
  },
  {
   "cell_type": "code",
   "execution_count": 19,
   "id": "14086387",
   "metadata": {},
   "outputs": [
    {
     "name": "stdout",
     "output_type": "stream",
     "text": [
      "len(a): 6 len(b): 14\n",
      "lenNew(a): 6 lenNew(a):  14\n"
     ]
    }
   ],
   "source": [
    "a = [5, 5, 6, 7, 8, 3]\n",
    "b = \"life is short.\"\n",
    "print(\"len(a):\", len(a), \"len(b):\", len(b))\n",
    "\n",
    "def lenNew(x):\n",
    "    lth = 0\n",
    "    for _ in x:\n",
    "        lth += 1\n",
    "    return lth\n",
    "print(\"lenNew(a):\", lenNew(a), \"lenNew(a): \",lenNew(b))"
   ]
  },
  {
   "cell_type": "code",
   "execution_count": 35,
   "id": "dfaf414c",
   "metadata": {},
   "outputs": [
    {
     "name": "stdout",
     "output_type": "stream",
     "text": [
      "mult: 6\n"
     ]
    }
   ],
   "source": [
    "def mult(a, b):\n",
    "    mulAll = 1\n",
    "    for x in range(a,b+1):\n",
    "        mulAll *= x\n",
    "    return mulAll\n",
    "print(\"mult:\", mult(1, 3))"
   ]
  },
  {
   "cell_type": "code",
   "execution_count": 33,
   "id": "19f9bd1a",
   "metadata": {},
   "outputs": [
    {
     "name": "stdout",
     "output_type": "stream",
     "text": [
      "sum_pos_neg: (3, -11)\n"
     ]
    }
   ],
   "source": [
    "l = [1, -5, 2, -6]\n",
    "\n",
    "def sum_pos_neg(l): \n",
    "    posSum= negSum = 0\n",
    "    for x in l:\n",
    "        if x>0:\n",
    "            posSum += x\n",
    "        elif x<0:\n",
    "            negSum += x\n",
    "        else:\n",
    "            print(\"err\")\n",
    "    return posSum, negSum\n",
    "\n",
    "print(\"sum_pos_neg:\", sum_pos_neg(l))\n",
    "    \n",
    "            "
   ]
  },
  {
   "cell_type": "markdown",
   "id": "6cc235bc",
   "metadata": {},
   "source": [
    "### 가변 매개변수"
   ]
  },
  {
   "cell_type": "code",
   "execution_count": 36,
   "id": "61cd5fe7",
   "metadata": {},
   "outputs": [
    {
     "name": "stdout",
     "output_type": "stream",
     "text": [
      "cntEvn: 1\n"
     ]
    }
   ],
   "source": [
    "def cntEvn(a, *n):  # a 넣어줌으로서 한 개 이상 매개변수 필요(고정 매개변수)\n",
    "    cnt = 0\n",
    "    if a % 2 == 0:\n",
    "            cnt += 1\n",
    "    for v in n:\n",
    "        if v % 2 == 0:\n",
    "            cnt += 1\n",
    "        return cnt\n",
    "\n",
    "print(\"cntEvn:\", cntEvn(22, 5))"
   ]
  },
  {
   "cell_type": "code",
   "execution_count": 37,
   "id": "27f61510",
   "metadata": {},
   "outputs": [],
   "source": [
    "# 일반 매개변수보다 가변 매개변수를 뒤에 써줘야함"
   ]
  },
  {
   "cell_type": "code",
   "execution_count": 50,
   "id": "6a14e6c5",
   "metadata": {},
   "outputs": [
    {
     "name": "stdout",
     "output_type": "stream",
     "text": [
      "m1, m2, m3: [1.5, 1.5] [7.5, 5.5] [4.140000000000001, 2.72]\n"
     ]
    }
   ],
   "source": [
    "def vecSum(vector, *vectors):\n",
    "    vectorSum = [vector[0], vector[1]]\n",
    "    for v in vectors:\n",
    "        if v in vectors:\n",
    "            vectorSum[0] += v[0]\n",
    "            vectorSum[1] += v[1]\n",
    "    return vectorSum\n",
    "\n",
    "v1 = [0, 1]\n",
    "v2 = [0.5, 0.5]\n",
    "v3 = [1, 0]\n",
    "v4 = [6, 4]\n",
    "v5 = [3.14, 2.72]\n",
    "m1 = vecSum(v1, v2, v3)\n",
    "m2 = vecSum(v1, v2, v3, v4)\n",
    "m3 = vecSum(v3, v5)\n",
    "print(\"m1, m2, m3:\", m1, m2, m3)"
   ]
  },
  {
   "cell_type": "markdown",
   "id": "5d351e83",
   "metadata": {},
   "source": [
    "### 디폴트 매개변수"
   ]
  },
  {
   "cell_type": "code",
   "execution_count": 45,
   "id": "a41b85f6",
   "metadata": {},
   "outputs": [],
   "source": [
    "# 함수 호출시 해당 매개변수의 기본값 지정해줄 수 있음\n",
    "# 앞 매개변수가 디폴트 값을 가지면, 뒤에 오는 매개변수는 반드시 디폴트 값을 가져야 함"
   ]
  },
  {
   "cell_type": "markdown",
   "id": "d4f72024",
   "metadata": {},
   "source": [
    "### 키워드 매개변수"
   ]
  },
  {
   "cell_type": "code",
   "execution_count": 65,
   "id": "af36024a",
   "metadata": {},
   "outputs": [
    {
     "name": "stdout",
     "output_type": "stream",
     "text": [
      "mL1: [1, 1, 2, 2, 3, 5, 9] mL2: [1, 4, 6, 9] mL3: [0, 1]\n"
     ]
    }
   ],
   "source": [
    "def mer_list(l = [0], merList = [1]):\n",
    "    merListSum = l + merList\n",
    "    merListSum.sort()\n",
    "    return merListSum\n",
    "    \n",
    "l = [3, 5, 9, 1, 2]\n",
    "mL1 = mer_list(l, [2, 1])\n",
    "mL2 = mer_list([6, 9, 4])\n",
    "mL3 = mer_list()\n",
    "print(\"mL1:\", mL1, \"mL2:\", mL2, \"mL3:\", mL3)"
   ]
  },
  {
   "cell_type": "markdown",
   "id": "f922d00e",
   "metadata": {},
   "source": [
    "### 지역변수, 전역변수"
   ]
  },
  {
   "cell_type": "code",
   "execution_count": 67,
   "id": "e3f3c776",
   "metadata": {},
   "outputs": [],
   "source": [
    "# 함수 안에서 전역변수 수정 불가, global 키워드 사용하면 수정 가능"
   ]
  },
  {
   "cell_type": "code",
   "execution_count": 81,
   "id": "8fe98584",
   "metadata": {},
   "outputs": [
    {
     "name": "stdout",
     "output_type": "stream",
     "text": [
      "7\n"
     ]
    }
   ],
   "source": [
    "import calcul as c\n",
    "a = c.add(3, 4)\n",
    "print(a)"
   ]
  },
  {
   "cell_type": "code",
   "execution_count": 83,
   "id": "df95d442",
   "metadata": {},
   "outputs": [
    {
     "name": "stdout",
     "output_type": "stream",
     "text": [
      "12\n"
     ]
    }
   ],
   "source": [
    "from calcul import mul\n",
    "m = mul(3, 4)\n",
    "print(m)"
   ]
  },
  {
   "cell_type": "code",
   "execution_count": 84,
   "id": "e649916d",
   "metadata": {},
   "outputs": [
    {
     "name": "stdout",
     "output_type": "stream",
     "text": [
      "['__builtins__', '__cached__', '__doc__', '__file__', '__loader__', '__name__', '__package__', '__spec__', 'add', 'div', 'mul', 'sub']\n"
     ]
    }
   ],
   "source": [
    "import calcul\n",
    "print(dir(calcul))"
   ]
  }
 ],
 "metadata": {
  "kernelspec": {
   "display_name": "Python 3 (ipykernel)",
   "language": "python",
   "name": "python3"
  },
  "language_info": {
   "codemirror_mode": {
    "name": "ipython",
    "version": 3
   },
   "file_extension": ".py",
   "mimetype": "text/x-python",
   "name": "python",
   "nbconvert_exporter": "python",
   "pygments_lexer": "ipython3",
   "version": "3.9.13"
  }
 },
 "nbformat": 4,
 "nbformat_minor": 5
}
